{
  "nbformat": 4,
  "nbformat_minor": 0,
  "metadata": {
    "colab": {
      "provenance": [],
      "mount_file_id": "1e0eSFZebXmVc11YFwHwK52ojs7_puZwB",
      "authorship_tag": "ABX9TyOMqjUL2BLBsI2MdrLM9xHz",
      "include_colab_link": true
    },
    "kernelspec": {
      "name": "python3",
      "display_name": "Python 3"
    },
    "language_info": {
      "name": "python"
    }
  },
  "cells": [
    {
      "cell_type": "markdown",
      "metadata": {
        "id": "view-in-github",
        "colab_type": "text"
      },
      "source": [
        "<a href=\"https://colab.research.google.com/github/AlexeyTri/PROJECT_SCOOL/blob/master/CreateGSPS.ipynb\" target=\"_parent\"><img src=\"https://colab.research.google.com/assets/colab-badge.svg\" alt=\"Open In Colab\"/></a>"
      ]
    },
    {
      "cell_type": "markdown",
      "source": [
        "# Подключение данных\n"
      ],
      "metadata": {
        "id": "7JLpupsfcAVT"
      }
    },
    {
      "cell_type": "code",
      "execution_count": 1,
      "metadata": {
        "id": "O8Cqk3vhctqr"
      },
      "outputs": [],
      "source": [
        "from google.colab import auth\n",
        "auth.authenticate_user()\n",
        "\n",
        "import pandas as pd\n",
        "import re\n",
        "import gspread\n",
        "from google.auth import default\n",
        "creds, _ = default()\n",
        "import numpy as np\n",
        "gc = gspread.authorize(creds)\n",
        "from datetime import datetime\n",
        "\n",
        "# worksheet = gc.open('План работ Договор Адамант').sheet1\n",
        "worksheet = gc.open('План работ Договор Адамант')\n",
        "\n",
        "# get_all_values gives a list of rows.\n",
        "# rows = worksheet.get_all_values()\n",
        "# print(rows)\n",
        "\n",
        "# # Convert to a DataFrame and render.\n",
        "# pd.DataFrame.from_records(rows)"
      ]
    },
    {
      "cell_type": "markdown",
      "source": [
        "* данный финансового плана импортируются из АСС, папка соответсвующего договора TODO\n",
        "* объем по контракту необходимо формировать из бим-модели, либо подгружать из РД, через процедуру проверки по ППР TODO"
      ],
      "metadata": {
        "id": "TurhI3Zj3JzK"
      }
    },
    {
      "cell_type": "code",
      "source": [
        "import numpy as np\n",
        "fin = worksheet.worksheet(\"FINANCE PLAN\")\n",
        "fin = fin.get_all_values()\n",
        "fin = np.array(fin)\n",
        "fin =  pd.DataFrame(fin[5:, :7])\n",
        "fin"
      ],
      "metadata": {
        "id": "diMOjXqk2yYc",
        "outputId": "1a75cd70-0902-457b-c07c-6dd09fecce46",
        "colab": {
          "base_uri": "https://localhost:8080/",
          "height": 424
        }
      },
      "execution_count": 2,
      "outputs": [
        {
          "output_type": "execute_result",
          "data": {
            "text/plain": [
              "                            0  \\\n",
              "0          VZO_POS1_POD_MOB_.   \n",
              "1    VZO_POS1_POD_VRD_DP17.01   \n",
              "2     VZO_POS1_POD_VRS_ES0.01   \n",
              "3     VZO_POS1_POD_VRS_VK0.01   \n",
              "4    VZO_POS1_POD_VRD_DP17.02   \n",
              "..                        ...   \n",
              "368                BOT_GP___.   \n",
              "369                    BOT_GP   \n",
              "370                  _EXP___.   \n",
              "371                  _ZOS___.   \n",
              "372                  _RNV___.   \n",
              "\n",
              "                                                     1           2  \\\n",
              "0                                          Мобилизация  10.10.2022   \n",
              "1           Временные дороги из дорожных плит (3х1.75)  26.10.2022   \n",
              "2    Временные электросети - установленные на начал...  23.11.2022   \n",
              "3    Временный водопровод и канализация (с подогрев...  19.10.2022   \n",
              "4    Устройство основания под бытовые помещения (по...  16.10.2022   \n",
              "..                                                 ...         ...   \n",
              "368                          Работы по благоустройству  18.11.2022   \n",
              "369                 Выдача рабочего проекта по разделу  18.11.2022   \n",
              "370                        Ввод объекта в эксплуатацию  14.03.2024   \n",
              "371                                                ЗОС  14.03.2024   \n",
              "372                 Ввод объекта в эксплуатацию ( РНВ)  25.04.2024   \n",
              "\n",
              "              3                  4         5    6  \n",
              "0    10.05.2024                                    \n",
              "1    18.02.2023        3 646,89 ₽         м2  300  \n",
              "2    12.12.2022      333 333,34 ₽   комплект    2  \n",
              "3    14.11.2022    6 666 666,67 ₽   комплект    1  \n",
              "4    09.11.2022        3 669,83 ₽         м2  200  \n",
              "..          ...                ...       ...  ...  \n",
              "368  05.04.2024                                    \n",
              "369  18.11.2022                                    \n",
              "370  06.06.2024                                    \n",
              "371  24.04.2024                                    \n",
              "372  06.06.2024                                    \n",
              "\n",
              "[373 rows x 7 columns]"
            ],
            "text/html": [
              "\n",
              "  <div id=\"df-dee0cdda-86db-4e8f-b5ec-c26ad17b380d\">\n",
              "    <div class=\"colab-df-container\">\n",
              "      <div>\n",
              "<style scoped>\n",
              "    .dataframe tbody tr th:only-of-type {\n",
              "        vertical-align: middle;\n",
              "    }\n",
              "\n",
              "    .dataframe tbody tr th {\n",
              "        vertical-align: top;\n",
              "    }\n",
              "\n",
              "    .dataframe thead th {\n",
              "        text-align: right;\n",
              "    }\n",
              "</style>\n",
              "<table border=\"1\" class=\"dataframe\">\n",
              "  <thead>\n",
              "    <tr style=\"text-align: right;\">\n",
              "      <th></th>\n",
              "      <th>0</th>\n",
              "      <th>1</th>\n",
              "      <th>2</th>\n",
              "      <th>3</th>\n",
              "      <th>4</th>\n",
              "      <th>5</th>\n",
              "      <th>6</th>\n",
              "    </tr>\n",
              "  </thead>\n",
              "  <tbody>\n",
              "    <tr>\n",
              "      <th>0</th>\n",
              "      <td>VZO_POS1_POD_MOB_.</td>\n",
              "      <td>Мобилизация</td>\n",
              "      <td>10.10.2022</td>\n",
              "      <td>10.05.2024</td>\n",
              "      <td></td>\n",
              "      <td></td>\n",
              "      <td></td>\n",
              "    </tr>\n",
              "    <tr>\n",
              "      <th>1</th>\n",
              "      <td>VZO_POS1_POD_VRD_DP17.01</td>\n",
              "      <td>Временные дороги из дорожных плит (3х1.75)</td>\n",
              "      <td>26.10.2022</td>\n",
              "      <td>18.02.2023</td>\n",
              "      <td>3 646,89 ₽</td>\n",
              "      <td>м2</td>\n",
              "      <td>300</td>\n",
              "    </tr>\n",
              "    <tr>\n",
              "      <th>2</th>\n",
              "      <td>VZO_POS1_POD_VRS_ES0.01</td>\n",
              "      <td>Временные электросети - установленные на начал...</td>\n",
              "      <td>23.11.2022</td>\n",
              "      <td>12.12.2022</td>\n",
              "      <td>333 333,34 ₽</td>\n",
              "      <td>комплект</td>\n",
              "      <td>2</td>\n",
              "    </tr>\n",
              "    <tr>\n",
              "      <th>3</th>\n",
              "      <td>VZO_POS1_POD_VRS_VK0.01</td>\n",
              "      <td>Временный водопровод и канализация (с подогрев...</td>\n",
              "      <td>19.10.2022</td>\n",
              "      <td>14.11.2022</td>\n",
              "      <td>6 666 666,67 ₽</td>\n",
              "      <td>комплект</td>\n",
              "      <td>1</td>\n",
              "    </tr>\n",
              "    <tr>\n",
              "      <th>4</th>\n",
              "      <td>VZO_POS1_POD_VRD_DP17.02</td>\n",
              "      <td>Устройство основания под бытовые помещения (по...</td>\n",
              "      <td>16.10.2022</td>\n",
              "      <td>09.11.2022</td>\n",
              "      <td>3 669,83 ₽</td>\n",
              "      <td>м2</td>\n",
              "      <td>200</td>\n",
              "    </tr>\n",
              "    <tr>\n",
              "      <th>...</th>\n",
              "      <td>...</td>\n",
              "      <td>...</td>\n",
              "      <td>...</td>\n",
              "      <td>...</td>\n",
              "      <td>...</td>\n",
              "      <td>...</td>\n",
              "      <td>...</td>\n",
              "    </tr>\n",
              "    <tr>\n",
              "      <th>368</th>\n",
              "      <td>BOT_GP___.</td>\n",
              "      <td>Работы по благоустройству</td>\n",
              "      <td>18.11.2022</td>\n",
              "      <td>05.04.2024</td>\n",
              "      <td></td>\n",
              "      <td></td>\n",
              "      <td></td>\n",
              "    </tr>\n",
              "    <tr>\n",
              "      <th>369</th>\n",
              "      <td>BOT_GP</td>\n",
              "      <td>Выдача рабочего проекта по разделу</td>\n",
              "      <td>18.11.2022</td>\n",
              "      <td>18.11.2022</td>\n",
              "      <td></td>\n",
              "      <td></td>\n",
              "      <td></td>\n",
              "    </tr>\n",
              "    <tr>\n",
              "      <th>370</th>\n",
              "      <td>_EXP___.</td>\n",
              "      <td>Ввод объекта в эксплуатацию</td>\n",
              "      <td>14.03.2024</td>\n",
              "      <td>06.06.2024</td>\n",
              "      <td></td>\n",
              "      <td></td>\n",
              "      <td></td>\n",
              "    </tr>\n",
              "    <tr>\n",
              "      <th>371</th>\n",
              "      <td>_ZOS___.</td>\n",
              "      <td>ЗОС</td>\n",
              "      <td>14.03.2024</td>\n",
              "      <td>24.04.2024</td>\n",
              "      <td></td>\n",
              "      <td></td>\n",
              "      <td></td>\n",
              "    </tr>\n",
              "    <tr>\n",
              "      <th>372</th>\n",
              "      <td>_RNV___.</td>\n",
              "      <td>Ввод объекта в эксплуатацию ( РНВ)</td>\n",
              "      <td>25.04.2024</td>\n",
              "      <td>06.06.2024</td>\n",
              "      <td></td>\n",
              "      <td></td>\n",
              "      <td></td>\n",
              "    </tr>\n",
              "  </tbody>\n",
              "</table>\n",
              "<p>373 rows × 7 columns</p>\n",
              "</div>\n",
              "      <button class=\"colab-df-convert\" onclick=\"convertToInteractive('df-dee0cdda-86db-4e8f-b5ec-c26ad17b380d')\"\n",
              "              title=\"Convert this dataframe to an interactive table.\"\n",
              "              style=\"display:none;\">\n",
              "        \n",
              "  <svg xmlns=\"http://www.w3.org/2000/svg\" height=\"24px\"viewBox=\"0 0 24 24\"\n",
              "       width=\"24px\">\n",
              "    <path d=\"M0 0h24v24H0V0z\" fill=\"none\"/>\n",
              "    <path d=\"M18.56 5.44l.94 2.06.94-2.06 2.06-.94-2.06-.94-.94-2.06-.94 2.06-2.06.94zm-11 1L8.5 8.5l.94-2.06 2.06-.94-2.06-.94L8.5 2.5l-.94 2.06-2.06.94zm10 10l.94 2.06.94-2.06 2.06-.94-2.06-.94-.94-2.06-.94 2.06-2.06.94z\"/><path d=\"M17.41 7.96l-1.37-1.37c-.4-.4-.92-.59-1.43-.59-.52 0-1.04.2-1.43.59L10.3 9.45l-7.72 7.72c-.78.78-.78 2.05 0 2.83L4 21.41c.39.39.9.59 1.41.59.51 0 1.02-.2 1.41-.59l7.78-7.78 2.81-2.81c.8-.78.8-2.07 0-2.86zM5.41 20L4 18.59l7.72-7.72 1.47 1.35L5.41 20z\"/>\n",
              "  </svg>\n",
              "      </button>\n",
              "      \n",
              "  <style>\n",
              "    .colab-df-container {\n",
              "      display:flex;\n",
              "      flex-wrap:wrap;\n",
              "      gap: 12px;\n",
              "    }\n",
              "\n",
              "    .colab-df-convert {\n",
              "      background-color: #E8F0FE;\n",
              "      border: none;\n",
              "      border-radius: 50%;\n",
              "      cursor: pointer;\n",
              "      display: none;\n",
              "      fill: #1967D2;\n",
              "      height: 32px;\n",
              "      padding: 0 0 0 0;\n",
              "      width: 32px;\n",
              "    }\n",
              "\n",
              "    .colab-df-convert:hover {\n",
              "      background-color: #E2EBFA;\n",
              "      box-shadow: 0px 1px 2px rgba(60, 64, 67, 0.3), 0px 1px 3px 1px rgba(60, 64, 67, 0.15);\n",
              "      fill: #174EA6;\n",
              "    }\n",
              "\n",
              "    [theme=dark] .colab-df-convert {\n",
              "      background-color: #3B4455;\n",
              "      fill: #D2E3FC;\n",
              "    }\n",
              "\n",
              "    [theme=dark] .colab-df-convert:hover {\n",
              "      background-color: #434B5C;\n",
              "      box-shadow: 0px 1px 3px 1px rgba(0, 0, 0, 0.15);\n",
              "      filter: drop-shadow(0px 1px 2px rgba(0, 0, 0, 0.3));\n",
              "      fill: #FFFFFF;\n",
              "    }\n",
              "  </style>\n",
              "\n",
              "      <script>\n",
              "        const buttonEl =\n",
              "          document.querySelector('#df-dee0cdda-86db-4e8f-b5ec-c26ad17b380d button.colab-df-convert');\n",
              "        buttonEl.style.display =\n",
              "          google.colab.kernel.accessAllowed ? 'block' : 'none';\n",
              "\n",
              "        async function convertToInteractive(key) {\n",
              "          const element = document.querySelector('#df-dee0cdda-86db-4e8f-b5ec-c26ad17b380d');\n",
              "          const dataTable =\n",
              "            await google.colab.kernel.invokeFunction('convertToInteractive',\n",
              "                                                     [key], {});\n",
              "          if (!dataTable) return;\n",
              "\n",
              "          const docLinkHtml = 'Like what you see? Visit the ' +\n",
              "            '<a target=\"_blank\" href=https://colab.research.google.com/notebooks/data_table.ipynb>data table notebook</a>'\n",
              "            + ' to learn more about interactive tables.';\n",
              "          element.innerHTML = '';\n",
              "          dataTable['output_type'] = 'display_data';\n",
              "          await google.colab.output.renderOutput(dataTable, element);\n",
              "          const docLink = document.createElement('div');\n",
              "          docLink.innerHTML = docLinkHtml;\n",
              "          element.appendChild(docLink);\n",
              "        }\n",
              "      </script>\n",
              "    </div>\n",
              "  </div>\n",
              "  "
            ]
          },
          "metadata": {},
          "execution_count": 2
        }
      ]
    },
    {
      "cell_type": "code",
      "source": [
        "fin.rename(columns = {0:'id', \n",
        "                       1:'WORK',2:'START', 3:'FINISH', 4:'PRICE for ONE', 5:'UNITS OF MEASUREMENT',6:'VALUE CONTRACT'}, \n",
        "            inplace = True)"
      ],
      "metadata": {
        "id": "y4M3DMtR_BZm"
      },
      "execution_count": 3,
      "outputs": []
    },
    {
      "cell_type": "code",
      "source": [
        "fin = fin.set_index(\"id\")\n",
        "fin = fin[fin.index > '']"
      ],
      "metadata": {
        "id": "1CQMqfgU8noe"
      },
      "execution_count": 4,
      "outputs": []
    },
    {
      "cell_type": "markdown",
      "source": [
        "Приводим строковые значения к числовым "
      ],
      "metadata": {
        "id": "zXyLPcsTawON"
      }
    },
    {
      "cell_type": "code",
      "source": [
        "fin['PRICE for ONE'] = fin['PRICE for ONE'].map(lambda x: pd.to_numeric(re.sub(\"[^0-9+,]\", \"\", x).replace(',','.')))\n",
        "fin['VALUE CONTRACT'] = fin['VALUE CONTRACT'].map(lambda x: pd.to_numeric(re.sub(\"[^0-9+,]\", \"\", x).replace(',','.')))"
      ],
      "metadata": {
        "id": "-rMzyKkbCF4u"
      },
      "execution_count": 5,
      "outputs": []
    },
    {
      "cell_type": "markdown",
      "source": [
        "Приводим значения дат в формат date"
      ],
      "metadata": {
        "id": "uF5gFLtoa7bh"
      }
    },
    {
      "cell_type": "code",
      "source": [
        "fin['START'] = pd.to_datetime(fin['START'])   \n",
        "fin['FINISH']= pd.to_datetime(fin['FINISH'])   "
      ],
      "metadata": {
        "id": "xufXIXdLAa42"
      },
      "execution_count": 6,
      "outputs": []
    },
    {
      "cell_type": "markdown",
      "source": [
        "Завершаем предобработку таблицы - заменяем все значения Nan на \"0\""
      ],
      "metadata": {
        "id": "9lAJuI9mQ8Qc"
      }
    },
    {
      "cell_type": "code",
      "source": [
        "fin = fin.fillna(0)"
      ],
      "metadata": {
        "id": "nd5LMm9-Qb3e"
      },
      "execution_count": 7,
      "outputs": []
    },
    {
      "cell_type": "markdown",
      "source": [
        "# Формирование листа FINANCE\n",
        "\n",
        "Задача: на основе данных из условий договора и данных по планируемому и фактическому выполнению (сейчас данные по факту просто берем из таблицы ПЛАН)\n",
        "\n",
        "* расчет общей стоимости по контракту\n",
        "* формирование плановой стоимости работ на соответсвующую дату: за период\n",
        "* формирование плановой стоимости работ на соответсвующую дату: накопительная сумма\n",
        "* формирование фактической стоимости работ на соответсвующую дату: за период\n",
        "* формирование фактической стоимости работ на соответсвующую дату: накопительная сумма\n",
        "* внесение корректировок и обновлений при формировании ДС\n",
        "\n",
        "❗ сравнение с нашей базой расценок \n",
        "\n",
        "\n"
      ],
      "metadata": {
        "id": "d3fd4oQsRT1E"
      }
    },
    {
      "cell_type": "code",
      "source": [
        "fin['TOTAL PRICE'] = fin['PRICE for ONE'] * fin['VALUE CONTRACT']"
      ],
      "metadata": {
        "id": "cn9GdyeBV6zv"
      },
      "execution_count": 8,
      "outputs": []
    },
    {
      "cell_type": "markdown",
      "source": [
        "# Предобработка листа ГРАФИК РАБОТ"
      ],
      "metadata": {
        "id": "E9OyCNZssipJ"
      }
    },
    {
      "cell_type": "markdown",
      "source": [
        "Подключаем лист ГРАФИК РАБОТ"
      ],
      "metadata": {
        "id": "UiwgznwxZNS8"
      }
    },
    {
      "cell_type": "code",
      "source": [
        "graf = worksheet.worksheet(\"ГРАФИК РАБОТ\")\n",
        "graf = graf.get_all_values()\n",
        "graf = np.array(graf)\n",
        "graf =  pd.DataFrame(graf[1:, :])"
      ],
      "metadata": {
        "id": "X7xBTKOMZSnM"
      },
      "execution_count": 9,
      "outputs": []
    },
    {
      "cell_type": "code",
      "source": [
        "graf_name = graf[[0,1]][2:]\n",
        "graf_name.rename(columns={0: 'id', 1: 'WORK'}, inplace=True) \n",
        "graf_name = graf_name[graf_name['id'] != 0]\n",
        "graf_name = pd.DataFrame(graf_name['WORK'].values, index=graf_name['id'], columns=['WORK'])"
      ],
      "metadata": {
        "id": "ie_VUOLBqH32"
      },
      "execution_count": 10,
      "outputs": []
    },
    {
      "cell_type": "markdown",
      "source": [
        "Предобработка данных в таблице:\n",
        "* приведение данных в необходимый формат\n",
        "* корректировка наименования столбцов и индексов"
      ],
      "metadata": {
        "id": "H5IWDLhK0TDr"
      }
    },
    {
      "cell_type": "code",
      "source": [
        "graf.drop(graf.index[1:10], axis=1, inplace=True)"
      ],
      "metadata": {
        "id": "cnkrFGi84aac"
      },
      "execution_count": 11,
      "outputs": []
    },
    {
      "cell_type": "markdown",
      "source": [
        "Формируем два списка для мультииндексов"
      ],
      "metadata": {
        "id": "uoOA9TkxAYeC"
      }
    },
    {
      "cell_type": "code",
      "source": [
        "newColumnsIndex = [pd.to_datetime(pd.Series(graf.iloc[0].values[1:]).apply(lambda x: str(x)), format='%d.%m.%Y'), graf.iloc[1][1:].values]"
      ],
      "metadata": {
        "id": "yaxX4QLl4ach"
      },
      "execution_count": 12,
      "outputs": []
    },
    {
      "cell_type": "code",
      "source": [
        "graf.rename(columns={0: 'id'}, inplace=True)"
      ],
      "metadata": {
        "id": "jp2OzAE64ae5"
      },
      "execution_count": 13,
      "outputs": []
    },
    {
      "cell_type": "code",
      "source": [
        "graf = graf.set_index(\"id\")"
      ],
      "metadata": {
        "id": "-H7LRJkM4aiQ"
      },
      "execution_count": 14,
      "outputs": []
    },
    {
      "cell_type": "code",
      "source": [
        "graf = pd.DataFrame(graf.values, index=graf.index, columns=newColumnsIndex)"
      ],
      "metadata": {
        "id": "5hZ6QpX_4auO"
      },
      "execution_count": 15,
      "outputs": []
    },
    {
      "cell_type": "code",
      "source": [
        "graf.drop(graf.index[:2], axis=0, inplace=True)"
      ],
      "metadata": {
        "id": "1EVu03Dt-ggX"
      },
      "execution_count": 16,
      "outputs": []
    },
    {
      "cell_type": "code",
      "source": [
        "for i in graf.columns:\n",
        "    graf[i] = graf[i].map(lambda x: pd.to_numeric(re.sub(\"[^0-9 +,]\", \"\", x).replace(',','.')))"
      ],
      "metadata": {
        "id": "l2PJdmREFWSx"
      },
      "execution_count": 17,
      "outputs": []
    },
    {
      "cell_type": "code",
      "source": [
        "graf.fillna(0, inplace=True)\n",
        "graf.sort_index(axis=0, level=1, ascending=True)"
      ],
      "metadata": {
        "id": "dhpH3d8nRDG-",
        "outputId": "fd0048c5-453c-4972-fc23-fabd8d00fe24",
        "colab": {
          "base_uri": "https://localhost:8080/",
          "height": 548
        }
      },
      "execution_count": 18,
      "outputs": [
        {
          "output_type": "execute_result",
          "data": {
            "text/plain": [
              "                        2022-10-10      2022-10-11      2022-10-12       \\\n",
              "                              план факт       план факт       план факт   \n",
              "id                                                                        \n",
              "                               0.0  0.0        0.0  0.0        0.0  0.0   \n",
              "                               0.0  0.0        0.0  0.0        0.0  0.0   \n",
              "                               0.0  0.0        0.0  0.0        0.0  0.0   \n",
              "                               0.0  0.0        0.0  0.0        0.0  0.0   \n",
              "                               0.0  0.0        0.0  0.0        0.0  0.0   \n",
              "...                            ...  ...        ...  ...        ...  ...   \n",
              "VZO_POS1_POD_VRZ_MBT.01        0.0  0.0        0.0  0.0        0.0  0.0   \n",
              "VZO_POS1_POD_VRZ_WC.02         0.0  0.0        0.0  0.0        0.0  0.0   \n",
              "_EXP___.                       0.0  0.0        0.0  0.0        0.0  0.0   \n",
              "_RNV___.                       0.0  0.0        0.0  0.0        0.0  0.0   \n",
              "_ZOS___.                       0.0  0.0        0.0  0.0        0.0  0.0   \n",
              "\n",
              "                        2022-10-13      2022-10-14       ... 2023-02-23       \\\n",
              "                              план факт       план факт  ...       план факт   \n",
              "id                                                       ...                   \n",
              "                               0.0  0.0        0.0  0.0  ...        0.0  0.0   \n",
              "                               0.0  0.0        0.0  0.0  ...        0.0  0.0   \n",
              "                               0.0  0.0        0.0  0.0  ...        0.0  0.0   \n",
              "                               0.0  0.0        0.0  0.0  ...        0.0  0.0   \n",
              "                               0.0  0.0        0.0  0.0  ...        0.0  0.0   \n",
              "...                            ...  ...        ...  ...  ...        ...  ...   \n",
              "VZO_POS1_POD_VRZ_MBT.01        0.0  0.0        0.0  0.0  ...        0.0  0.0   \n",
              "VZO_POS1_POD_VRZ_WC.02         0.0  0.0        0.0  0.0  ...        0.0  0.0   \n",
              "_EXP___.                       0.0  0.0        0.0  0.0  ...        0.0  0.0   \n",
              "_RNV___.                       0.0  0.0        0.0  0.0  ...        0.0  0.0   \n",
              "_ZOS___.                       0.0  0.0        0.0  0.0  ...        0.0  0.0   \n",
              "\n",
              "                        2023-02-24      2023-02-25      2023-02-26       \\\n",
              "                              план факт       план факт       план факт   \n",
              "id                                                                        \n",
              "                               0.0  0.0        0.0  0.0        0.0  0.0   \n",
              "                               0.0  0.0        0.0  0.0        0.0  0.0   \n",
              "                               0.0  0.0        0.0  0.0        0.0  0.0   \n",
              "                               0.0  0.0        0.0  0.0        0.0  0.0   \n",
              "                               0.0  0.0        0.0  0.0       47.3  0.0   \n",
              "...                            ...  ...        ...  ...        ...  ...   \n",
              "VZO_POS1_POD_VRZ_MBT.01        0.0  0.0        0.0  0.0        0.0  0.0   \n",
              "VZO_POS1_POD_VRZ_WC.02         0.0  0.0        0.0  0.0        0.0  0.0   \n",
              "_EXP___.                       0.0  0.0        0.0  0.0        0.0  0.0   \n",
              "_RNV___.                       0.0  0.0        0.0  0.0        0.0  0.0   \n",
              "_ZOS___.                       0.0  0.0        0.0  0.0        0.0  0.0   \n",
              "\n",
              "                        2023-02-27       \n",
              "                              план факт  \n",
              "id                                       \n",
              "                               0.0  0.0  \n",
              "                               0.0  0.0  \n",
              "                               0.0  0.0  \n",
              "                               0.0  0.0  \n",
              "                               0.0  0.0  \n",
              "...                            ...  ...  \n",
              "VZO_POS1_POD_VRZ_MBT.01        0.0  0.0  \n",
              "VZO_POS1_POD_VRZ_WC.02         0.0  0.0  \n",
              "_EXP___.                       0.0  0.0  \n",
              "_RNV___.                       0.0  0.0  \n",
              "_ZOS___.                       0.0  0.0  \n",
              "\n",
              "[398 rows x 282 columns]"
            ],
            "text/html": [
              "\n",
              "  <div id=\"df-1f13f0f6-2ce7-41c5-9f82-34b01006c50b\">\n",
              "    <div class=\"colab-df-container\">\n",
              "      <div>\n",
              "<style scoped>\n",
              "    .dataframe tbody tr th:only-of-type {\n",
              "        vertical-align: middle;\n",
              "    }\n",
              "\n",
              "    .dataframe tbody tr th {\n",
              "        vertical-align: top;\n",
              "    }\n",
              "\n",
              "    .dataframe thead tr th {\n",
              "        text-align: left;\n",
              "    }\n",
              "\n",
              "    .dataframe thead tr:last-of-type th {\n",
              "        text-align: right;\n",
              "    }\n",
              "</style>\n",
              "<table border=\"1\" class=\"dataframe\">\n",
              "  <thead>\n",
              "    <tr>\n",
              "      <th></th>\n",
              "      <th colspan=\"2\" halign=\"left\">2022-10-10</th>\n",
              "      <th colspan=\"2\" halign=\"left\">2022-10-11</th>\n",
              "      <th colspan=\"2\" halign=\"left\">2022-10-12</th>\n",
              "      <th colspan=\"2\" halign=\"left\">2022-10-13</th>\n",
              "      <th colspan=\"2\" halign=\"left\">2022-10-14</th>\n",
              "      <th>...</th>\n",
              "      <th colspan=\"2\" halign=\"left\">2023-02-23</th>\n",
              "      <th colspan=\"2\" halign=\"left\">2023-02-24</th>\n",
              "      <th colspan=\"2\" halign=\"left\">2023-02-25</th>\n",
              "      <th colspan=\"2\" halign=\"left\">2023-02-26</th>\n",
              "      <th colspan=\"2\" halign=\"left\">2023-02-27</th>\n",
              "    </tr>\n",
              "    <tr>\n",
              "      <th></th>\n",
              "      <th>план</th>\n",
              "      <th>факт</th>\n",
              "      <th>план</th>\n",
              "      <th>факт</th>\n",
              "      <th>план</th>\n",
              "      <th>факт</th>\n",
              "      <th>план</th>\n",
              "      <th>факт</th>\n",
              "      <th>план</th>\n",
              "      <th>факт</th>\n",
              "      <th>...</th>\n",
              "      <th>план</th>\n",
              "      <th>факт</th>\n",
              "      <th>план</th>\n",
              "      <th>факт</th>\n",
              "      <th>план</th>\n",
              "      <th>факт</th>\n",
              "      <th>план</th>\n",
              "      <th>факт</th>\n",
              "      <th>план</th>\n",
              "      <th>факт</th>\n",
              "    </tr>\n",
              "    <tr>\n",
              "      <th>id</th>\n",
              "      <th></th>\n",
              "      <th></th>\n",
              "      <th></th>\n",
              "      <th></th>\n",
              "      <th></th>\n",
              "      <th></th>\n",
              "      <th></th>\n",
              "      <th></th>\n",
              "      <th></th>\n",
              "      <th></th>\n",
              "      <th></th>\n",
              "      <th></th>\n",
              "      <th></th>\n",
              "      <th></th>\n",
              "      <th></th>\n",
              "      <th></th>\n",
              "      <th></th>\n",
              "      <th></th>\n",
              "      <th></th>\n",
              "      <th></th>\n",
              "      <th></th>\n",
              "    </tr>\n",
              "  </thead>\n",
              "  <tbody>\n",
              "    <tr>\n",
              "      <th></th>\n",
              "      <td>0.0</td>\n",
              "      <td>0.0</td>\n",
              "      <td>0.0</td>\n",
              "      <td>0.0</td>\n",
              "      <td>0.0</td>\n",
              "      <td>0.0</td>\n",
              "      <td>0.0</td>\n",
              "      <td>0.0</td>\n",
              "      <td>0.0</td>\n",
              "      <td>0.0</td>\n",
              "      <td>...</td>\n",
              "      <td>0.0</td>\n",
              "      <td>0.0</td>\n",
              "      <td>0.0</td>\n",
              "      <td>0.0</td>\n",
              "      <td>0.0</td>\n",
              "      <td>0.0</td>\n",
              "      <td>0.0</td>\n",
              "      <td>0.0</td>\n",
              "      <td>0.0</td>\n",
              "      <td>0.0</td>\n",
              "    </tr>\n",
              "    <tr>\n",
              "      <th></th>\n",
              "      <td>0.0</td>\n",
              "      <td>0.0</td>\n",
              "      <td>0.0</td>\n",
              "      <td>0.0</td>\n",
              "      <td>0.0</td>\n",
              "      <td>0.0</td>\n",
              "      <td>0.0</td>\n",
              "      <td>0.0</td>\n",
              "      <td>0.0</td>\n",
              "      <td>0.0</td>\n",
              "      <td>...</td>\n",
              "      <td>0.0</td>\n",
              "      <td>0.0</td>\n",
              "      <td>0.0</td>\n",
              "      <td>0.0</td>\n",
              "      <td>0.0</td>\n",
              "      <td>0.0</td>\n",
              "      <td>0.0</td>\n",
              "      <td>0.0</td>\n",
              "      <td>0.0</td>\n",
              "      <td>0.0</td>\n",
              "    </tr>\n",
              "    <tr>\n",
              "      <th></th>\n",
              "      <td>0.0</td>\n",
              "      <td>0.0</td>\n",
              "      <td>0.0</td>\n",
              "      <td>0.0</td>\n",
              "      <td>0.0</td>\n",
              "      <td>0.0</td>\n",
              "      <td>0.0</td>\n",
              "      <td>0.0</td>\n",
              "      <td>0.0</td>\n",
              "      <td>0.0</td>\n",
              "      <td>...</td>\n",
              "      <td>0.0</td>\n",
              "      <td>0.0</td>\n",
              "      <td>0.0</td>\n",
              "      <td>0.0</td>\n",
              "      <td>0.0</td>\n",
              "      <td>0.0</td>\n",
              "      <td>0.0</td>\n",
              "      <td>0.0</td>\n",
              "      <td>0.0</td>\n",
              "      <td>0.0</td>\n",
              "    </tr>\n",
              "    <tr>\n",
              "      <th></th>\n",
              "      <td>0.0</td>\n",
              "      <td>0.0</td>\n",
              "      <td>0.0</td>\n",
              "      <td>0.0</td>\n",
              "      <td>0.0</td>\n",
              "      <td>0.0</td>\n",
              "      <td>0.0</td>\n",
              "      <td>0.0</td>\n",
              "      <td>0.0</td>\n",
              "      <td>0.0</td>\n",
              "      <td>...</td>\n",
              "      <td>0.0</td>\n",
              "      <td>0.0</td>\n",
              "      <td>0.0</td>\n",
              "      <td>0.0</td>\n",
              "      <td>0.0</td>\n",
              "      <td>0.0</td>\n",
              "      <td>0.0</td>\n",
              "      <td>0.0</td>\n",
              "      <td>0.0</td>\n",
              "      <td>0.0</td>\n",
              "    </tr>\n",
              "    <tr>\n",
              "      <th></th>\n",
              "      <td>0.0</td>\n",
              "      <td>0.0</td>\n",
              "      <td>0.0</td>\n",
              "      <td>0.0</td>\n",
              "      <td>0.0</td>\n",
              "      <td>0.0</td>\n",
              "      <td>0.0</td>\n",
              "      <td>0.0</td>\n",
              "      <td>0.0</td>\n",
              "      <td>0.0</td>\n",
              "      <td>...</td>\n",
              "      <td>0.0</td>\n",
              "      <td>0.0</td>\n",
              "      <td>0.0</td>\n",
              "      <td>0.0</td>\n",
              "      <td>0.0</td>\n",
              "      <td>0.0</td>\n",
              "      <td>47.3</td>\n",
              "      <td>0.0</td>\n",
              "      <td>0.0</td>\n",
              "      <td>0.0</td>\n",
              "    </tr>\n",
              "    <tr>\n",
              "      <th>...</th>\n",
              "      <td>...</td>\n",
              "      <td>...</td>\n",
              "      <td>...</td>\n",
              "      <td>...</td>\n",
              "      <td>...</td>\n",
              "      <td>...</td>\n",
              "      <td>...</td>\n",
              "      <td>...</td>\n",
              "      <td>...</td>\n",
              "      <td>...</td>\n",
              "      <td>...</td>\n",
              "      <td>...</td>\n",
              "      <td>...</td>\n",
              "      <td>...</td>\n",
              "      <td>...</td>\n",
              "      <td>...</td>\n",
              "      <td>...</td>\n",
              "      <td>...</td>\n",
              "      <td>...</td>\n",
              "      <td>...</td>\n",
              "      <td>...</td>\n",
              "    </tr>\n",
              "    <tr>\n",
              "      <th>VZO_POS1_POD_VRZ_MBT.01</th>\n",
              "      <td>0.0</td>\n",
              "      <td>0.0</td>\n",
              "      <td>0.0</td>\n",
              "      <td>0.0</td>\n",
              "      <td>0.0</td>\n",
              "      <td>0.0</td>\n",
              "      <td>0.0</td>\n",
              "      <td>0.0</td>\n",
              "      <td>0.0</td>\n",
              "      <td>0.0</td>\n",
              "      <td>...</td>\n",
              "      <td>0.0</td>\n",
              "      <td>0.0</td>\n",
              "      <td>0.0</td>\n",
              "      <td>0.0</td>\n",
              "      <td>0.0</td>\n",
              "      <td>0.0</td>\n",
              "      <td>0.0</td>\n",
              "      <td>0.0</td>\n",
              "      <td>0.0</td>\n",
              "      <td>0.0</td>\n",
              "    </tr>\n",
              "    <tr>\n",
              "      <th>VZO_POS1_POD_VRZ_WC.02</th>\n",
              "      <td>0.0</td>\n",
              "      <td>0.0</td>\n",
              "      <td>0.0</td>\n",
              "      <td>0.0</td>\n",
              "      <td>0.0</td>\n",
              "      <td>0.0</td>\n",
              "      <td>0.0</td>\n",
              "      <td>0.0</td>\n",
              "      <td>0.0</td>\n",
              "      <td>0.0</td>\n",
              "      <td>...</td>\n",
              "      <td>0.0</td>\n",
              "      <td>0.0</td>\n",
              "      <td>0.0</td>\n",
              "      <td>0.0</td>\n",
              "      <td>0.0</td>\n",
              "      <td>0.0</td>\n",
              "      <td>0.0</td>\n",
              "      <td>0.0</td>\n",
              "      <td>0.0</td>\n",
              "      <td>0.0</td>\n",
              "    </tr>\n",
              "    <tr>\n",
              "      <th>_EXP___.</th>\n",
              "      <td>0.0</td>\n",
              "      <td>0.0</td>\n",
              "      <td>0.0</td>\n",
              "      <td>0.0</td>\n",
              "      <td>0.0</td>\n",
              "      <td>0.0</td>\n",
              "      <td>0.0</td>\n",
              "      <td>0.0</td>\n",
              "      <td>0.0</td>\n",
              "      <td>0.0</td>\n",
              "      <td>...</td>\n",
              "      <td>0.0</td>\n",
              "      <td>0.0</td>\n",
              "      <td>0.0</td>\n",
              "      <td>0.0</td>\n",
              "      <td>0.0</td>\n",
              "      <td>0.0</td>\n",
              "      <td>0.0</td>\n",
              "      <td>0.0</td>\n",
              "      <td>0.0</td>\n",
              "      <td>0.0</td>\n",
              "    </tr>\n",
              "    <tr>\n",
              "      <th>_RNV___.</th>\n",
              "      <td>0.0</td>\n",
              "      <td>0.0</td>\n",
              "      <td>0.0</td>\n",
              "      <td>0.0</td>\n",
              "      <td>0.0</td>\n",
              "      <td>0.0</td>\n",
              "      <td>0.0</td>\n",
              "      <td>0.0</td>\n",
              "      <td>0.0</td>\n",
              "      <td>0.0</td>\n",
              "      <td>...</td>\n",
              "      <td>0.0</td>\n",
              "      <td>0.0</td>\n",
              "      <td>0.0</td>\n",
              "      <td>0.0</td>\n",
              "      <td>0.0</td>\n",
              "      <td>0.0</td>\n",
              "      <td>0.0</td>\n",
              "      <td>0.0</td>\n",
              "      <td>0.0</td>\n",
              "      <td>0.0</td>\n",
              "    </tr>\n",
              "    <tr>\n",
              "      <th>_ZOS___.</th>\n",
              "      <td>0.0</td>\n",
              "      <td>0.0</td>\n",
              "      <td>0.0</td>\n",
              "      <td>0.0</td>\n",
              "      <td>0.0</td>\n",
              "      <td>0.0</td>\n",
              "      <td>0.0</td>\n",
              "      <td>0.0</td>\n",
              "      <td>0.0</td>\n",
              "      <td>0.0</td>\n",
              "      <td>...</td>\n",
              "      <td>0.0</td>\n",
              "      <td>0.0</td>\n",
              "      <td>0.0</td>\n",
              "      <td>0.0</td>\n",
              "      <td>0.0</td>\n",
              "      <td>0.0</td>\n",
              "      <td>0.0</td>\n",
              "      <td>0.0</td>\n",
              "      <td>0.0</td>\n",
              "      <td>0.0</td>\n",
              "    </tr>\n",
              "  </tbody>\n",
              "</table>\n",
              "<p>398 rows × 282 columns</p>\n",
              "</div>\n",
              "      <button class=\"colab-df-convert\" onclick=\"convertToInteractive('df-1f13f0f6-2ce7-41c5-9f82-34b01006c50b')\"\n",
              "              title=\"Convert this dataframe to an interactive table.\"\n",
              "              style=\"display:none;\">\n",
              "        \n",
              "  <svg xmlns=\"http://www.w3.org/2000/svg\" height=\"24px\"viewBox=\"0 0 24 24\"\n",
              "       width=\"24px\">\n",
              "    <path d=\"M0 0h24v24H0V0z\" fill=\"none\"/>\n",
              "    <path d=\"M18.56 5.44l.94 2.06.94-2.06 2.06-.94-2.06-.94-.94-2.06-.94 2.06-2.06.94zm-11 1L8.5 8.5l.94-2.06 2.06-.94-2.06-.94L8.5 2.5l-.94 2.06-2.06.94zm10 10l.94 2.06.94-2.06 2.06-.94-2.06-.94-.94-2.06-.94 2.06-2.06.94z\"/><path d=\"M17.41 7.96l-1.37-1.37c-.4-.4-.92-.59-1.43-.59-.52 0-1.04.2-1.43.59L10.3 9.45l-7.72 7.72c-.78.78-.78 2.05 0 2.83L4 21.41c.39.39.9.59 1.41.59.51 0 1.02-.2 1.41-.59l7.78-7.78 2.81-2.81c.8-.78.8-2.07 0-2.86zM5.41 20L4 18.59l7.72-7.72 1.47 1.35L5.41 20z\"/>\n",
              "  </svg>\n",
              "      </button>\n",
              "      \n",
              "  <style>\n",
              "    .colab-df-container {\n",
              "      display:flex;\n",
              "      flex-wrap:wrap;\n",
              "      gap: 12px;\n",
              "    }\n",
              "\n",
              "    .colab-df-convert {\n",
              "      background-color: #E8F0FE;\n",
              "      border: none;\n",
              "      border-radius: 50%;\n",
              "      cursor: pointer;\n",
              "      display: none;\n",
              "      fill: #1967D2;\n",
              "      height: 32px;\n",
              "      padding: 0 0 0 0;\n",
              "      width: 32px;\n",
              "    }\n",
              "\n",
              "    .colab-df-convert:hover {\n",
              "      background-color: #E2EBFA;\n",
              "      box-shadow: 0px 1px 2px rgba(60, 64, 67, 0.3), 0px 1px 3px 1px rgba(60, 64, 67, 0.15);\n",
              "      fill: #174EA6;\n",
              "    }\n",
              "\n",
              "    [theme=dark] .colab-df-convert {\n",
              "      background-color: #3B4455;\n",
              "      fill: #D2E3FC;\n",
              "    }\n",
              "\n",
              "    [theme=dark] .colab-df-convert:hover {\n",
              "      background-color: #434B5C;\n",
              "      box-shadow: 0px 1px 3px 1px rgba(0, 0, 0, 0.15);\n",
              "      filter: drop-shadow(0px 1px 2px rgba(0, 0, 0, 0.3));\n",
              "      fill: #FFFFFF;\n",
              "    }\n",
              "  </style>\n",
              "\n",
              "      <script>\n",
              "        const buttonEl =\n",
              "          document.querySelector('#df-1f13f0f6-2ce7-41c5-9f82-34b01006c50b button.colab-df-convert');\n",
              "        buttonEl.style.display =\n",
              "          google.colab.kernel.accessAllowed ? 'block' : 'none';\n",
              "\n",
              "        async function convertToInteractive(key) {\n",
              "          const element = document.querySelector('#df-1f13f0f6-2ce7-41c5-9f82-34b01006c50b');\n",
              "          const dataTable =\n",
              "            await google.colab.kernel.invokeFunction('convertToInteractive',\n",
              "                                                     [key], {});\n",
              "          if (!dataTable) return;\n",
              "\n",
              "          const docLinkHtml = 'Like what you see? Visit the ' +\n",
              "            '<a target=\"_blank\" href=https://colab.research.google.com/notebooks/data_table.ipynb>data table notebook</a>'\n",
              "            + ' to learn more about interactive tables.';\n",
              "          element.innerHTML = '';\n",
              "          dataTable['output_type'] = 'display_data';\n",
              "          await google.colab.output.renderOutput(dataTable, element);\n",
              "          const docLink = document.createElement('div');\n",
              "          docLink.innerHTML = docLinkHtml;\n",
              "          element.appendChild(docLink);\n",
              "        }\n",
              "      </script>\n",
              "    </div>\n",
              "  </div>\n",
              "  "
            ]
          },
          "metadata": {},
          "execution_count": 18
        }
      ]
    },
    {
      "cell_type": "markdown",
      "source": [
        "# ПЛАН/ФАКТ\n",
        "* выполненных работ\n",
        "* стоимости выполненных работ\n",
        "* формирование КС\n"
      ],
      "metadata": {
        "id": "DQ6v5S6iGSRl"
      }
    },
    {
      "cell_type": "code",
      "source": [
        "idx = pd.IndexSlice"
      ],
      "metadata": {
        "id": "C1t7MsRzlpe3"
      },
      "execution_count": 19,
      "outputs": []
    },
    {
      "cell_type": "code",
      "source": [
        "plan = graf.loc[:, idx['2022-12-24':'2022-12-30','план']].sum(axis=1).values\n",
        "total_plan = graf.loc[:, idx[:,'план']].sum(axis=1).values\n",
        "plan = pd.Series(plan, index=graf.index, name='PLAN_WEEK')\n",
        "total_plan = pd.Series(total_plan, index=graf.index, name='TOTAL_PLAN')"
      ],
      "metadata": {
        "id": "veFan-7I7-hQ"
      },
      "execution_count": 20,
      "outputs": []
    },
    {
      "cell_type": "code",
      "source": [
        "plan_next = graf.loc[:, idx['2022-12-31':'2023-01-09','план']].sum(axis=1).values\n",
        "plan_next = pd.Series(plan_next, index=graf.index, name='PLAN_NEXT_WEEK')"
      ],
      "metadata": {
        "id": "QlmYZbX49VbT"
      },
      "execution_count": 29,
      "outputs": []
    },
    {
      "cell_type": "code",
      "source": [
        "fakt = graf.loc[:, idx['2022-12-24':'2022-12-30','факт']].sum(axis=1).values\n",
        "fakt = pd.Series(fakt, index=graf.index, name='FAKT_WEEK')\n",
        "total_fakt = graf.loc[:, idx[:,'факт']].sum(axis=1).values\n",
        "total_fakt = pd.Series(total_fakt, index=graf.index, name='TOTAL_FAKT')"
      ],
      "metadata": {
        "id": "HOqwFvjzPHYI"
      },
      "execution_count": 22,
      "outputs": []
    },
    {
      "cell_type": "code",
      "source": [
        "fakt_next = graf.loc[:, idx['2022-12-31':'2023-01-09','факт']].sum(axis=1).values\n",
        "fakt_next = pd.Series(fakt_next, index=graf.index, name='FAKT_NEXT_WEEK')"
      ],
      "metadata": {
        "id": "8rAaD2BF9WAu"
      },
      "execution_count": 30,
      "outputs": []
    },
    {
      "cell_type": "code",
      "source": [
        "planFakt = pd.concat([graf_name,total_plan, total_fakt,plan,fakt,plan_next,fakt_next], axis=1)"
      ],
      "metadata": {
        "id": "jyajQDO-vw2g"
      },
      "execution_count": 31,
      "outputs": []
    },
    {
      "cell_type": "code",
      "source": [
        "planFakt = planFakt[planFakt['PLAN_WEEK'] != 0]"
      ],
      "metadata": {
        "id": "xsEl3Z5fWCB3"
      },
      "execution_count": 32,
      "outputs": []
    },
    {
      "cell_type": "markdown",
      "source": [
        "# Лист PLAN_WEEK"
      ],
      "metadata": {
        "id": "hquenEMmppWz"
      }
    },
    {
      "cell_type": "markdown",
      "source": [
        "TODO => chartWEEK, ед измерения, менять даты по дням, chart оплтат"
      ],
      "metadata": {
        "id": "uc1eW5zcBrDT"
      }
    },
    {
      "cell_type": "code",
      "source": [
        "# worksheet.add_worksheet('PLAN_WEEK',planFakt.shape[0], planFakt.shape[1])"
      ],
      "metadata": {
        "colab": {
          "base_uri": "https://localhost:8080/"
        },
        "id": "Gh313zq1pv08",
        "outputId": "87f1c5f6-64b6-4674-ba1a-9f6afbb8e989"
      },
      "execution_count": null,
      "outputs": [
        {
          "output_type": "execute_result",
          "data": {
            "text/plain": [
              "<Worksheet 'PLAN_WEEK_new' id:1267137160>"
            ]
          },
          "metadata": {},
          "execution_count": 32
        }
      ]
    },
    {
      "cell_type": "code",
      "source": [
        "# worksheet.worksheet('PLAN_WEEK').clear"
      ],
      "metadata": {
        "id": "w6fKAE2VLMTy"
      },
      "execution_count": null,
      "outputs": []
    },
    {
      "cell_type": "code",
      "source": [
        "worksheet.worksheet('PLAN_WEEK').update('A1:G300',[planFakt[2:].columns.values.tolist()]+planFakt.values.tolist())"
      ],
      "metadata": {
        "colab": {
          "base_uri": "https://localhost:8080/"
        },
        "id": "Rp8uavTiAobM",
        "outputId": "7b91b1dc-e655-40fa-e5dd-4f02c19a5fec"
      },
      "execution_count": 33,
      "outputs": [
        {
          "output_type": "execute_result",
          "data": {
            "text/plain": [
              "{'spreadsheetId': '1ngWR2k38yG5qDWfwA9LKi4-R9q9PrIHludYb5vSh4Gc',\n",
              " 'updatedRange': 'PLAN_WEEK!A1:G44',\n",
              " 'updatedRows': 44,\n",
              " 'updatedColumns': 7,\n",
              " 'updatedCells': 308}"
            ]
          },
          "metadata": {},
          "execution_count": 33
        }
      ]
    },
    {
      "cell_type": "code",
      "source": [
        "# worksheet.worksheet('PLAN_WEEK').append_rows([planFakt.columns.values.tolist()]+planFakt.values.tolist())"
      ],
      "metadata": {
        "colab": {
          "base_uri": "https://localhost:8080/"
        },
        "id": "7hMC4y8r3WZz",
        "outputId": "6c9ad4ca-9108-4054-f655-e962bfaf3504"
      },
      "execution_count": null,
      "outputs": [
        {
          "output_type": "execute_result",
          "data": {
            "text/plain": [
              "{'spreadsheetId': '1ngWR2k38yG5qDWfwA9LKi4-R9q9PrIHludYb5vSh4Gc',\n",
              " 'tableRange': 'PLAN_WEEK!A1:I33',\n",
              " 'updates': {'spreadsheetId': '1ngWR2k38yG5qDWfwA9LKi4-R9q9PrIHludYb5vSh4Gc',\n",
              "  'updatedRange': 'PLAN_WEEK!A34:G66',\n",
              "  'updatedRows': 33,\n",
              "  'updatedColumns': 7,\n",
              "  'updatedCells': 231}}"
            ]
          },
          "metadata": {},
          "execution_count": 29
        }
      ]
    },
    {
      "cell_type": "code",
      "source": [
        "dir(worksheet.worksheet('PLAN_WEEK'))"
      ],
      "metadata": {
        "colab": {
          "base_uri": "https://localhost:8080/"
        },
        "id": "QnruzOLIvduo",
        "outputId": "50ab0ecf-05e6-452f-fbfb-4516b64b6089"
      },
      "execution_count": null,
      "outputs": [
        {
          "output_type": "execute_result",
          "data": {
            "text/plain": [
              "['__class__',\n",
              " '__delattr__',\n",
              " '__dict__',\n",
              " '__dir__',\n",
              " '__doc__',\n",
              " '__eq__',\n",
              " '__format__',\n",
              " '__ge__',\n",
              " '__getattribute__',\n",
              " '__gt__',\n",
              " '__hash__',\n",
              " '__init__',\n",
              " '__init_subclass__',\n",
              " '__le__',\n",
              " '__lt__',\n",
              " '__module__',\n",
              " '__ne__',\n",
              " '__new__',\n",
              " '__reduce__',\n",
              " '__reduce_ex__',\n",
              " '__repr__',\n",
              " '__setattr__',\n",
              " '__sizeof__',\n",
              " '__str__',\n",
              " '__subclasshook__',\n",
              " '__weakref__',\n",
              " '_finder',\n",
              " '_properties',\n",
              " 'acell',\n",
              " 'add_cols',\n",
              " 'add_rows',\n",
              " 'append_row',\n",
              " 'append_rows',\n",
              " 'batch_get',\n",
              " 'batch_update',\n",
              " 'cell',\n",
              " 'clear',\n",
              " 'clear_basic_filter',\n",
              " 'client',\n",
              " 'col_count',\n",
              " 'col_values',\n",
              " 'delete_row',\n",
              " 'delete_rows',\n",
              " 'duplicate',\n",
              " 'export',\n",
              " 'find',\n",
              " 'findall',\n",
              " 'format',\n",
              " 'freeze',\n",
              " 'frozen_col_count',\n",
              " 'frozen_row_count',\n",
              " 'get',\n",
              " 'get_all_records',\n",
              " 'get_all_values',\n",
              " 'id',\n",
              " 'insert_row',\n",
              " 'merge_cells',\n",
              " 'range',\n",
              " 'resize',\n",
              " 'row_count',\n",
              " 'row_values',\n",
              " 'set_basic_filter',\n",
              " 'sort',\n",
              " 'spreadsheet',\n",
              " 'title',\n",
              " 'update',\n",
              " 'update_acell',\n",
              " 'update_cell',\n",
              " 'update_cells',\n",
              " 'update_index',\n",
              " 'update_title',\n",
              " 'updated',\n",
              " 'url']"
            ]
          },
          "metadata": {},
          "execution_count": 457
        }
      ]
    }
  ]
}