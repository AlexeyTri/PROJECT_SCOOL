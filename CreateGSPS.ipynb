{
  "nbformat": 4,
  "nbformat_minor": 0,
  "metadata": {
    "colab": {
      "provenance": [],
      "mount_file_id": "1e0eSFZebXmVc11YFwHwK52ojs7_puZwB",
      "authorship_tag": "ABX9TyO+qXBtXMOJ/0rnA1jIlsQB",
      "include_colab_link": true
    },
    "kernelspec": {
      "name": "python3",
      "display_name": "Python 3"
    },
    "language_info": {
      "name": "python"
    }
  },
  "cells": [
    {
      "cell_type": "markdown",
      "metadata": {
        "id": "view-in-github",
        "colab_type": "text"
      },
      "source": [
        "<a href=\"https://colab.research.google.com/github/AlexeyTri/PROJECT_SCOOL/blob/master/CreateGSPS.ipynb\" target=\"_parent\"><img src=\"https://colab.research.google.com/assets/colab-badge.svg\" alt=\"Open In Colab\"/></a>"
      ]
    },
    {
      "cell_type": "markdown",
      "source": [
        "# Подключение данных\n"
      ],
      "metadata": {
        "id": "7JLpupsfcAVT"
      }
    },
    {
      "cell_type": "code",
      "execution_count": null,
      "metadata": {
        "id": "O8Cqk3vhctqr"
      },
      "outputs": [],
      "source": [
        "from google.colab import auth\n",
        "auth.authenticate_user()\n",
        "\n",
        "import pandas as pd\n",
        "import re\n",
        "import gspread\n",
        "from google.auth import default\n",
        "creds, _ = default()\n",
        "import numpy as np\n",
        "gc = gspread.authorize(creds)\n",
        "from datetime import datetime\n",
        "\n",
        "# worksheet = gc.open('План работ Договор Адамант').sheet1\n",
        "worksheet = gc.open('План работ Договор Адамант')\n",
        "\n",
        "# get_all_values gives a list of rows.\n",
        "# rows = worksheet.get_all_values()\n",
        "# print(rows)\n",
        "\n",
        "# # Convert to a DataFrame and render.\n",
        "# pd.DataFrame.from_records(rows)"
      ]
    },
    {
      "cell_type": "markdown",
      "source": [
        "* данный финансового плана импортируются из АСС, папка соответсвующего договора TODO\n",
        "* объем по контракту необходимо формировать из бим-модели, либо подгружать из РД, через процедуру проверки по ППР TODO"
      ],
      "metadata": {
        "id": "TurhI3Zj3JzK"
      }
    },
    {
      "cell_type": "code",
      "source": [
        "import numpy as np\n",
        "fin = worksheet.worksheet(\"FINANCE PLAN\")\n",
        "fin = fin.get_all_values()\n",
        "fin = np.array(fin)\n",
        "fin =  pd.DataFrame(fin[5:, :7])\n",
        "fin"
      ],
      "metadata": {
        "id": "diMOjXqk2yYc"
      },
      "execution_count": null,
      "outputs": []
    },
    {
      "cell_type": "code",
      "source": [
        "fin.rename(columns = {0:'id', \n",
        "                       1:'WORK',2:'START', 3:'FINISH', 4:'PRICE for ONE', 5:'UNITS OF MEASUREMENT',6:'VALUE CONTRACT'}, \n",
        "            inplace = True)"
      ],
      "metadata": {
        "id": "y4M3DMtR_BZm"
      },
      "execution_count": null,
      "outputs": []
    },
    {
      "cell_type": "code",
      "source": [
        "fin = fin.set_index(\"id\")\n",
        "fin = fin[fin.index > '']"
      ],
      "metadata": {
        "id": "1CQMqfgU8noe"
      },
      "execution_count": null,
      "outputs": []
    },
    {
      "cell_type": "markdown",
      "source": [
        "Приводим строковые значения к числовым "
      ],
      "metadata": {
        "id": "zXyLPcsTawON"
      }
    },
    {
      "cell_type": "code",
      "source": [
        "fin['PRICE for ONE'] = fin['PRICE for ONE'].map(lambda x: pd.to_numeric(re.sub(\"[^0-9+,]\", \"\", x).replace(',','.')))\n",
        "fin['VALUE CONTRACT'] = fin['VALUE CONTRACT'].map(lambda x: pd.to_numeric(re.sub(\"[^0-9+,]\", \"\", x).replace(',','.')))"
      ],
      "metadata": {
        "id": "-rMzyKkbCF4u"
      },
      "execution_count": null,
      "outputs": []
    },
    {
      "cell_type": "markdown",
      "source": [
        "Приводим значения дат в формат date"
      ],
      "metadata": {
        "id": "uF5gFLtoa7bh"
      }
    },
    {
      "cell_type": "code",
      "source": [
        "fin['START'] = pd.to_datetime(fin['START'])   \n",
        "fin['FINISH']= pd.to_datetime(fin['FINISH'])   "
      ],
      "metadata": {
        "id": "xufXIXdLAa42"
      },
      "execution_count": null,
      "outputs": []
    },
    {
      "cell_type": "markdown",
      "source": [
        "Завершаем предобработку таблицы - заменяем все значения Nan на \"0\""
      ],
      "metadata": {
        "id": "9lAJuI9mQ8Qc"
      }
    },
    {
      "cell_type": "code",
      "source": [
        "fin = fin.fillna(0)"
      ],
      "metadata": {
        "id": "nd5LMm9-Qb3e"
      },
      "execution_count": null,
      "outputs": []
    },
    {
      "cell_type": "markdown",
      "source": [
        "# Формирование листа FINANCE\n",
        "\n",
        "Задача: на основе данных из условий договора и данных по планируемому и фактическому выполнению (сейчас данные по факту просто берем из таблицы ПЛАН)\n",
        "\n",
        "* расчет общей стоимости по контракту\n",
        "* формирование плановой стоимости работ на соответсвующую дату: за период\n",
        "* формирование плановой стоимости работ на соответсвующую дату: накопительная сумма\n",
        "* формирование фактической стоимости работ на соответсвующую дату: за период\n",
        "* формирование фактической стоимости работ на соответсвующую дату: накопительная сумма\n",
        "* внесение корректировок и обновлений при формировании ДС\n",
        "\n",
        "❗ сравнение с нашей базой расценок \n",
        "\n",
        "\n"
      ],
      "metadata": {
        "id": "d3fd4oQsRT1E"
      }
    },
    {
      "cell_type": "code",
      "source": [
        "fin['TOTAL PRICE'] = fin['PRICE for ONE'] * fin['VALUE CONTRACT']"
      ],
      "metadata": {
        "id": "cn9GdyeBV6zv"
      },
      "execution_count": null,
      "outputs": []
    },
    {
      "cell_type": "markdown",
      "source": [
        "# Предобработка листа ГРАФИК РАБОТ"
      ],
      "metadata": {
        "id": "E9OyCNZssipJ"
      }
    },
    {
      "cell_type": "markdown",
      "source": [
        "Подключаем лист ГРАФИК РАБОТ"
      ],
      "metadata": {
        "id": "UiwgznwxZNS8"
      }
    },
    {
      "cell_type": "code",
      "source": [
        "graf = worksheet.worksheet(\"ГРАФИК РАБОТ\")\n",
        "graf = graf.get_all_values()\n",
        "graf = np.array(graf)\n",
        "graf =  pd.DataFrame(graf[1:, :])"
      ],
      "metadata": {
        "id": "X7xBTKOMZSnM"
      },
      "execution_count": 482,
      "outputs": []
    },
    {
      "cell_type": "code",
      "source": [
        "graf_name = graf[[0,1]][2:]\n",
        "graf_name.rename(columns={0: 'id', 1: 'WORK'}, inplace=True) \n",
        "graf_name = graf_name[graf_name['id'] != 0]\n",
        "graf_name = pd.DataFrame(graf_name['WORK'].values, index=graf_name['id'], columns=['WORK'])"
      ],
      "metadata": {
        "id": "ie_VUOLBqH32"
      },
      "execution_count": null,
      "outputs": []
    },
    {
      "cell_type": "markdown",
      "source": [
        "Предобработка данных в таблице:\n",
        "* приведение данных в необходимый формат\n",
        "* корректировка наименования столбцов и индексов"
      ],
      "metadata": {
        "id": "H5IWDLhK0TDr"
      }
    },
    {
      "cell_type": "code",
      "source": [
        "graf.drop(graf.index[1:10], axis=1, inplace=True)"
      ],
      "metadata": {
        "id": "cnkrFGi84aac"
      },
      "execution_count": 484,
      "outputs": []
    },
    {
      "cell_type": "markdown",
      "source": [
        "Формируем два списка для мультииндексов"
      ],
      "metadata": {
        "id": "uoOA9TkxAYeC"
      }
    },
    {
      "cell_type": "code",
      "source": [
        "newColumnsIndex = [pd.to_datetime(pd.Series(graf.iloc[0].values[1:]).apply(lambda x: str(x)), format='%d.%m.%Y'), graf.iloc[1][1:].values]"
      ],
      "metadata": {
        "id": "yaxX4QLl4ach"
      },
      "execution_count": 485,
      "outputs": []
    },
    {
      "cell_type": "code",
      "source": [
        "graf.rename(columns={0: 'id'}, inplace=True)"
      ],
      "metadata": {
        "id": "jp2OzAE64ae5"
      },
      "execution_count": 486,
      "outputs": []
    },
    {
      "cell_type": "code",
      "source": [
        "graf = graf.set_index(\"id\")"
      ],
      "metadata": {
        "id": "-H7LRJkM4aiQ"
      },
      "execution_count": 487,
      "outputs": []
    },
    {
      "cell_type": "code",
      "source": [
        "graf = pd.DataFrame(graf.values, index=graf.index, columns=newColumnsIndex)"
      ],
      "metadata": {
        "id": "5hZ6QpX_4auO"
      },
      "execution_count": 488,
      "outputs": []
    },
    {
      "cell_type": "code",
      "source": [
        "graf.drop(graf.index[:2], axis=0, inplace=True)"
      ],
      "metadata": {
        "id": "1EVu03Dt-ggX"
      },
      "execution_count": 489,
      "outputs": []
    },
    {
      "cell_type": "code",
      "source": [
        "for i in graf.columns:\n",
        "    graf[i] = graf[i].map(lambda x: pd.to_numeric(re.sub(\"[^0-9 +,]\", \"\", x).replace(',','.')))"
      ],
      "metadata": {
        "id": "l2PJdmREFWSx"
      },
      "execution_count": 490,
      "outputs": []
    },
    {
      "cell_type": "code",
      "source": [
        "graf.fillna(0, inplace=True)\n",
        "graf.sort_index(axis=0, level=1, ascending=True)"
      ],
      "metadata": {
        "id": "dhpH3d8nRDG-"
      },
      "execution_count": null,
      "outputs": []
    },
    {
      "cell_type": "markdown",
      "source": [
        "# ПЛАН/ФАКТ\n",
        "* выполненных работ\n",
        "* стоимости выполненных работ\n",
        "* формирование КС\n"
      ],
      "metadata": {
        "id": "DQ6v5S6iGSRl"
      }
    },
    {
      "cell_type": "code",
      "source": [
        "idx = pd.IndexSlice"
      ],
      "metadata": {
        "id": "C1t7MsRzlpe3"
      },
      "execution_count": 492,
      "outputs": []
    },
    {
      "cell_type": "code",
      "source": [
        "plan = graf.loc[:, idx['2022-12-12':'2022-12-19','план']].sum(axis=1).values\n",
        "total_plan = graf.loc[:, idx[:,'план']].sum(axis=1).values\n",
        "plan = pd.Series(plan, index=graf.index, name='PLAN_WEEK')\n",
        "total_plan = pd.Series(total_plan, index=graf.index, name='TOTAL_PLAN')"
      ],
      "metadata": {
        "id": "veFan-7I7-hQ"
      },
      "execution_count": 497,
      "outputs": []
    },
    {
      "cell_type": "code",
      "source": [
        "plan_next = graf.loc[:, idx['2022-12-20':'2022-12-27','план']].sum(axis=1).values\n",
        "plan_next = pd.Series(plan_next, index=graf.index, name='PLAN_NEXT_WEEK')"
      ],
      "metadata": {
        "id": "QlmYZbX49VbT"
      },
      "execution_count": 523,
      "outputs": []
    },
    {
      "cell_type": "code",
      "source": [
        "fakt = graf.loc[:, idx['2022-12-12':'2022-12-19','факт']].sum(axis=1).values\n",
        "fakt = pd.Series(fakt, index=graf.index, name='FAKT_WEEK')\n",
        "total_fakt = graf.loc[:, idx[:,'факт']].sum(axis=1).values\n",
        "total_fakt = pd.Series(total_fakt, index=graf.index, name='TOTAL_FAKT')"
      ],
      "metadata": {
        "id": "HOqwFvjzPHYI"
      },
      "execution_count": 498,
      "outputs": []
    },
    {
      "cell_type": "code",
      "source": [
        "fakt_next = graf.loc[:, idx['2022-12-20':'2022-12-27','факт']].sum(axis=1).values\n",
        "fakt_next = pd.Series(fakt_next, index=graf.index, name='FAKT_NEXT_WEEK')"
      ],
      "metadata": {
        "id": "8rAaD2BF9WAu"
      },
      "execution_count": 528,
      "outputs": []
    },
    {
      "cell_type": "code",
      "source": [
        "planFakt = pd.concat([graf_name,total_plan, total_fakt,plan,fakt,plan_next,fakt_next], axis=1)"
      ],
      "metadata": {
        "id": "jyajQDO-vw2g"
      },
      "execution_count": 529,
      "outputs": []
    },
    {
      "cell_type": "code",
      "source": [
        "planFakt = planFakt[planFakt['PLAN_WEEK'] != 0]"
      ],
      "metadata": {
        "id": "xsEl3Z5fWCB3"
      },
      "execution_count": null,
      "outputs": []
    },
    {
      "cell_type": "markdown",
      "source": [
        "# Лист PLAN_WEEK"
      ],
      "metadata": {
        "id": "hquenEMmppWz"
      }
    },
    {
      "cell_type": "markdown",
      "source": [
        "TODO => chartWEEK, ед измерения, менять даты по дням, chart оплтат"
      ],
      "metadata": {
        "id": "uc1eW5zcBrDT"
      }
    },
    {
      "cell_type": "code",
      "source": [
        "worksheet.add_worksheet('PLAN_WEEK',planFakt.shape[0], planFakt.shape[1])"
      ],
      "metadata": {
        "colab": {
          "base_uri": "https://localhost:8080/"
        },
        "id": "Gh313zq1pv08",
        "outputId": "f8d8e555-4c90-495f-ead1-ab4b281cbeb4"
      },
      "execution_count": 537,
      "outputs": [
        {
          "output_type": "execute_result",
          "data": {
            "text/plain": [
              "<Worksheet 'PLAN_WEEK' id:1094968404>"
            ]
          },
          "metadata": {},
          "execution_count": 537
        }
      ]
    },
    {
      "cell_type": "code",
      "source": [
        "worksheet.worksheet('PLAN_WEEK').clear()"
      ],
      "metadata": {
        "colab": {
          "base_uri": "https://localhost:8080/"
        },
        "id": "Rp8uavTiAobM",
        "outputId": "6fa90de3-d334-4e13-9555-d9fc2b313ff3"
      },
      "execution_count": 544,
      "outputs": [
        {
          "output_type": "execute_result",
          "data": {
            "text/plain": [
              "{'spreadsheetId': '1ngWR2k38yG5qDWfwA9LKi4-R9q9PrIHludYb5vSh4Gc',\n",
              " 'clearedRange': 'PLAN_WEEK!A1:G61'}"
            ]
          },
          "metadata": {},
          "execution_count": 544
        }
      ]
    },
    {
      "cell_type": "code",
      "source": [
        "worksheet.worksheet('PLAN_WEEK').append_rows([planFakt.columns.values.tolist()]+planFakt.values.tolist())"
      ],
      "metadata": {
        "colab": {
          "base_uri": "https://localhost:8080/"
        },
        "id": "7hMC4y8r3WZz",
        "outputId": "01313163-cd54-415e-da9c-b9df752961af"
      },
      "execution_count": 546,
      "outputs": [
        {
          "output_type": "execute_result",
          "data": {
            "text/plain": [
              "{'spreadsheetId': '1ngWR2k38yG5qDWfwA9LKi4-R9q9PrIHludYb5vSh4Gc',\n",
              " 'updates': {'spreadsheetId': '1ngWR2k38yG5qDWfwA9LKi4-R9q9PrIHludYb5vSh4Gc',\n",
              "  'updatedRange': 'PLAN_WEEK!A1:G31',\n",
              "  'updatedRows': 31,\n",
              "  'updatedColumns': 7,\n",
              "  'updatedCells': 217}}"
            ]
          },
          "metadata": {},
          "execution_count": 546
        }
      ]
    },
    {
      "cell_type": "code",
      "source": [
        "dir(worksheet.worksheet('PLAN_WEEK'))"
      ],
      "metadata": {
        "colab": {
          "base_uri": "https://localhost:8080/"
        },
        "id": "QnruzOLIvduo",
        "outputId": "50ab0ecf-05e6-452f-fbfb-4516b64b6089"
      },
      "execution_count": 457,
      "outputs": [
        {
          "output_type": "execute_result",
          "data": {
            "text/plain": [
              "['__class__',\n",
              " '__delattr__',\n",
              " '__dict__',\n",
              " '__dir__',\n",
              " '__doc__',\n",
              " '__eq__',\n",
              " '__format__',\n",
              " '__ge__',\n",
              " '__getattribute__',\n",
              " '__gt__',\n",
              " '__hash__',\n",
              " '__init__',\n",
              " '__init_subclass__',\n",
              " '__le__',\n",
              " '__lt__',\n",
              " '__module__',\n",
              " '__ne__',\n",
              " '__new__',\n",
              " '__reduce__',\n",
              " '__reduce_ex__',\n",
              " '__repr__',\n",
              " '__setattr__',\n",
              " '__sizeof__',\n",
              " '__str__',\n",
              " '__subclasshook__',\n",
              " '__weakref__',\n",
              " '_finder',\n",
              " '_properties',\n",
              " 'acell',\n",
              " 'add_cols',\n",
              " 'add_rows',\n",
              " 'append_row',\n",
              " 'append_rows',\n",
              " 'batch_get',\n",
              " 'batch_update',\n",
              " 'cell',\n",
              " 'clear',\n",
              " 'clear_basic_filter',\n",
              " 'client',\n",
              " 'col_count',\n",
              " 'col_values',\n",
              " 'delete_row',\n",
              " 'delete_rows',\n",
              " 'duplicate',\n",
              " 'export',\n",
              " 'find',\n",
              " 'findall',\n",
              " 'format',\n",
              " 'freeze',\n",
              " 'frozen_col_count',\n",
              " 'frozen_row_count',\n",
              " 'get',\n",
              " 'get_all_records',\n",
              " 'get_all_values',\n",
              " 'id',\n",
              " 'insert_row',\n",
              " 'merge_cells',\n",
              " 'range',\n",
              " 'resize',\n",
              " 'row_count',\n",
              " 'row_values',\n",
              " 'set_basic_filter',\n",
              " 'sort',\n",
              " 'spreadsheet',\n",
              " 'title',\n",
              " 'update',\n",
              " 'update_acell',\n",
              " 'update_cell',\n",
              " 'update_cells',\n",
              " 'update_index',\n",
              " 'update_title',\n",
              " 'updated',\n",
              " 'url']"
            ]
          },
          "metadata": {},
          "execution_count": 457
        }
      ]
    }
  ]
}