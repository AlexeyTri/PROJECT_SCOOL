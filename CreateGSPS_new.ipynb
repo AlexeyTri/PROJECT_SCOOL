{
  "nbformat": 4,
  "nbformat_minor": 0,
  "metadata": {
    "colab": {
      "provenance": [],
      "mount_file_id": "1e0eSFZebXmVc11YFwHwK52ojs7_puZwB",
      "authorship_tag": "ABX9TyMu1scokYz6sKv3e0VewcBD",
      "include_colab_link": true
    },
    "kernelspec": {
      "name": "python3",
      "display_name": "Python 3"
    },
    "language_info": {
      "name": "python"
    }
  },
  "cells": [
    {
      "cell_type": "markdown",
      "metadata": {
        "id": "view-in-github",
        "colab_type": "text"
      },
      "source": [
        "<a href=\"https://colab.research.google.com/github/AlexeyTri/PROJECT_SCOOL/blob/master/CreateGSPS_new.ipynb\" target=\"_parent\"><img src=\"https://colab.research.google.com/assets/colab-badge.svg\" alt=\"Open In Colab\"/></a>"
      ]
    },
    {
      "cell_type": "markdown",
      "source": [
        "# Аннотация\n",
        "\n",
        "* при формировании в папке ТЗ/ДОГОВОРЫ документа с данными, автоматически формируется SS, состоящая из следующих листов: FINANCE, PLAN, COST, CHART'S\n",
        "\n",
        "    * FINANCE это клон Приложения 1 к соответствующему договору + календарь проекта. Данные отображаемые на листе: прогнозный расчет КС на фиксированную дату (TODO PLAN_RADAR, FAKT), фактическая КС, формирование плана финансирования/факта финансирования\n",
        "    (TODO FINANCE_FAKT !!!)\n",
        "    * PLAN формируется в полуавтоматическом режиме => шаблон формируется скриптом в разрезе локальных зон объекта, с учетом выработки по базе ППР => инженер корректирует захватки в МОДЕЛИ (TODO!!!, как внести сразу и даты??? - VIEWER). Фактические данные попадают ТОЛЬКО через PLAN_RADAR, в \"формах\" стоит триггер START/ВЫПОЛНЕНО/ПРИНЯТО/FINISH (TODO формы и сonnect PLAN_RADAR)\n",
        "    * COST шаблон формируется на основании внутнней БД и обновляется в разрезе стоимости материалов на основании фактических данных (накладные). Факт поставки подтверждается: загрузка накладных в папку АСС/модлем СКЛАД=>поставка\n",
        "    * CHART'S: план недели, график недели, платежи недели, поставка недели, платежи недели\n",
        "\n",
        "**ЦЕЛИ:**\n",
        " \n",
        "\n",
        "1.   Подтвердить достаточность ресурсов для выполнения работ на соответствующем временном плече\n",
        "2.   Оценка риска недостаточности финансирования на сроках более месяца\n",
        "3.   Оценка риска достаточности материалов на строительной площадке и общее выполнение графика поставки материалов\n",
        "\n"
      ],
      "metadata": {
        "id": "7JLpupsfcAVT"
      }
    },
    {
      "cell_type": "code",
      "execution_count": 1,
      "metadata": {
        "id": "O8Cqk3vhctqr"
      },
      "outputs": [],
      "source": [
        "from google.colab import auth\n",
        "auth.authenticate_user()\n",
        "\n",
        "import seaborn as sns\n",
        "import pandas as pd\n",
        "import re\n",
        "import gspread\n",
        "from google.auth import default\n",
        "creds, _ = default()\n",
        "import numpy as np\n",
        "gc = gspread.authorize(creds)\n",
        "from datetime import datetime\n",
        "from datetime import timedelta\n",
        "\n",
        "# worksheet = gc.open('План работ Договор Адамант').sheet1\n",
        "worksheet = gc.open('План работ Договор Адамант')\n",
        "\n",
        "# get_all_values gives a list of rows.\n",
        "# rows = worksheet.get_all_values()\n",
        "# print(rows)\n",
        "\n",
        "# # Convert to a DataFrame and render.\n",
        "# pd.DataFrame.from_records(rows)"
      ]
    },
    {
      "cell_type": "code",
      "source": [
        "idx = pd.IndexSlice"
      ],
      "metadata": {
        "id": "U1CQNafpFwEB"
      },
      "execution_count": 2,
      "outputs": []
    },
    {
      "cell_type": "markdown",
      "source": [
        "* TODO данные финансового плана импортируются из АСС => папка соответсвующего договора => Приложение 1 (рапределение договорной стоимости) формируется НИКОЛИРЕС на этапе формирования ТЗ \n",
        "\n",
        "\\begin{align} \n",
        "\\mathbf{TO=>ENTER:  } passwordBudget, BD_{pricing},  ITEM'S_{model}\n",
        "\\end{align}\n",
        "\n",
        "\n",
        "\\begin{align} \n",
        "\\mathbf{TO=>EXIT:  } COST\n",
        "\\end{align}\n",
        "\n",
        "\n",
        "\n",
        "\\begin{align} \n",
        "\\mathbf{COST} &= \\sum_{i=1}^N \\mathbf{pricing_i} \\cdot \\mathbf{valueModel_i}\\end{align}\n",
        "\n",
        "\\begin{align} \n",
        "\\mathbf{N} - {1...N}\\end{align}\n",
        "\n",
        "\\begin{align} \n",
        "\\mathbf{pricing} &= passwordBudget + password_{BD} + name + workers + mashins + BD_{materials}\n",
        "\\end{align}\n",
        "\n",
        "\\begin{align} \n",
        "\\mathbf{valueModel} &= password_{model} + name + area/value/item\n",
        "\\end{align}\n",
        "\n",
        "\\begin{align} \n",
        "\\mathbf{password_{COST}} &= password_{model} + password_{BD}\n",
        "\\end{align}\n"
      ],
      "metadata": {
        "id": "TurhI3Zj3JzK"
      }
    },
    {
      "cell_type": "markdown",
      "source": [
        "## Формирование листа FINANCE\n",
        "=> АСС/ДОГОВОР/Приложение 2\n",
        "Структура\n",
        "\n",
        "1. \\begin{align} \\mathbf{password_{COST} => text} \\end{align}\n",
        "\n",
        "2. \\begin{align} \\mathbf{NAME => text} \\end{align}\n",
        "\n",
        "3. \\begin{align} \\mathbf{START => text} \\end{align} \n",
        "\n",
        "4. \\begin{align} \\mathbf{FINISH => text} \\end{align} \n",
        "\n",
        "5. \\begin{align} \\mathbf{pricing_{item} => pd.to_numeric} \\end{align} \n",
        "\n",
        "6. \\begin{align} \\mathbf{valueModel => pd.to_numeric} \\end{align} \n",
        "\n",
        "7. \\begin{align} \\mathbf{TOTAL => pd.to_numeric} \\end{align} \n",
        " \n",
        "8. \\begin{align} \\frac{date}{PLAN} => text\\end{align} \n",
        "\n",
        "9. \\begin{align} \\frac{date}{FAKT} => text\\end{align} \n",
        "\n",
        "* TODO логика раздела будет переписана после появления базы расценок"
      ],
      "metadata": {
        "id": "d3fd4oQsRT1E"
      }
    },
    {
      "cell_type": "code",
      "source": [
        "fin = worksheet.worksheet(\"FINANCE PLAN (копия)\")\n",
        "fin = fin.get_all_values()\n",
        "fin = np.array(fin)\n",
        "fin =  pd.DataFrame(fin[5:, :7])\n",
        "fin.drop(5, axis=1, inplace=True)"
      ],
      "metadata": {
        "id": "diMOjXqk2yYc"
      },
      "execution_count": 3,
      "outputs": []
    },
    {
      "cell_type": "code",
      "source": [
        "new_fin = fin.copy()\n",
        "new_fin\n",
        "new_fin.rename(columns = {0:'passwordCOST', \n",
        "                       1:'NAME',2:'START', 3:'FINISH', 4:'pricingItem', 6:'valueModel'}, \n",
        "            inplace = True)\n",
        "new_fin = new_fin.set_index('passwordCOST')\n",
        "new_fin = new_fin[new_fin.index > '']"
      ],
      "metadata": {
        "id": "q6vNpGrL5r4g"
      },
      "execution_count": 4,
      "outputs": []
    },
    {
      "cell_type": "markdown",
      "source": [
        "Приводим строковые значения к числовым "
      ],
      "metadata": {
        "id": "zXyLPcsTawON"
      }
    },
    {
      "cell_type": "code",
      "source": [
        "new_fin['pricingItem'] = new_fin['pricingItem'].map(lambda x: pd.to_numeric(re.sub(\"[^0-9+,]\", \"\", x).replace(',','.')))\n",
        "new_fin['valueModel'] = new_fin['valueModel'].map(lambda x: pd.to_numeric(re.sub(\"[^0-9+,]\", \"\", x).replace(',','.')))\n",
        "new_fin['TOTAL'] = new_fin['pricingItem'] * new_fin['valueModel']"
      ],
      "metadata": {
        "id": "-rMzyKkbCF4u"
      },
      "execution_count": 5,
      "outputs": []
    },
    {
      "cell_type": "markdown",
      "source": [
        "Приводим значения дат в формат date"
      ],
      "metadata": {
        "id": "uF5gFLtoa7bh"
      }
    },
    {
      "cell_type": "code",
      "source": [
        "new_fin = new_fin[new_fin['START'] > '']\n",
        "new_fin = new_fin[new_fin['FINISH'] > '']"
      ],
      "metadata": {
        "id": "xufXIXdLAa42"
      },
      "execution_count": 6,
      "outputs": []
    },
    {
      "cell_type": "code",
      "source": [
        "new_fin['START'] = pd.to_datetime(pd.Series(new_fin['START']).apply(lambda x: str(x)))\n",
        "new_fin['FINISH'] = pd.to_datetime(pd.Series(new_fin['FINISH']).apply(lambda x: str(x)))"
      ],
      "metadata": {
        "id": "-OncUE7_QjFP"
      },
      "execution_count": 7,
      "outputs": []
    },
    {
      "cell_type": "markdown",
      "source": [
        "Завершаем предобработку таблицы - заменяем все значения Nan на \"0\""
      ],
      "metadata": {
        "id": "9lAJuI9mQ8Qc"
      }
    },
    {
      "cell_type": "code",
      "source": [
        "# на этом этапе формируем лист PLAN\n",
        "new_fin = new_fin.fillna(0)"
      ],
      "metadata": {
        "id": "nd5LMm9-Qb3e"
      },
      "execution_count": 8,
      "outputs": []
    },
    {
      "cell_type": "code",
      "source": [
        "new_fin['TOTAL'] = new_fin['pricingItem'] * new_fin['valueModel']"
      ],
      "metadata": {
        "id": "cn9GdyeBV6zv"
      },
      "execution_count": 9,
      "outputs": []
    },
    {
      "cell_type": "code",
      "source": [
        "new_fin"
      ],
      "metadata": {
        "id": "dhoKV7HvSZSu"
      },
      "execution_count": null,
      "outputs": []
    },
    {
      "cell_type": "markdown",
      "source": [
        "## Формирование листа PLAN\n",
        "\n",
        "PLAN = FINANCE\\['TOTAL']\n",
        "\n",
        "* TODO логика раздела будет переписана после появления базы расценок\n",
        "* ❌нельзя добавлять новые виды работ\n",
        "* ❗ детализация на захватки происходит либо в модели, либо на чертеже => в таблицу данные заносятся самостоятельно\n",
        "* ❗ таблица оповещает о выходе за границы временного промежутка \n",
        "* ❗ подсчет рабочих по специальностям и машмех еще не заложен в логику\n",
        "\n",
        "* created function's: cumulativePlan, cumulativeFakt"
      ],
      "metadata": {
        "id": "E9OyCNZssipJ"
      }
    },
    {
      "cell_type": "code",
      "source": [
        "graf = worksheet.worksheet(\"ГРАФИК РАБОТ\")\n",
        "graf = graf.get_all_values()\n",
        "graf = np.array(graf)\n",
        "graf = pd.DataFrame(graf[1:, :])"
      ],
      "metadata": {
        "id": "X7xBTKOMZSnM"
      },
      "execution_count": 11,
      "outputs": []
    },
    {
      "cell_type": "code",
      "source": [
        "new_graf = graf.copy()\n",
        "new_graf = new_graf.loc[idx[2:],idx[:6]]\n",
        "new_graf.drop([4,5], axis=1, inplace=True)"
      ],
      "metadata": {
        "id": "SnLGn4FpUNbx"
      },
      "execution_count": 12,
      "outputs": []
    },
    {
      "cell_type": "code",
      "source": [
        "new_graf.rename(columns = {0:'passwordCOST', \n",
        "                       1:'NAME',2:'START', 3:'FINISH', 6:'valueModel'}, \n",
        "            inplace = True)\n",
        "new_graf = new_graf[new_graf['passwordCOST'] > '']\n",
        "new_graf = new_graf[new_graf['START'] > '']\n",
        "new_graf = new_graf[new_graf['FINISH'] > '']\n",
        "new_graf = new_graf.set_index('passwordCOST')\n",
        "new_graf['valueModel'] = new_graf['valueModel'].map(lambda x: pd.to_numeric(re.sub(\"[^0-9+,]\", \"\", x).replace(',','.')))\n",
        "new_graf = new_graf.fillna(0)"
      ],
      "metadata": {
        "id": "g1StQvD_ayMx"
      },
      "execution_count": 13,
      "outputs": []
    },
    {
      "cell_type": "code",
      "source": [
        "new_graf"
      ],
      "metadata": {
        "id": "56GD_g7UbkzH"
      },
      "execution_count": null,
      "outputs": []
    },
    {
      "cell_type": "markdown",
      "source": [
        "❗: ниже приведенный код исполняется временно, до момента автоматического формирования плана\n",
        "❗"
      ],
      "metadata": {
        "id": "9hPyPOamDtFY"
      }
    },
    {
      "cell_type": "code",
      "source": [
        "graf_name = graf[[0,1]][2:]\n",
        "graf_name.rename(columns={0: 'passwordCOST', 1: 'NAME'}, inplace=True) \n",
        "graf_name = graf_name[graf_name['passwordCOST'] != 0]\n",
        "graf_name = pd.DataFrame(graf_name['NAME'].values, index=graf_name['passwordCOST'], columns=['NAME'])"
      ],
      "metadata": {
        "id": "KcsCsWFjEKrk"
      },
      "execution_count": 15,
      "outputs": []
    },
    {
      "cell_type": "code",
      "source": [
        "graf_name"
      ],
      "metadata": {
        "id": "Yl0H7yuPPwOo"
      },
      "execution_count": null,
      "outputs": []
    },
    {
      "cell_type": "code",
      "source": [
        "graf.drop(graf.index[1:10], axis=1, inplace=True)"
      ],
      "metadata": {
        "id": "qf1P0UzDE04P"
      },
      "execution_count": 17,
      "outputs": []
    },
    {
      "cell_type": "code",
      "source": [
        "newColumnsIndex = [pd.to_datetime(pd.Series(graf.iloc[0].values[1:]).apply(lambda x: str(x)), format='%d.%m.%Y'), graf.iloc[1][1:].values]"
      ],
      "metadata": {
        "id": "n4VsTrdyFC1u"
      },
      "execution_count": 18,
      "outputs": []
    },
    {
      "cell_type": "code",
      "source": [
        "graf.rename(columns={0: 'passwordCOST'}, inplace=True)"
      ],
      "metadata": {
        "id": "Cn4ArFrQFDh9"
      },
      "execution_count": 20,
      "outputs": []
    },
    {
      "cell_type": "code",
      "source": [
        "graf = graf.set_index(\"passwordCOST\")\n",
        "graf = pd.DataFrame(graf.values, index=graf.index, columns=newColumnsIndex)\n",
        "graf.drop(graf.index[:2], axis=0, inplace=True)\n",
        "for i in graf.columns:\n",
        "    graf[i] = graf[i].map(lambda x: pd.to_numeric(re.sub(\"[^0-9 +,]\", \"\", x).replace(',','.')))"
      ],
      "metadata": {
        "id": "VF0w08-_FFSP"
      },
      "execution_count": 22,
      "outputs": []
    },
    {
      "cell_type": "code",
      "source": [
        "graf"
      ],
      "metadata": {
        "id": "q9zkDunuQK8x"
      },
      "execution_count": null,
      "outputs": []
    },
    {
      "cell_type": "code",
      "source": [
        "graf.fillna(0, inplace=True)\n",
        "graf.sort_index(axis=0, level=1, ascending=True)\n",
        "graf = graf[graf.index > '']\n",
        "graf"
      ],
      "metadata": {
        "id": "UJNpDWfeFYEJ"
      },
      "execution_count": null,
      "outputs": []
    },
    {
      "cell_type": "code",
      "source": [
        "fin.rename(columns = {0:'passwordCOST', \n",
        "                       1:'NAME',2:'START', 3:'FINISH', 4:'pricingItem', 6:'valueModel'}, \n",
        "            inplace = True)"
      ],
      "metadata": {
        "id": "nke4beNHSpAa"
      },
      "execution_count": 21,
      "outputs": []
    },
    {
      "cell_type": "code",
      "source": [
        "fin = fin.set_index('passwordCOST')\n",
        "fin = fin[fin.index > '']"
      ],
      "metadata": {
        "id": "VB2sQqskSyab"
      },
      "execution_count": 22,
      "outputs": []
    },
    {
      "cell_type": "code",
      "source": [
        "fin['pricingItem'] = fin['pricingItem'].map(lambda x: pd.to_numeric(re.sub(\"[^0-9+,]\", \"\", x).replace(',','.')))\n",
        "fin['VALUE CONTRACT'] = fin['valueModel'].map(lambda x: pd.to_numeric(re.sub(\"[^0-9+,]\", \"\", x).replace(',','.')))"
      ],
      "metadata": {
        "id": "v7p6SIR6S4OG"
      },
      "execution_count": 23,
      "outputs": []
    },
    {
      "cell_type": "code",
      "source": [
        "fin['START'] = pd.to_datetime(fin['START'])   \n",
        "fin['FINISH']= pd.to_datetime(fin['FINISH'])   "
      ],
      "metadata": {
        "id": "gbrDs-muS4Hu"
      },
      "execution_count": 24,
      "outputs": []
    },
    {
      "cell_type": "code",
      "source": [
        "fin = fin.fillna(0)\n",
        "fin"
      ],
      "metadata": {
        "id": "x3GjLBxkSbc5"
      },
      "execution_count": null,
      "outputs": []
    },
    {
      "cell_type": "markdown",
      "source": [
        "❌ см. предидущий комментарий"
      ],
      "metadata": {
        "id": "22ky2MaQFgAo"
      }
    },
    {
      "cell_type": "markdown",
      "source": [
        "## Формируем ЕДИНЫЙ DATASET"
      ],
      "metadata": {
        "id": "lBnw56jWdaqx"
      }
    },
    {
      "cell_type": "markdown",
      "source": [
        "### Формируем график проекта\n",
        "\n",
        "Индексы подзадач:\n",
        "* level1 DATE => pd.to_datetime()\n",
        "* level2 plan/fakt => str()\n",
        "* level3 :\n",
        "                    \" \" => None\n",
        "                    \"KS-2 # {номер КС-2}\" => str()\n",
        "                    \"FIN_PLAN # {номер плана финансирования}\" => str()\n",
        "                    \"SMR\" => str()\n",
        "                    \"MATERIALS\" => str()\n",
        "                    \"WORKER'S\" => str()\n",
        "                    \"UNIT'S\" => str()\n",
        "                    \"PD\" => str()\n",
        "                    \"RD\" => str()\n",
        "                    \"KT1\" => str()\n",
        "                    \"KT2\" => str()\n",
        "                    \"KT3\" => str()\n",
        "\n",
        "\n"
      ],
      "metadata": {
        "id": "imsif7flQNzK"
      }
    },
    {
      "cell_type": "code",
      "source": [
        "# формируем level1\n",
        "start = '02.01.2022'\n",
        "finish = '02.02.2023'\n",
        "dateIndex = pd.date_range(start=start, end=finish)\n",
        "dataIndex = dateIndex.map(lambda z: pd.to_datetime(z))\n",
        "# dataIndex"
      ],
      "metadata": {
        "id": "IGHn7J3Gdz0I"
      },
      "execution_count": 26,
      "outputs": []
    },
    {
      "cell_type": "code",
      "source": [
        "# добавляем level2 и шаблон для level3\n",
        "multiindex = pd.MultiIndex.from_product([dateIndex,['plan','fakt'],[\" \"]], names=[\"DATE\", \"PLAN/FAKT\",\" \"])"
      ],
      "metadata": {
        "id": "dK_ktnDWgq2Y"
      },
      "execution_count": 27,
      "outputs": []
    },
    {
      "cell_type": "markdown",
      "source": [
        "### TOTAL_DATA: \n",
        "\n",
        "* index => Finance.index\n",
        "* dataset => multiindex"
      ],
      "metadata": {
        "id": "IrhM_4SdeA0n"
      }
    },
    {
      "cell_type": "code",
      "source": [
        "totalData = pd.DataFrame(index=new_fin.index, columns=multiindex)\n",
        "totalData = totalData.fillna(0)"
      ],
      "metadata": {
        "id": "BG2YEewue-q8"
      },
      "execution_count": 28,
      "outputs": []
    },
    {
      "cell_type": "code",
      "source": [
        "totalData"
      ],
      "metadata": {
        "colab": {
          "base_uri": "https://localhost:8080/",
          "height": 517
        },
        "id": "lht4tdniiyMc",
        "outputId": "1d034f3f-b591-498e-b133-b65a9fa72cde"
      },
      "execution_count": 29,
      "outputs": [
        {
          "output_type": "execute_result",
          "data": {
            "text/plain": [
              "DATE                     2022-02-01      2022-02-02      2022-02-03       \\\n",
              "PLAN/FAKT                      plan fakt       plan fakt       plan fakt   \n",
              "                                                                           \n",
              "passwordCOST                                                               \n",
              "VZO_POS1_POD_MOB_.                0    0          0    0          0    0   \n",
              "VZO_POS1_POD_VRD_DP17.01          0    0          0    0          0    0   \n",
              "VZO_POS1_POD_VRS_ES0.01           0    0          0    0          0    0   \n",
              "VZO_POS1_POD_VRS_VK0.01           0    0          0    0          0    0   \n",
              "VZO_POS1_POD_VRD_DP17.02          0    0          0    0          0    0   \n",
              "...                             ...  ...        ...  ...        ...  ...   \n",
              "BOT_GP___.                        0    0          0    0          0    0   \n",
              "BOT_GP                            0    0          0    0          0    0   \n",
              "_EXP___.                          0    0          0    0          0    0   \n",
              "_ZOS___.                          0    0          0    0          0    0   \n",
              "_RNV___.                          0    0          0    0          0    0   \n",
              "\n",
              "DATE                     2022-02-04      2022-02-05       ... 2023-01-29       \\\n",
              "PLAN/FAKT                      plan fakt       plan fakt  ...       plan fakt   \n",
              "                                                          ...                   \n",
              "passwordCOST                                              ...                   \n",
              "VZO_POS1_POD_MOB_.                0    0          0    0  ...          0    0   \n",
              "VZO_POS1_POD_VRD_DP17.01          0    0          0    0  ...          0    0   \n",
              "VZO_POS1_POD_VRS_ES0.01           0    0          0    0  ...          0    0   \n",
              "VZO_POS1_POD_VRS_VK0.01           0    0          0    0  ...          0    0   \n",
              "VZO_POS1_POD_VRD_DP17.02          0    0          0    0  ...          0    0   \n",
              "...                             ...  ...        ...  ...  ...        ...  ...   \n",
              "BOT_GP___.                        0    0          0    0  ...          0    0   \n",
              "BOT_GP                            0    0          0    0  ...          0    0   \n",
              "_EXP___.                          0    0          0    0  ...          0    0   \n",
              "_ZOS___.                          0    0          0    0  ...          0    0   \n",
              "_RNV___.                          0    0          0    0  ...          0    0   \n",
              "\n",
              "DATE                     2023-01-30      2023-01-31      2023-02-01       \\\n",
              "PLAN/FAKT                      plan fakt       plan fakt       plan fakt   \n",
              "                                                                           \n",
              "passwordCOST                                                               \n",
              "VZO_POS1_POD_MOB_.                0    0          0    0          0    0   \n",
              "VZO_POS1_POD_VRD_DP17.01          0    0          0    0          0    0   \n",
              "VZO_POS1_POD_VRS_ES0.01           0    0          0    0          0    0   \n",
              "VZO_POS1_POD_VRS_VK0.01           0    0          0    0          0    0   \n",
              "VZO_POS1_POD_VRD_DP17.02          0    0          0    0          0    0   \n",
              "...                             ...  ...        ...  ...        ...  ...   \n",
              "BOT_GP___.                        0    0          0    0          0    0   \n",
              "BOT_GP                            0    0          0    0          0    0   \n",
              "_EXP___.                          0    0          0    0          0    0   \n",
              "_ZOS___.                          0    0          0    0          0    0   \n",
              "_RNV___.                          0    0          0    0          0    0   \n",
              "\n",
              "DATE                     2023-02-02       \n",
              "PLAN/FAKT                      plan fakt  \n",
              "                                          \n",
              "passwordCOST                              \n",
              "VZO_POS1_POD_MOB_.                0    0  \n",
              "VZO_POS1_POD_VRD_DP17.01          0    0  \n",
              "VZO_POS1_POD_VRS_ES0.01           0    0  \n",
              "VZO_POS1_POD_VRS_VK0.01           0    0  \n",
              "VZO_POS1_POD_VRD_DP17.02          0    0  \n",
              "...                             ...  ...  \n",
              "BOT_GP___.                        0    0  \n",
              "BOT_GP                            0    0  \n",
              "_EXP___.                          0    0  \n",
              "_ZOS___.                          0    0  \n",
              "_RNV___.                          0    0  \n",
              "\n",
              "[349 rows x 734 columns]"
            ],
            "text/html": [
              "\n",
              "  <div id=\"df-0fd0ae19-d8dc-4eb7-a276-557ba96da1d2\">\n",
              "    <div class=\"colab-df-container\">\n",
              "      <div>\n",
              "<style scoped>\n",
              "    .dataframe tbody tr th:only-of-type {\n",
              "        vertical-align: middle;\n",
              "    }\n",
              "\n",
              "    .dataframe tbody tr th {\n",
              "        vertical-align: top;\n",
              "    }\n",
              "\n",
              "    .dataframe thead tr th {\n",
              "        text-align: left;\n",
              "    }\n",
              "\n",
              "    .dataframe thead tr:last-of-type th {\n",
              "        text-align: right;\n",
              "    }\n",
              "</style>\n",
              "<table border=\"1\" class=\"dataframe\">\n",
              "  <thead>\n",
              "    <tr>\n",
              "      <th>DATE</th>\n",
              "      <th colspan=\"2\" halign=\"left\">2022-02-01</th>\n",
              "      <th colspan=\"2\" halign=\"left\">2022-02-02</th>\n",
              "      <th colspan=\"2\" halign=\"left\">2022-02-03</th>\n",
              "      <th colspan=\"2\" halign=\"left\">2022-02-04</th>\n",
              "      <th colspan=\"2\" halign=\"left\">2022-02-05</th>\n",
              "      <th>...</th>\n",
              "      <th colspan=\"2\" halign=\"left\">2023-01-29</th>\n",
              "      <th colspan=\"2\" halign=\"left\">2023-01-30</th>\n",
              "      <th colspan=\"2\" halign=\"left\">2023-01-31</th>\n",
              "      <th colspan=\"2\" halign=\"left\">2023-02-01</th>\n",
              "      <th colspan=\"2\" halign=\"left\">2023-02-02</th>\n",
              "    </tr>\n",
              "    <tr>\n",
              "      <th>PLAN/FAKT</th>\n",
              "      <th>plan</th>\n",
              "      <th>fakt</th>\n",
              "      <th>plan</th>\n",
              "      <th>fakt</th>\n",
              "      <th>plan</th>\n",
              "      <th>fakt</th>\n",
              "      <th>plan</th>\n",
              "      <th>fakt</th>\n",
              "      <th>plan</th>\n",
              "      <th>fakt</th>\n",
              "      <th>...</th>\n",
              "      <th>plan</th>\n",
              "      <th>fakt</th>\n",
              "      <th>plan</th>\n",
              "      <th>fakt</th>\n",
              "      <th>plan</th>\n",
              "      <th>fakt</th>\n",
              "      <th>plan</th>\n",
              "      <th>fakt</th>\n",
              "      <th>plan</th>\n",
              "      <th>fakt</th>\n",
              "    </tr>\n",
              "    <tr>\n",
              "      <th></th>\n",
              "      <th></th>\n",
              "      <th></th>\n",
              "      <th></th>\n",
              "      <th></th>\n",
              "      <th></th>\n",
              "      <th></th>\n",
              "      <th></th>\n",
              "      <th></th>\n",
              "      <th></th>\n",
              "      <th></th>\n",
              "      <th>...</th>\n",
              "      <th></th>\n",
              "      <th></th>\n",
              "      <th></th>\n",
              "      <th></th>\n",
              "      <th></th>\n",
              "      <th></th>\n",
              "      <th></th>\n",
              "      <th></th>\n",
              "      <th></th>\n",
              "      <th></th>\n",
              "    </tr>\n",
              "    <tr>\n",
              "      <th>passwordCOST</th>\n",
              "      <th></th>\n",
              "      <th></th>\n",
              "      <th></th>\n",
              "      <th></th>\n",
              "      <th></th>\n",
              "      <th></th>\n",
              "      <th></th>\n",
              "      <th></th>\n",
              "      <th></th>\n",
              "      <th></th>\n",
              "      <th></th>\n",
              "      <th></th>\n",
              "      <th></th>\n",
              "      <th></th>\n",
              "      <th></th>\n",
              "      <th></th>\n",
              "      <th></th>\n",
              "      <th></th>\n",
              "      <th></th>\n",
              "      <th></th>\n",
              "      <th></th>\n",
              "    </tr>\n",
              "  </thead>\n",
              "  <tbody>\n",
              "    <tr>\n",
              "      <th>VZO_POS1_POD_MOB_.</th>\n",
              "      <td>0</td>\n",
              "      <td>0</td>\n",
              "      <td>0</td>\n",
              "      <td>0</td>\n",
              "      <td>0</td>\n",
              "      <td>0</td>\n",
              "      <td>0</td>\n",
              "      <td>0</td>\n",
              "      <td>0</td>\n",
              "      <td>0</td>\n",
              "      <td>...</td>\n",
              "      <td>0</td>\n",
              "      <td>0</td>\n",
              "      <td>0</td>\n",
              "      <td>0</td>\n",
              "      <td>0</td>\n",
              "      <td>0</td>\n",
              "      <td>0</td>\n",
              "      <td>0</td>\n",
              "      <td>0</td>\n",
              "      <td>0</td>\n",
              "    </tr>\n",
              "    <tr>\n",
              "      <th>VZO_POS1_POD_VRD_DP17.01</th>\n",
              "      <td>0</td>\n",
              "      <td>0</td>\n",
              "      <td>0</td>\n",
              "      <td>0</td>\n",
              "      <td>0</td>\n",
              "      <td>0</td>\n",
              "      <td>0</td>\n",
              "      <td>0</td>\n",
              "      <td>0</td>\n",
              "      <td>0</td>\n",
              "      <td>...</td>\n",
              "      <td>0</td>\n",
              "      <td>0</td>\n",
              "      <td>0</td>\n",
              "      <td>0</td>\n",
              "      <td>0</td>\n",
              "      <td>0</td>\n",
              "      <td>0</td>\n",
              "      <td>0</td>\n",
              "      <td>0</td>\n",
              "      <td>0</td>\n",
              "    </tr>\n",
              "    <tr>\n",
              "      <th>VZO_POS1_POD_VRS_ES0.01</th>\n",
              "      <td>0</td>\n",
              "      <td>0</td>\n",
              "      <td>0</td>\n",
              "      <td>0</td>\n",
              "      <td>0</td>\n",
              "      <td>0</td>\n",
              "      <td>0</td>\n",
              "      <td>0</td>\n",
              "      <td>0</td>\n",
              "      <td>0</td>\n",
              "      <td>...</td>\n",
              "      <td>0</td>\n",
              "      <td>0</td>\n",
              "      <td>0</td>\n",
              "      <td>0</td>\n",
              "      <td>0</td>\n",
              "      <td>0</td>\n",
              "      <td>0</td>\n",
              "      <td>0</td>\n",
              "      <td>0</td>\n",
              "      <td>0</td>\n",
              "    </tr>\n",
              "    <tr>\n",
              "      <th>VZO_POS1_POD_VRS_VK0.01</th>\n",
              "      <td>0</td>\n",
              "      <td>0</td>\n",
              "      <td>0</td>\n",
              "      <td>0</td>\n",
              "      <td>0</td>\n",
              "      <td>0</td>\n",
              "      <td>0</td>\n",
              "      <td>0</td>\n",
              "      <td>0</td>\n",
              "      <td>0</td>\n",
              "      <td>...</td>\n",
              "      <td>0</td>\n",
              "      <td>0</td>\n",
              "      <td>0</td>\n",
              "      <td>0</td>\n",
              "      <td>0</td>\n",
              "      <td>0</td>\n",
              "      <td>0</td>\n",
              "      <td>0</td>\n",
              "      <td>0</td>\n",
              "      <td>0</td>\n",
              "    </tr>\n",
              "    <tr>\n",
              "      <th>VZO_POS1_POD_VRD_DP17.02</th>\n",
              "      <td>0</td>\n",
              "      <td>0</td>\n",
              "      <td>0</td>\n",
              "      <td>0</td>\n",
              "      <td>0</td>\n",
              "      <td>0</td>\n",
              "      <td>0</td>\n",
              "      <td>0</td>\n",
              "      <td>0</td>\n",
              "      <td>0</td>\n",
              "      <td>...</td>\n",
              "      <td>0</td>\n",
              "      <td>0</td>\n",
              "      <td>0</td>\n",
              "      <td>0</td>\n",
              "      <td>0</td>\n",
              "      <td>0</td>\n",
              "      <td>0</td>\n",
              "      <td>0</td>\n",
              "      <td>0</td>\n",
              "      <td>0</td>\n",
              "    </tr>\n",
              "    <tr>\n",
              "      <th>...</th>\n",
              "      <td>...</td>\n",
              "      <td>...</td>\n",
              "      <td>...</td>\n",
              "      <td>...</td>\n",
              "      <td>...</td>\n",
              "      <td>...</td>\n",
              "      <td>...</td>\n",
              "      <td>...</td>\n",
              "      <td>...</td>\n",
              "      <td>...</td>\n",
              "      <td>...</td>\n",
              "      <td>...</td>\n",
              "      <td>...</td>\n",
              "      <td>...</td>\n",
              "      <td>...</td>\n",
              "      <td>...</td>\n",
              "      <td>...</td>\n",
              "      <td>...</td>\n",
              "      <td>...</td>\n",
              "      <td>...</td>\n",
              "      <td>...</td>\n",
              "    </tr>\n",
              "    <tr>\n",
              "      <th>BOT_GP___.</th>\n",
              "      <td>0</td>\n",
              "      <td>0</td>\n",
              "      <td>0</td>\n",
              "      <td>0</td>\n",
              "      <td>0</td>\n",
              "      <td>0</td>\n",
              "      <td>0</td>\n",
              "      <td>0</td>\n",
              "      <td>0</td>\n",
              "      <td>0</td>\n",
              "      <td>...</td>\n",
              "      <td>0</td>\n",
              "      <td>0</td>\n",
              "      <td>0</td>\n",
              "      <td>0</td>\n",
              "      <td>0</td>\n",
              "      <td>0</td>\n",
              "      <td>0</td>\n",
              "      <td>0</td>\n",
              "      <td>0</td>\n",
              "      <td>0</td>\n",
              "    </tr>\n",
              "    <tr>\n",
              "      <th>BOT_GP</th>\n",
              "      <td>0</td>\n",
              "      <td>0</td>\n",
              "      <td>0</td>\n",
              "      <td>0</td>\n",
              "      <td>0</td>\n",
              "      <td>0</td>\n",
              "      <td>0</td>\n",
              "      <td>0</td>\n",
              "      <td>0</td>\n",
              "      <td>0</td>\n",
              "      <td>...</td>\n",
              "      <td>0</td>\n",
              "      <td>0</td>\n",
              "      <td>0</td>\n",
              "      <td>0</td>\n",
              "      <td>0</td>\n",
              "      <td>0</td>\n",
              "      <td>0</td>\n",
              "      <td>0</td>\n",
              "      <td>0</td>\n",
              "      <td>0</td>\n",
              "    </tr>\n",
              "    <tr>\n",
              "      <th>_EXP___.</th>\n",
              "      <td>0</td>\n",
              "      <td>0</td>\n",
              "      <td>0</td>\n",
              "      <td>0</td>\n",
              "      <td>0</td>\n",
              "      <td>0</td>\n",
              "      <td>0</td>\n",
              "      <td>0</td>\n",
              "      <td>0</td>\n",
              "      <td>0</td>\n",
              "      <td>...</td>\n",
              "      <td>0</td>\n",
              "      <td>0</td>\n",
              "      <td>0</td>\n",
              "      <td>0</td>\n",
              "      <td>0</td>\n",
              "      <td>0</td>\n",
              "      <td>0</td>\n",
              "      <td>0</td>\n",
              "      <td>0</td>\n",
              "      <td>0</td>\n",
              "    </tr>\n",
              "    <tr>\n",
              "      <th>_ZOS___.</th>\n",
              "      <td>0</td>\n",
              "      <td>0</td>\n",
              "      <td>0</td>\n",
              "      <td>0</td>\n",
              "      <td>0</td>\n",
              "      <td>0</td>\n",
              "      <td>0</td>\n",
              "      <td>0</td>\n",
              "      <td>0</td>\n",
              "      <td>0</td>\n",
              "      <td>...</td>\n",
              "      <td>0</td>\n",
              "      <td>0</td>\n",
              "      <td>0</td>\n",
              "      <td>0</td>\n",
              "      <td>0</td>\n",
              "      <td>0</td>\n",
              "      <td>0</td>\n",
              "      <td>0</td>\n",
              "      <td>0</td>\n",
              "      <td>0</td>\n",
              "    </tr>\n",
              "    <tr>\n",
              "      <th>_RNV___.</th>\n",
              "      <td>0</td>\n",
              "      <td>0</td>\n",
              "      <td>0</td>\n",
              "      <td>0</td>\n",
              "      <td>0</td>\n",
              "      <td>0</td>\n",
              "      <td>0</td>\n",
              "      <td>0</td>\n",
              "      <td>0</td>\n",
              "      <td>0</td>\n",
              "      <td>...</td>\n",
              "      <td>0</td>\n",
              "      <td>0</td>\n",
              "      <td>0</td>\n",
              "      <td>0</td>\n",
              "      <td>0</td>\n",
              "      <td>0</td>\n",
              "      <td>0</td>\n",
              "      <td>0</td>\n",
              "      <td>0</td>\n",
              "      <td>0</td>\n",
              "    </tr>\n",
              "  </tbody>\n",
              "</table>\n",
              "<p>349 rows × 734 columns</p>\n",
              "</div>\n",
              "      <button class=\"colab-df-convert\" onclick=\"convertToInteractive('df-0fd0ae19-d8dc-4eb7-a276-557ba96da1d2')\"\n",
              "              title=\"Convert this dataframe to an interactive table.\"\n",
              "              style=\"display:none;\">\n",
              "        \n",
              "  <svg xmlns=\"http://www.w3.org/2000/svg\" height=\"24px\"viewBox=\"0 0 24 24\"\n",
              "       width=\"24px\">\n",
              "    <path d=\"M0 0h24v24H0V0z\" fill=\"none\"/>\n",
              "    <path d=\"M18.56 5.44l.94 2.06.94-2.06 2.06-.94-2.06-.94-.94-2.06-.94 2.06-2.06.94zm-11 1L8.5 8.5l.94-2.06 2.06-.94-2.06-.94L8.5 2.5l-.94 2.06-2.06.94zm10 10l.94 2.06.94-2.06 2.06-.94-2.06-.94-.94-2.06-.94 2.06-2.06.94z\"/><path d=\"M17.41 7.96l-1.37-1.37c-.4-.4-.92-.59-1.43-.59-.52 0-1.04.2-1.43.59L10.3 9.45l-7.72 7.72c-.78.78-.78 2.05 0 2.83L4 21.41c.39.39.9.59 1.41.59.51 0 1.02-.2 1.41-.59l7.78-7.78 2.81-2.81c.8-.78.8-2.07 0-2.86zM5.41 20L4 18.59l7.72-7.72 1.47 1.35L5.41 20z\"/>\n",
              "  </svg>\n",
              "      </button>\n",
              "      \n",
              "  <style>\n",
              "    .colab-df-container {\n",
              "      display:flex;\n",
              "      flex-wrap:wrap;\n",
              "      gap: 12px;\n",
              "    }\n",
              "\n",
              "    .colab-df-convert {\n",
              "      background-color: #E8F0FE;\n",
              "      border: none;\n",
              "      border-radius: 50%;\n",
              "      cursor: pointer;\n",
              "      display: none;\n",
              "      fill: #1967D2;\n",
              "      height: 32px;\n",
              "      padding: 0 0 0 0;\n",
              "      width: 32px;\n",
              "    }\n",
              "\n",
              "    .colab-df-convert:hover {\n",
              "      background-color: #E2EBFA;\n",
              "      box-shadow: 0px 1px 2px rgba(60, 64, 67, 0.3), 0px 1px 3px 1px rgba(60, 64, 67, 0.15);\n",
              "      fill: #174EA6;\n",
              "    }\n",
              "\n",
              "    [theme=dark] .colab-df-convert {\n",
              "      background-color: #3B4455;\n",
              "      fill: #D2E3FC;\n",
              "    }\n",
              "\n",
              "    [theme=dark] .colab-df-convert:hover {\n",
              "      background-color: #434B5C;\n",
              "      box-shadow: 0px 1px 3px 1px rgba(0, 0, 0, 0.15);\n",
              "      filter: drop-shadow(0px 1px 2px rgba(0, 0, 0, 0.3));\n",
              "      fill: #FFFFFF;\n",
              "    }\n",
              "  </style>\n",
              "\n",
              "      <script>\n",
              "        const buttonEl =\n",
              "          document.querySelector('#df-0fd0ae19-d8dc-4eb7-a276-557ba96da1d2 button.colab-df-convert');\n",
              "        buttonEl.style.display =\n",
              "          google.colab.kernel.accessAllowed ? 'block' : 'none';\n",
              "\n",
              "        async function convertToInteractive(key) {\n",
              "          const element = document.querySelector('#df-0fd0ae19-d8dc-4eb7-a276-557ba96da1d2');\n",
              "          const dataTable =\n",
              "            await google.colab.kernel.invokeFunction('convertToInteractive',\n",
              "                                                     [key], {});\n",
              "          if (!dataTable) return;\n",
              "\n",
              "          const docLinkHtml = 'Like what you see? Visit the ' +\n",
              "            '<a target=\"_blank\" href=https://colab.research.google.com/notebooks/data_table.ipynb>data table notebook</a>'\n",
              "            + ' to learn more about interactive tables.';\n",
              "          element.innerHTML = '';\n",
              "          dataTable['output_type'] = 'display_data';\n",
              "          await google.colab.output.renderOutput(dataTable, element);\n",
              "          const docLink = document.createElement('div');\n",
              "          docLink.innerHTML = docLinkHtml;\n",
              "          element.appendChild(docLink);\n",
              "        }\n",
              "      </script>\n",
              "    </div>\n",
              "  </div>\n",
              "  "
            ]
          },
          "metadata": {},
          "execution_count": 29
        }
      ]
    },
    {
      "cell_type": "markdown",
      "source": [
        "#### Расчет SMR plan/fakt\n",
        "\n",
        "* to ENTER: \n",
        "            START => str()\n",
        "            FINISH => str()"
      ],
      "metadata": {
        "id": "nW8318E3_bpI"
      }
    },
    {
      "cell_type": "markdown",
      "source": [
        "##### Расчет ПЛАНА КС-2"
      ],
      "metadata": {
        "id": "qcHhwFM0qILn"
      }
    },
    {
      "cell_type": "markdown",
      "source": [
        "❗ применяется текущая модель формирования графика - graf, fin"
      ],
      "metadata": {
        "id": "Oake9437F0oR"
      }
    },
    {
      "cell_type": "code",
      "source": [
        "# start and finish input in filter backend\n",
        "start = '30.12.2022'\n",
        "start = pd.to_datetime(start)\n",
        "finish = '16.01.2023'\n",
        "finish = pd.to_datetime(finish)\n",
        "start, finish"
      ],
      "metadata": {
        "colab": {
          "base_uri": "https://localhost:8080/"
        },
        "id": "Xm1bc-zR_4zU",
        "outputId": "79d60636-88c4-4a20-9279-473ab572422d"
      },
      "execution_count": 70,
      "outputs": [
        {
          "output_type": "execute_result",
          "data": {
            "text/plain": [
              "(Timestamp('2022-12-30 00:00:00'), Timestamp('2023-01-16 00:00:00'))"
            ]
          },
          "metadata": {},
          "execution_count": 70
        }
      ]
    },
    {
      "cell_type": "code",
      "source": [
        "# number KS-2 input in backend\n",
        "numberKS_2 = '2'\n",
        "numberKS_2 = pd.to_numeric(numberKS_2)\n",
        "nameKS_2 = 'КС-2 №{}'.format(numberKS_2)"
      ],
      "metadata": {
        "id": "zy-TogqxBYMe"
      },
      "execution_count": 71,
      "outputs": []
    },
    {
      "cell_type": "code",
      "source": [
        "plan_KS2 = graf.loc[:, idx[start:finish,'план']].sum(axis=1).values\n",
        "plan_KS2 = pd.DataFrame(plan_KS2,index=graf.index, columns=pd.MultiIndex.from_tuples([(finish, 'plan', nameKS_2)]))"
      ],
      "metadata": {
        "id": "vREUJyuTQAZr"
      },
      "execution_count": 72,
      "outputs": []
    },
    {
      "cell_type": "code",
      "source": [
        "plan_KS2 = plan_KS2.loc[list(set(plan_KS2.index) & set(fin.index))]\n",
        "plan_KS2 = plan_KS2.join(fin['pricingItem'])\n",
        "plan_KS2['total'] = plan_KS2.iloc[:, 0] * plan_KS2.iloc[:, 1]\n",
        "plan_KS2 = pd.DataFrame(plan_KS2['total'],index=plan_KS2.index, columns=pd.MultiIndex.from_tuples([(finish, 'plan', nameKS_2)]))"
      ],
      "metadata": {
        "id": "8XNEGYu_Tb9O"
      },
      "execution_count": 73,
      "outputs": []
    },
    {
      "cell_type": "code",
      "source": [
        "totalData = totalData.join(plan_KS2)\n",
        "totalData = totalData.sort_index(axis=1, level=0)"
      ],
      "metadata": {
        "id": "4wNxKWkPjf3C"
      },
      "execution_count": 34,
      "outputs": []
    },
    {
      "cell_type": "markdown",
      "source": [
        "❌ см. предидущий комментарий"
      ],
      "metadata": {
        "id": "Mldj0G2QphOt"
      }
    },
    {
      "cell_type": "markdown",
      "source": [
        "##### Расчет ФАКТ КС-2 \n",
        "\n",
        "Добавляем из фактической КС на АСС"
      ],
      "metadata": {
        "id": "KiSeE6ncpxEH"
      }
    },
    {
      "cell_type": "markdown",
      "source": [
        "#### Расчет плана финансирования"
      ],
      "metadata": {
        "id": "uyGGthadq3u9"
      }
    },
    {
      "cell_type": "code",
      "source": [
        "# данные вводит пользователь\n",
        "start = '30.12.2022'\n",
        "start = pd.to_datetime(start)\n",
        "finish = '16.01.2023'\n",
        "finish = pd.to_datetime(finish)\n",
        "start, finish"
      ],
      "metadata": {
        "colab": {
          "base_uri": "https://localhost:8080/"
        },
        "id": "-e2F11jJboOK",
        "outputId": "0dbfbb46-b019-4882-cbe7-5281fbbc8c75"
      },
      "execution_count": 35,
      "outputs": [
        {
          "output_type": "execute_result",
          "data": {
            "text/plain": [
              "(Timestamp('2022-12-30 00:00:00'), Timestamp('2023-01-16 00:00:00'))"
            ]
          },
          "metadata": {},
          "execution_count": 35
        }
      ]
    },
    {
      "cell_type": "code",
      "source": [
        "# данные вводит пользователь\n",
        "rate_plan = 7\n",
        "numberPlan = 1\n",
        "# namePlan = 'FinPlan №{}'.format(numberPlan)"
      ],
      "metadata": {
        "id": "OejNNBOuboRc"
      },
      "execution_count": 36,
      "outputs": []
    },
    {
      "cell_type": "code",
      "source": [
        "listStart = pd.date_range(start=start, end=finish, freq='{}D'.format(rate_plan))\n",
        "listFinish = pd.date_range(start=(start - timedelta(days=1)), end=finish, freq='{}D'.format(rate_plan))"
      ],
      "metadata": {
        "id": "FYtccf-mboUj"
      },
      "execution_count": 37,
      "outputs": []
    },
    {
      "cell_type": "code",
      "source": [
        "datePlan = list(zip(listStart,listFinish))"
      ],
      "metadata": {
        "id": "ENzcuZXwRIJ-"
      },
      "execution_count": 38,
      "outputs": []
    },
    {
      "cell_type": "code",
      "source": [
        "indx = 1\n",
        "totalPay = pd.DataFrame(fin['pricingItem'].values, index=fin.index, columns=['pricingItem'])\n",
        "total =[]"
      ],
      "metadata": {
        "id": "qRiQxencTKgO"
      },
      "execution_count": 39,
      "outputs": []
    },
    {
      "cell_type": "code",
      "source": [
        "for i in datePlan:\n",
        "    start = pd.Timestamp(i[0]).date()\n",
        "    finish = pd.Timestamp(i[1]).date()\n",
        "    namePay = 'PayPlan #{} pay #{}'.format(numberPlan, indx)\n",
        "\n",
        "    plan_PAY = graf.loc[:, idx[start:finish,'план']].sum(axis=1).values\n",
        "    # plan_PAY = pd.DataFrame(plan_PAY,index=graf.index, columns=pd.MultiIndex.from_tuples([(finish, 'plan', 'value')]))\n",
        "    plan_PAY = pd.DataFrame(plan_PAY,index=graf.index)\n",
        "    plan_PAY = plan_PAY.loc[list(set(totalPay.index) & set(plan_PAY.index))]\n",
        "    plan_PAY = plan_PAY.join(totalPay['pricingItem'])\n",
        "    plan_PAY[(finish, 'plan', namePay)] = plan_PAY['pricingItem'] * plan_PAY.iloc[:, 0]\n",
        "    # plan_PAY[(finish, 'plan', namePay)] = plan_PAY.iloc[:, indx-1] * totalPay['pricingItem']\n",
        "    total.append(plan_PAY.iloc[:, idx[-1]])\n",
        "\n",
        "    indx += 1"
      ],
      "metadata": {
        "id": "pbH022e_uPQ4"
      },
      "execution_count": 40,
      "outputs": []
    },
    {
      "cell_type": "code",
      "source": [
        "for i in total:\n",
        "    totalPay = totalPay.join(i)"
      ],
      "metadata": {
        "id": "O_x3upPogKuZ"
      },
      "execution_count": 41,
      "outputs": []
    },
    {
      "cell_type": "code",
      "source": [
        "totalPay = totalPay.iloc[:, idx[1:]]"
      ],
      "metadata": {
        "id": "MUrYmJCAgKxQ"
      },
      "execution_count": 42,
      "outputs": []
    },
    {
      "cell_type": "code",
      "source": [
        "totalData = totalData.join(totalPay)\n",
        "totalData = totalData.sort_index(axis=1, level=0)"
      ],
      "metadata": {
        "id": "32ms7I24gK1q"
      },
      "execution_count": 43,
      "outputs": []
    },
    {
      "cell_type": "code",
      "source": [
        "totalData"
      ],
      "metadata": {
        "id": "XoI7kBk9gK7X"
      },
      "execution_count": null,
      "outputs": []
    },
    {
      "cell_type": "code",
      "source": [
        "# worksheet.worksheet('PLAN_WEEK').update_cells()"
      ],
      "metadata": {
        "id": "QnpYxIGcQCvh"
      },
      "execution_count": 45,
      "outputs": []
    },
    {
      "cell_type": "code",
      "source": [
        "# worksheet.worksheet('PLAN_WEEK').append_rows([planFakt.columns.values.tolist()]+planFakt.values.tolist())"
      ],
      "metadata": {
        "id": "7hMC4y8r3WZz"
      },
      "execution_count": null,
      "outputs": []
    },
    {
      "cell_type": "code",
      "source": [
        "# данный элемент добавляется после каждого участка добавления данных\n",
        "# multiindex = multiindex.append(pd.MultiIndex.from_tuples([(pd.to_datetime('02.02.2022'), 'plan', 'Plan #{} {}'.format(1,3))],names=(\"DATE\", \"PLAN/FAKT\",\" \")))\n",
        "# multiindex.sortlevel(level=0)"
      ],
      "metadata": {
        "id": "bG6IWcOH2jyX"
      },
      "execution_count": null,
      "outputs": []
    },
    {
      "cell_type": "code",
      "source": [
        "dir(worksheet.worksheet('PLAN_WEEK'))"
      ],
      "metadata": {
        "id": "QnruzOLIvduo"
      },
      "execution_count": null,
      "outputs": []
    },
    {
      "cell_type": "markdown",
      "source": [
        "# обновление плана недели"
      ],
      "metadata": {
        "id": "WxjZc6sSDO-h"
      }
    },
    {
      "cell_type": "code",
      "source": [
        "start_week = '30.12.2022'\n",
        "start_week = pd.to_datetime(start_week)\n",
        "finish_week = '16.01.2023'\n",
        "finish_week = pd.to_datetime(finish_week)\n",
        "# ----------------------------------------------------\n",
        "start_next_week = '17.01.2023'\n",
        "start_next_week = pd.to_datetime(start_next_week)\n",
        "finish_next_week = '20.01.2023'\n",
        "finish__next_week = pd.to_datetime(finish_next_week)\n",
        "# -----------------------------------------------------\n",
        "start_project = '01.02.2022'\n",
        "start_project = pd.to_datetime(start_project)\n",
        "finish_week = '16.01.2023'\n",
        "finish_week = pd.to_datetime(finish_week)"
      ],
      "metadata": {
        "id": "w2nznbwtDhjD"
      },
      "execution_count": 159,
      "outputs": []
    },
    {
      "cell_type": "code",
      "source": [
        "graf_week_plan = graf.loc[:, idx[start_week:finish_week,'план']].sum(axis=1).values\n",
        "graf_week_plan = pd.DataFrame(graf_week_plan,index=graf.index, columns=['PLAN_WEEK'])\n",
        "graf_week_fakt = graf.loc[:, idx[start_week:finish_week,'факт']].sum(axis=1).values\n",
        "graf_week_fakt = pd.DataFrame(graf_week_fakt,index=graf.index, columns=['FAKT_WEEK'])"
      ],
      "metadata": {
        "id": "cptbZgizDXYS"
      },
      "execution_count": 160,
      "outputs": []
    },
    {
      "cell_type": "code",
      "source": [
        "graf_next_week_plan = graf.loc[:, idx[start_next_week:finish_next_week,'план']].sum(axis=1).values\n",
        "graf_next_week_plan = pd.DataFrame(graf_next_week_plan,index=graf.index, columns=['PLAN_NEXT_WEEK'])\n",
        "graf_next_week_fakt = graf.loc[:, idx[start_next_week:finish_next_week,'факт']].sum(axis=1).values\n",
        "graf_next_week_fakt = pd.DataFrame(graf_next_week_fakt,index=graf.index, columns=['FAKT_NEXT_WEEK'])"
      ],
      "metadata": {
        "id": "f3_fl2VEFBgY"
      },
      "execution_count": 161,
      "outputs": []
    },
    {
      "cell_type": "code",
      "source": [
        "total_plan = graf.loc[:, idx[start_project:finish_week,'план']].sum(axis=1).values\n",
        "total_plan = pd.DataFrame(total_plan,index=graf.index, columns=['TOTAL_PLAN'])\n",
        "total_fakt = graf.loc[:, idx[start_project:finish_week,'факт']].sum(axis=1).values\n",
        "total_fakt = pd.DataFrame(total_fakt,index=graf.index, columns=['TOTAL_FAKT'])"
      ],
      "metadata": {
        "id": "lHuThjf1SYna"
      },
      "execution_count": 162,
      "outputs": []
    },
    {
      "cell_type": "code",
      "source": [
        "new_graf_week = new_graf.join([total_plan,total_fakt,graf_week_plan,graf_week_fakt,graf_next_week_plan,graf_next_week_fakt])"
      ],
      "metadata": {
        "id": "zY4nMRloDad1"
      },
      "execution_count": 163,
      "outputs": []
    },
    {
      "cell_type": "code",
      "source": [
        "new_graf_week = new_graf_week[new_graf_week['PLAN_WEEK']>0]"
      ],
      "metadata": {
        "id": "Mf4wQH7eIZOj"
      },
      "execution_count": 164,
      "outputs": []
    },
    {
      "cell_type": "code",
      "source": [
        "new_graf_week = new_graf_week[['NAME', 'TOTAL_PLAN','TOTAL_FAKT','PLAN_WEEK','FAKT_WEEK','PLAN_NEXT_WEEK','FAKT_NEXT_WEEK']]"
      ],
      "metadata": {
        "id": "Qc88yt-bVqQa"
      },
      "execution_count": 165,
      "outputs": []
    },
    {
      "cell_type": "code",
      "source": [
        "new_graf_week['%TOTAl_WEEK'] =( new_graf_week['FAKT_WEEK'] / new_graf_week['PLAN_WEEK']).mul(100).round(2).astype(str).add(' %')"
      ],
      "metadata": {
        "id": "ljrIqtjDZd1u"
      },
      "execution_count": 166,
      "outputs": []
    },
    {
      "cell_type": "code",
      "source": [
        "new_graf_week['%TOTAl'] =( new_graf_week['TOTAL_FAKT'] / new_graf_week['TOTAL_PLAN']).mul(100).round(2).astype(str).add(' %')"
      ],
      "metadata": {
        "id": "PlPiYK6EV12A"
      },
      "execution_count": 167,
      "outputs": []
    },
    {
      "cell_type": "code",
      "source": [
        "new_graf_week.rename(columns={'NAME':f'WORK on {pd.to_datetime(start_week).date()}  to {pd.to_datetime(finish_week).date()}'}, inplace=True)"
      ],
      "metadata": {
        "id": "jBgA-emRXhXf"
      },
      "execution_count": 168,
      "outputs": []
    },
    {
      "cell_type": "code",
      "source": [
        "worksheet.worksheet('PLAN_WEEK').clear()"
      ],
      "metadata": {
        "id": "TcW1LKYGZJrL"
      },
      "execution_count": null,
      "outputs": []
    },
    {
      "cell_type": "code",
      "source": [
        "worksheet.worksheet('PLAN_WEEK').append_rows([new_graf_week.columns.values.tolist()]+new_graf_week.values.tolist())"
      ],
      "metadata": {
        "id": "Sd-Qr_pgX3b3"
      },
      "execution_count": null,
      "outputs": []
    }
  ]
}