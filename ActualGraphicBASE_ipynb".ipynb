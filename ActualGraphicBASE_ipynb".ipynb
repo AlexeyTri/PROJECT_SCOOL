{
  "nbformat": 4,
  "nbformat_minor": 0,
  "metadata": {
    "colab": {
      "provenance": [],
      "authorship_tag": "ABX9TyNTQXYAlTONsf+kHI4u8U+n",
      "include_colab_link": true
    },
    "kernelspec": {
      "name": "python3",
      "display_name": "Python 3"
    },
    "language_info": {
      "name": "python"
    }
  },
  "cells": [
    {
      "cell_type": "markdown",
      "metadata": {
        "id": "view-in-github",
        "colab_type": "text"
      },
      "source": [
        "<a href=\"https://colab.research.google.com/github/AlexeyTri/PROJECT_SCOOL/blob/master/ActualGraphicBASE_ipynb%22.ipynb\" target=\"_parent\"><img src=\"https://colab.research.google.com/assets/colab-badge.svg\" alt=\"Open In Colab\"/></a>"
      ]
    },
    {
      "cell_type": "markdown",
      "source": [
        "**Условия:**\n",
        "1. наличие AUTODESK DESKTOP\n",
        "2. доступ ко всем таблицам в режиме РЕДАКТОР\n",
        "3. все тактические графики должны быть приведены в гугл форму"
      ],
      "metadata": {
        "id": "UOOMQ0AEaGdw"
      }
    },
    {
      "cell_type": "markdown",
      "source": [
        "# Библиотеки"
      ],
      "metadata": {
        "id": "2BtSMZMti6bn"
      }
    },
    {
      "cell_type": "code",
      "source": [
        "!pip install pygsheets"
      ],
      "metadata": {
        "id": "QC8iAj4eYkJq",
        "outputId": "75d9d8c0-70a0-4740-c6f3-c30b13972b78",
        "colab": {
          "base_uri": "https://localhost:8080/"
        }
      },
      "execution_count": 1,
      "outputs": [
        {
          "output_type": "stream",
          "name": "stdout",
          "text": [
            "Looking in indexes: https://pypi.org/simple, https://us-python.pkg.dev/colab-wheels/public/simple/\n",
            "Collecting pygsheets\n",
            "  Downloading pygsheets-2.0.6-py3-none-any.whl (158 kB)\n",
            "\u001b[2K     \u001b[90m━━━━━━━━━━━━━━━━━━━━━━━━━━━━━━━━━━━━━━━\u001b[0m \u001b[32m158.2/158.2 KB\u001b[0m \u001b[31m4.0 MB/s\u001b[0m eta \u001b[36m0:00:00\u001b[0m\n",
            "\u001b[?25hCollecting google-auth-oauthlib>=0.7.1\n",
            "  Downloading google_auth_oauthlib-0.8.0-py2.py3-none-any.whl (19 kB)\n",
            "Requirement already satisfied: google-api-python-client>=2.50.0 in /usr/local/lib/python3.8/dist-packages (from pygsheets) (2.70.0)\n",
            "Requirement already satisfied: uritemplate<5,>=3.0.1 in /usr/local/lib/python3.8/dist-packages (from google-api-python-client>=2.50.0->pygsheets) (4.1.1)\n",
            "Requirement already satisfied: google-auth<3.0.0dev,>=1.19.0 in /usr/local/lib/python3.8/dist-packages (from google-api-python-client>=2.50.0->pygsheets) (2.16.0)\n",
            "Requirement already satisfied: google-auth-httplib2>=0.1.0 in /usr/local/lib/python3.8/dist-packages (from google-api-python-client>=2.50.0->pygsheets) (0.1.0)\n",
            "Requirement already satisfied: google-api-core!=2.0.*,!=2.1.*,!=2.2.*,!=2.3.0,<3.0.0dev,>=1.31.5 in /usr/local/lib/python3.8/dist-packages (from google-api-python-client>=2.50.0->pygsheets) (2.11.0)\n",
            "Requirement already satisfied: httplib2<1dev,>=0.15.0 in /usr/local/lib/python3.8/dist-packages (from google-api-python-client>=2.50.0->pygsheets) (0.17.4)\n",
            "Requirement already satisfied: requests-oauthlib>=0.7.0 in /usr/local/lib/python3.8/dist-packages (from google-auth-oauthlib>=0.7.1->pygsheets) (1.3.1)\n",
            "Requirement already satisfied: protobuf!=3.20.0,!=3.20.1,!=4.21.0,!=4.21.1,!=4.21.2,!=4.21.3,!=4.21.4,!=4.21.5,<5.0.0dev,>=3.19.5 in /usr/local/lib/python3.8/dist-packages (from google-api-core!=2.0.*,!=2.1.*,!=2.2.*,!=2.3.0,<3.0.0dev,>=1.31.5->google-api-python-client>=2.50.0->pygsheets) (3.19.6)\n",
            "Requirement already satisfied: requests<3.0.0dev,>=2.18.0 in /usr/local/lib/python3.8/dist-packages (from google-api-core!=2.0.*,!=2.1.*,!=2.2.*,!=2.3.0,<3.0.0dev,>=1.31.5->google-api-python-client>=2.50.0->pygsheets) (2.25.1)\n",
            "Requirement already satisfied: googleapis-common-protos<2.0dev,>=1.56.2 in /usr/local/lib/python3.8/dist-packages (from google-api-core!=2.0.*,!=2.1.*,!=2.2.*,!=2.3.0,<3.0.0dev,>=1.31.5->google-api-python-client>=2.50.0->pygsheets) (1.58.0)\n",
            "Requirement already satisfied: rsa<5,>=3.1.4 in /usr/local/lib/python3.8/dist-packages (from google-auth<3.0.0dev,>=1.19.0->google-api-python-client>=2.50.0->pygsheets) (4.9)\n",
            "Requirement already satisfied: six>=1.9.0 in /usr/local/lib/python3.8/dist-packages (from google-auth<3.0.0dev,>=1.19.0->google-api-python-client>=2.50.0->pygsheets) (1.15.0)\n",
            "Requirement already satisfied: pyasn1-modules>=0.2.1 in /usr/local/lib/python3.8/dist-packages (from google-auth<3.0.0dev,>=1.19.0->google-api-python-client>=2.50.0->pygsheets) (0.2.8)\n",
            "Requirement already satisfied: cachetools<6.0,>=2.0.0 in /usr/local/lib/python3.8/dist-packages (from google-auth<3.0.0dev,>=1.19.0->google-api-python-client>=2.50.0->pygsheets) (5.2.1)\n",
            "Requirement already satisfied: oauthlib>=3.0.0 in /usr/local/lib/python3.8/dist-packages (from requests-oauthlib>=0.7.0->google-auth-oauthlib>=0.7.1->pygsheets) (3.2.2)\n",
            "Requirement already satisfied: pyasn1<0.5.0,>=0.4.6 in /usr/local/lib/python3.8/dist-packages (from pyasn1-modules>=0.2.1->google-auth<3.0.0dev,>=1.19.0->google-api-python-client>=2.50.0->pygsheets) (0.4.8)\n",
            "Requirement already satisfied: urllib3<1.27,>=1.21.1 in /usr/local/lib/python3.8/dist-packages (from requests<3.0.0dev,>=2.18.0->google-api-core!=2.0.*,!=2.1.*,!=2.2.*,!=2.3.0,<3.0.0dev,>=1.31.5->google-api-python-client>=2.50.0->pygsheets) (1.24.3)\n",
            "Requirement already satisfied: chardet<5,>=3.0.2 in /usr/local/lib/python3.8/dist-packages (from requests<3.0.0dev,>=2.18.0->google-api-core!=2.0.*,!=2.1.*,!=2.2.*,!=2.3.0,<3.0.0dev,>=1.31.5->google-api-python-client>=2.50.0->pygsheets) (4.0.0)\n",
            "Requirement already satisfied: idna<3,>=2.5 in /usr/local/lib/python3.8/dist-packages (from requests<3.0.0dev,>=2.18.0->google-api-core!=2.0.*,!=2.1.*,!=2.2.*,!=2.3.0,<3.0.0dev,>=1.31.5->google-api-python-client>=2.50.0->pygsheets) (2.10)\n",
            "Requirement already satisfied: certifi>=2017.4.17 in /usr/local/lib/python3.8/dist-packages (from requests<3.0.0dev,>=2.18.0->google-api-core!=2.0.*,!=2.1.*,!=2.2.*,!=2.3.0,<3.0.0dev,>=1.31.5->google-api-python-client>=2.50.0->pygsheets) (2022.12.7)\n",
            "Installing collected packages: google-auth-oauthlib, pygsheets\n",
            "  Attempting uninstall: google-auth-oauthlib\n",
            "    Found existing installation: google-auth-oauthlib 0.4.6\n",
            "    Uninstalling google-auth-oauthlib-0.4.6:\n",
            "      Successfully uninstalled google-auth-oauthlib-0.4.6\n",
            "\u001b[31mERROR: pip's dependency resolver does not currently take into account all the packages that are installed. This behaviour is the source of the following dependency conflicts.\n",
            "tensorboard 2.9.1 requires google-auth-oauthlib<0.5,>=0.4.1, but you have google-auth-oauthlib 0.8.0 which is incompatible.\u001b[0m\u001b[31m\n",
            "\u001b[0mSuccessfully installed google-auth-oauthlib-0.8.0 pygsheets-2.0.6\n"
          ]
        }
      ]
    },
    {
      "cell_type": "code",
      "source": [
        "import pygsheets"
      ],
      "metadata": {
        "id": "3LZJcKXRY46d"
      },
      "execution_count": 2,
      "outputs": []
    },
    {
      "cell_type": "code",
      "source": [
        "import openpyxl\n",
        "from openpyxl.cell.cell import WriteOnlyCell\n",
        "from openpyxl.utils.dataframe import dataframe_to_rows\n",
        "from openpyxl import Workbook\n",
        "import pandas as pd\n",
        "import gspread_dataframe as gd"
      ],
      "metadata": {
        "id": "7oUB-mXiiKr-"
      },
      "execution_count": 3,
      "outputs": []
    },
    {
      "cell_type": "code",
      "source": [
        "idx = pd.IndexSlice"
      ],
      "metadata": {
        "id": "9aw7p1nwcEWR"
      },
      "execution_count": 4,
      "outputs": []
    },
    {
      "cell_type": "code",
      "source": [
        "from google.colab import auth\n",
        "auth.authenticate_user()\n",
        "import re\n",
        "import gspread\n",
        "from google.auth import default\n",
        "creds, _ = default()\n",
        "import numpy as np\n",
        "gc = gspread.authorize(creds)\n",
        "from datetime import datetime"
      ],
      "metadata": {
        "id": "O3gzrZVIuO_u"
      },
      "execution_count": 5,
      "outputs": []
    },
    {
      "cell_type": "markdown",
      "source": [
        "# отчетные даты"
      ],
      "metadata": {
        "id": "dy2QkaZF7klI"
      }
    },
    {
      "cell_type": "code",
      "source": [
        "# старт-финиш проекта\n",
        "start_project = '01.02.2022'\n",
        "start_project = pd.to_datetime(start_project)\n",
        "finish_project = '02.09.2024'\n",
        "finish_project = pd.to_datetime(finish_project)"
      ],
      "metadata": {
        "id": "_8L4AxKJf5c9"
      },
      "execution_count": 6,
      "outputs": []
    },
    {
      "cell_type": "code",
      "source": [
        "# страт-финиш отчетной \n",
        "start_week = '20.01.2023'\n",
        "start_week = pd.to_datetime(start_week)\n",
        "finish_week = '27.01.2023'\n",
        "finish_week = pd.to_datetime(finish_week)"
      ],
      "metadata": {
        "id": "F3gMPASU7wZ-"
      },
      "execution_count": 7,
      "outputs": []
    },
    {
      "cell_type": "code",
      "source": [
        "# старт-финиш next недели, за отчетной\n",
        "start_next_week = '28.01.2023'\n",
        "start_next_week = pd.to_datetime(start_next_week)\n",
        "finish_next_week = '03.02.2023'\n",
        "finish__next_week = pd.to_datetime(finish_next_week)"
      ],
      "metadata": {
        "id": "jPO8NmoS7wwA"
      },
      "execution_count": 8,
      "outputs": []
    },
    {
      "cell_type": "markdown",
      "source": [
        "# Предобработка GS: график проектирования, график СМР, график заказчика"
      ],
      "metadata": {
        "id": "vzGjLz4J7Pq3"
      }
    },
    {
      "cell_type": "markdown",
      "source": [
        "## Реестр выдачи РД\n",
        "\n",
        "https://docs.google.com/spreadsheets/d/1ZuZv1Rx-mp3AS5LFPjbEa-P92Xux_o_rvaOQb6NWXkE/edit#gid=479522789"
      ],
      "metadata": {
        "id": "irmbifzk9SVB"
      }
    },
    {
      "cell_type": "code",
      "source": [
        "# форма для обновления графика заказчика\n",
        "worksheet_PD = gc.open('Реестр выдачи РД')\n",
        "graph_PD = worksheet_PD.worksheet('График ПИР ')\n",
        "graph_PD = graph_PD.get_all_values()\n",
        "graph_PD = np.array(graph_PD)\n",
        "graph_PD = pd.DataFrame(graph_PD[7:])\n",
        "graph_PD"
      ],
      "metadata": {
        "id": "BDDeTk1Z9_Wg"
      },
      "execution_count": null,
      "outputs": []
    },
    {
      "cell_type": "code",
      "source": [
        "# форма для обновления графика подрядчика\n",
        "graph_PD_RD = pd.DataFrame.from_records(worksheet_PD.worksheet('График ПИР ').get_all_values())\n",
        "graph_PD_RD"
      ],
      "metadata": {
        "id": "irfRRgDl-Jtb"
      },
      "execution_count": null,
      "outputs": []
    },
    {
      "cell_type": "markdown",
      "source": [
        "## План работ Договор Адамант\n",
        "\n",
        "https://docs.google.com/spreadsheets/d/1ngWR2k38yG5qDWfwA9LKi4-R9q9PrIHludYb5vSh4Gc/edit#gid=1411311560"
      ],
      "metadata": {
        "id": "3-lNqeco_JYG"
      }
    },
    {
      "cell_type": "code",
      "source": [
        "# форма для обновления графика заказчика\n",
        "worksheet_SMR = gc.open('План работ Договор Адамант')\n",
        "graf = worksheet_SMR.worksheet(\"ГРАФИК РАБОТ\")\n",
        "graf = graf.get_all_values()\n",
        "graf = np.array(graf)\n",
        "graf =  pd.DataFrame(graf[1:, :])\n",
        "graf"
      ],
      "metadata": {
        "id": "I8oIiI7V_TYk"
      },
      "execution_count": null,
      "outputs": []
    },
    {
      "cell_type": "code",
      "source": [
        "# форма для заполнения факта\n",
        "graf_black = graf.copy()"
      ],
      "metadata": {
        "id": "pUMH0ScOHjO7"
      },
      "execution_count": 12,
      "outputs": []
    },
    {
      "cell_type": "code",
      "source": [
        "# форма для обновления графика недели\n",
        "week_graf = graf.copy()\n",
        "week_graf = week_graf.loc[idx[2:],idx[:6]]\n",
        "week_graf.drop([4,5], axis=1, inplace=True)\n",
        "week_graf.rename(columns = {0:'passwordCOST', \n",
        "                       1:'NAME',2:'START', 3:'FINISH', 6:'valueModel'}, \n",
        "            inplace = True)\n",
        "week_graf = week_graf[week_graf['passwordCOST'] > '']\n",
        "week_graf = week_graf[week_graf['START'] > '']\n",
        "week_graf = week_graf[week_graf['FINISH'] > '']\n",
        "week_graf = week_graf.set_index('passwordCOST')\n",
        "week_graf['valueModel'] = week_graf['valueModel'].map(lambda x: pd.to_numeric(re.sub(\"[^0-9+,]\", \"\", x).replace(',','.')))\n",
        "week_graf = week_graf.fillna(0)\n",
        "week_graf"
      ],
      "metadata": {
        "id": "ZQ-mWOAY_TfE"
      },
      "execution_count": null,
      "outputs": []
    },
    {
      "cell_type": "code",
      "source": [
        "# общий график работ\n",
        "graf_name = graf[[0,1]][2:]\n",
        "graf_name.rename(columns={0: 'passwordCOST', 1: 'NAME'}, inplace=True) \n",
        "graf_name = graf_name[graf_name['passwordCOST'] != 0]\n",
        "graf_name = pd.DataFrame(graf_name['NAME'].values, index=graf_name['passwordCOST'], columns=['NAME'])\n",
        "graf_total = graf.drop(graf.index[1:10], axis=1)\n",
        "newColumnsIndex = [pd.to_datetime(pd.Series(graf_total.iloc[0].values[1:]).apply(lambda x: str(x)), format='%d.%m.%Y'), graf_total.iloc[1][1:].values]\n",
        "graf_total.rename(columns={0: 'passwordCOST'}, inplace=True)\n",
        "graf_total = graf_total.set_index(\"passwordCOST\")\n",
        "graf_total = pd.DataFrame(graf_total.values, index=graf_total.index, columns=newColumnsIndex)\n",
        "graf_total.drop(graf_total.index[:2], axis=0, inplace=True)\n",
        "for i in graf_total.columns:\n",
        "    graf_total[i] = graf_total[i].map(lambda x: pd.to_numeric(re.sub(\"[^0-9 +,]\", \"\", x).replace(',','.')))\n",
        "graf_total.fillna(0, inplace=True)\n",
        "graf_total.sort_index(axis=0, level=1, ascending=True)\n",
        "graf_total = graf_total[graf_total.index > '']\n",
        "graf_total"
      ],
      "metadata": {
        "id": "zIhtOX1rAW05"
      },
      "execution_count": null,
      "outputs": []
    },
    {
      "cell_type": "code",
      "source": [
        "# перечень работ -> вгрузка из Plan Radar\n",
        "plan_PR = worksheet_SMR.worksheet('PR')\n",
        "plan_PR = plan_PR.get_all_values()\n",
        "plan_PR = np.array(plan_PR)\n",
        "plan_PR = pd.DataFrame(plan_PR)\n",
        "plan_PR = plan_PR.iloc[1:, [0,7,9]]\n",
        "plan_PR = pd.DataFrame(plan_PR)\n",
        "plan_PR"
      ],
      "metadata": {
        "id": "XZCtm_hxCwKE",
        "outputId": "2135f0ec-03ef-4a16-b1a2-8b7ef40bc9cf",
        "colab": {
          "base_uri": "https://localhost:8080/",
          "height": 423
        }
      },
      "execution_count": 15,
      "outputs": [
        {
          "output_type": "execute_result",
          "data": {
            "text/plain": [
              "                           0      7           9\n",
              "1    VZO_POS1_POD_INF_STN.01    1.0  2022-10-27\n",
              "2       OOS_KR1_ZEM_VP_00.01    1.0  2022-11-02\n",
              "3   VZO_POS1_POD_VRD_DP17.01  140.0  2022-11-02\n",
              "4   VZO_POS1_POD_VRD_DP17.02   80.0  2022-11-02\n",
              "5    VZO_POS1_POD_VRS_VK0.01    1.0  2022-11-02\n",
              "..                       ...    ...         ...\n",
              "89   VZO_POS1_POD_MMC_ONL.02    2.0  2022-12-31\n",
              "90   VZO_POS1_POD_KRA_ARN.01    1.5  2023-01-25\n",
              "91   OOS_KZ01_MEX_BFP_AAK.01   16.0  2023-01-24\n",
              "92     OOS_KR1_MK0_MRS_ST.02    4.0  2023-01-24\n",
              "93     OOS_KR1_MK0_MRS_ST.04    2.0  2023-01-25\n",
              "\n",
              "[93 rows x 3 columns]"
            ],
            "text/html": [
              "\n",
              "  <div id=\"df-3978af86-56d2-4315-a3c8-ab38d9cca484\">\n",
              "    <div class=\"colab-df-container\">\n",
              "      <div>\n",
              "<style scoped>\n",
              "    .dataframe tbody tr th:only-of-type {\n",
              "        vertical-align: middle;\n",
              "    }\n",
              "\n",
              "    .dataframe tbody tr th {\n",
              "        vertical-align: top;\n",
              "    }\n",
              "\n",
              "    .dataframe thead th {\n",
              "        text-align: right;\n",
              "    }\n",
              "</style>\n",
              "<table border=\"1\" class=\"dataframe\">\n",
              "  <thead>\n",
              "    <tr style=\"text-align: right;\">\n",
              "      <th></th>\n",
              "      <th>0</th>\n",
              "      <th>7</th>\n",
              "      <th>9</th>\n",
              "    </tr>\n",
              "  </thead>\n",
              "  <tbody>\n",
              "    <tr>\n",
              "      <th>1</th>\n",
              "      <td>VZO_POS1_POD_INF_STN.01</td>\n",
              "      <td>1.0</td>\n",
              "      <td>2022-10-27</td>\n",
              "    </tr>\n",
              "    <tr>\n",
              "      <th>2</th>\n",
              "      <td>OOS_KR1_ZEM_VP_00.01</td>\n",
              "      <td>1.0</td>\n",
              "      <td>2022-11-02</td>\n",
              "    </tr>\n",
              "    <tr>\n",
              "      <th>3</th>\n",
              "      <td>VZO_POS1_POD_VRD_DP17.01</td>\n",
              "      <td>140.0</td>\n",
              "      <td>2022-11-02</td>\n",
              "    </tr>\n",
              "    <tr>\n",
              "      <th>4</th>\n",
              "      <td>VZO_POS1_POD_VRD_DP17.02</td>\n",
              "      <td>80.0</td>\n",
              "      <td>2022-11-02</td>\n",
              "    </tr>\n",
              "    <tr>\n",
              "      <th>5</th>\n",
              "      <td>VZO_POS1_POD_VRS_VK0.01</td>\n",
              "      <td>1.0</td>\n",
              "      <td>2022-11-02</td>\n",
              "    </tr>\n",
              "    <tr>\n",
              "      <th>...</th>\n",
              "      <td>...</td>\n",
              "      <td>...</td>\n",
              "      <td>...</td>\n",
              "    </tr>\n",
              "    <tr>\n",
              "      <th>89</th>\n",
              "      <td>VZO_POS1_POD_MMC_ONL.02</td>\n",
              "      <td>2.0</td>\n",
              "      <td>2022-12-31</td>\n",
              "    </tr>\n",
              "    <tr>\n",
              "      <th>90</th>\n",
              "      <td>VZO_POS1_POD_KRA_ARN.01</td>\n",
              "      <td>1.5</td>\n",
              "      <td>2023-01-25</td>\n",
              "    </tr>\n",
              "    <tr>\n",
              "      <th>91</th>\n",
              "      <td>OOS_KZ01_MEX_BFP_AAK.01</td>\n",
              "      <td>16.0</td>\n",
              "      <td>2023-01-24</td>\n",
              "    </tr>\n",
              "    <tr>\n",
              "      <th>92</th>\n",
              "      <td>OOS_KR1_MK0_MRS_ST.02</td>\n",
              "      <td>4.0</td>\n",
              "      <td>2023-01-24</td>\n",
              "    </tr>\n",
              "    <tr>\n",
              "      <th>93</th>\n",
              "      <td>OOS_KR1_MK0_MRS_ST.04</td>\n",
              "      <td>2.0</td>\n",
              "      <td>2023-01-25</td>\n",
              "    </tr>\n",
              "  </tbody>\n",
              "</table>\n",
              "<p>93 rows × 3 columns</p>\n",
              "</div>\n",
              "      <button class=\"colab-df-convert\" onclick=\"convertToInteractive('df-3978af86-56d2-4315-a3c8-ab38d9cca484')\"\n",
              "              title=\"Convert this dataframe to an interactive table.\"\n",
              "              style=\"display:none;\">\n",
              "        \n",
              "  <svg xmlns=\"http://www.w3.org/2000/svg\" height=\"24px\"viewBox=\"0 0 24 24\"\n",
              "       width=\"24px\">\n",
              "    <path d=\"M0 0h24v24H0V0z\" fill=\"none\"/>\n",
              "    <path d=\"M18.56 5.44l.94 2.06.94-2.06 2.06-.94-2.06-.94-.94-2.06-.94 2.06-2.06.94zm-11 1L8.5 8.5l.94-2.06 2.06-.94-2.06-.94L8.5 2.5l-.94 2.06-2.06.94zm10 10l.94 2.06.94-2.06 2.06-.94-2.06-.94-.94-2.06-.94 2.06-2.06.94z\"/><path d=\"M17.41 7.96l-1.37-1.37c-.4-.4-.92-.59-1.43-.59-.52 0-1.04.2-1.43.59L10.3 9.45l-7.72 7.72c-.78.78-.78 2.05 0 2.83L4 21.41c.39.39.9.59 1.41.59.51 0 1.02-.2 1.41-.59l7.78-7.78 2.81-2.81c.8-.78.8-2.07 0-2.86zM5.41 20L4 18.59l7.72-7.72 1.47 1.35L5.41 20z\"/>\n",
              "  </svg>\n",
              "      </button>\n",
              "      \n",
              "  <style>\n",
              "    .colab-df-container {\n",
              "      display:flex;\n",
              "      flex-wrap:wrap;\n",
              "      gap: 12px;\n",
              "    }\n",
              "\n",
              "    .colab-df-convert {\n",
              "      background-color: #E8F0FE;\n",
              "      border: none;\n",
              "      border-radius: 50%;\n",
              "      cursor: pointer;\n",
              "      display: none;\n",
              "      fill: #1967D2;\n",
              "      height: 32px;\n",
              "      padding: 0 0 0 0;\n",
              "      width: 32px;\n",
              "    }\n",
              "\n",
              "    .colab-df-convert:hover {\n",
              "      background-color: #E2EBFA;\n",
              "      box-shadow: 0px 1px 2px rgba(60, 64, 67, 0.3), 0px 1px 3px 1px rgba(60, 64, 67, 0.15);\n",
              "      fill: #174EA6;\n",
              "    }\n",
              "\n",
              "    [theme=dark] .colab-df-convert {\n",
              "      background-color: #3B4455;\n",
              "      fill: #D2E3FC;\n",
              "    }\n",
              "\n",
              "    [theme=dark] .colab-df-convert:hover {\n",
              "      background-color: #434B5C;\n",
              "      box-shadow: 0px 1px 3px 1px rgba(0, 0, 0, 0.15);\n",
              "      filter: drop-shadow(0px 1px 2px rgba(0, 0, 0, 0.3));\n",
              "      fill: #FFFFFF;\n",
              "    }\n",
              "  </style>\n",
              "\n",
              "      <script>\n",
              "        const buttonEl =\n",
              "          document.querySelector('#df-3978af86-56d2-4315-a3c8-ab38d9cca484 button.colab-df-convert');\n",
              "        buttonEl.style.display =\n",
              "          google.colab.kernel.accessAllowed ? 'block' : 'none';\n",
              "\n",
              "        async function convertToInteractive(key) {\n",
              "          const element = document.querySelector('#df-3978af86-56d2-4315-a3c8-ab38d9cca484');\n",
              "          const dataTable =\n",
              "            await google.colab.kernel.invokeFunction('convertToInteractive',\n",
              "                                                     [key], {});\n",
              "          if (!dataTable) return;\n",
              "\n",
              "          const docLinkHtml = 'Like what you see? Visit the ' +\n",
              "            '<a target=\"_blank\" href=https://colab.research.google.com/notebooks/data_table.ipynb>data table notebook</a>'\n",
              "            + ' to learn more about interactive tables.';\n",
              "          element.innerHTML = '';\n",
              "          dataTable['output_type'] = 'display_data';\n",
              "          await google.colab.output.renderOutput(dataTable, element);\n",
              "          const docLink = document.createElement('div');\n",
              "          docLink.innerHTML = docLinkHtml;\n",
              "          element.appendChild(docLink);\n",
              "        }\n",
              "      </script>\n",
              "    </div>\n",
              "  </div>\n",
              "  "
            ]
          },
          "metadata": {},
          "execution_count": 15
        }
      ]
    },
    {
      "cell_type": "markdown",
      "source": [
        "## График по форме заказчика"
      ],
      "metadata": {
        "id": "GyCZY-dxDOZS"
      }
    },
    {
      "cell_type": "code",
      "execution_count": 16,
      "metadata": {
        "id": "wgy-583sKxnZ",
        "outputId": "233cf545-d3ab-4f2d-b73d-8b2443d4a5a5",
        "colab": {
          "base_uri": "https://localhost:8080/",
          "height": 90
        }
      },
      "outputs": [
        {
          "output_type": "display_data",
          "data": {
            "text/plain": [
              "<IPython.core.display.HTML object>"
            ],
            "text/html": [
              "\n",
              "     <input type=\"file\" id=\"files-d7bb50b0-6bb6-4415-8941-cbf6e3f0611c\" name=\"files[]\" multiple disabled\n",
              "        style=\"border:none\" />\n",
              "     <output id=\"result-d7bb50b0-6bb6-4415-8941-cbf6e3f0611c\">\n",
              "      Upload widget is only available when the cell has been executed in the\n",
              "      current browser session. Please rerun this cell to enable.\n",
              "      </output>\n",
              "      <script>// Copyright 2017 Google LLC\n",
              "//\n",
              "// Licensed under the Apache License, Version 2.0 (the \"License\");\n",
              "// you may not use this file except in compliance with the License.\n",
              "// You may obtain a copy of the License at\n",
              "//\n",
              "//      http://www.apache.org/licenses/LICENSE-2.0\n",
              "//\n",
              "// Unless required by applicable law or agreed to in writing, software\n",
              "// distributed under the License is distributed on an \"AS IS\" BASIS,\n",
              "// WITHOUT WARRANTIES OR CONDITIONS OF ANY KIND, either express or implied.\n",
              "// See the License for the specific language governing permissions and\n",
              "// limitations under the License.\n",
              "\n",
              "/**\n",
              " * @fileoverview Helpers for google.colab Python module.\n",
              " */\n",
              "(function(scope) {\n",
              "function span(text, styleAttributes = {}) {\n",
              "  const element = document.createElement('span');\n",
              "  element.textContent = text;\n",
              "  for (const key of Object.keys(styleAttributes)) {\n",
              "    element.style[key] = styleAttributes[key];\n",
              "  }\n",
              "  return element;\n",
              "}\n",
              "\n",
              "// Max number of bytes which will be uploaded at a time.\n",
              "const MAX_PAYLOAD_SIZE = 100 * 1024;\n",
              "\n",
              "function _uploadFiles(inputId, outputId) {\n",
              "  const steps = uploadFilesStep(inputId, outputId);\n",
              "  const outputElement = document.getElementById(outputId);\n",
              "  // Cache steps on the outputElement to make it available for the next call\n",
              "  // to uploadFilesContinue from Python.\n",
              "  outputElement.steps = steps;\n",
              "\n",
              "  return _uploadFilesContinue(outputId);\n",
              "}\n",
              "\n",
              "// This is roughly an async generator (not supported in the browser yet),\n",
              "// where there are multiple asynchronous steps and the Python side is going\n",
              "// to poll for completion of each step.\n",
              "// This uses a Promise to block the python side on completion of each step,\n",
              "// then passes the result of the previous step as the input to the next step.\n",
              "function _uploadFilesContinue(outputId) {\n",
              "  const outputElement = document.getElementById(outputId);\n",
              "  const steps = outputElement.steps;\n",
              "\n",
              "  const next = steps.next(outputElement.lastPromiseValue);\n",
              "  return Promise.resolve(next.value.promise).then((value) => {\n",
              "    // Cache the last promise value to make it available to the next\n",
              "    // step of the generator.\n",
              "    outputElement.lastPromiseValue = value;\n",
              "    return next.value.response;\n",
              "  });\n",
              "}\n",
              "\n",
              "/**\n",
              " * Generator function which is called between each async step of the upload\n",
              " * process.\n",
              " * @param {string} inputId Element ID of the input file picker element.\n",
              " * @param {string} outputId Element ID of the output display.\n",
              " * @return {!Iterable<!Object>} Iterable of next steps.\n",
              " */\n",
              "function* uploadFilesStep(inputId, outputId) {\n",
              "  const inputElement = document.getElementById(inputId);\n",
              "  inputElement.disabled = false;\n",
              "\n",
              "  const outputElement = document.getElementById(outputId);\n",
              "  outputElement.innerHTML = '';\n",
              "\n",
              "  const pickedPromise = new Promise((resolve) => {\n",
              "    inputElement.addEventListener('change', (e) => {\n",
              "      resolve(e.target.files);\n",
              "    });\n",
              "  });\n",
              "\n",
              "  const cancel = document.createElement('button');\n",
              "  inputElement.parentElement.appendChild(cancel);\n",
              "  cancel.textContent = 'Cancel upload';\n",
              "  const cancelPromise = new Promise((resolve) => {\n",
              "    cancel.onclick = () => {\n",
              "      resolve(null);\n",
              "    };\n",
              "  });\n",
              "\n",
              "  // Wait for the user to pick the files.\n",
              "  const files = yield {\n",
              "    promise: Promise.race([pickedPromise, cancelPromise]),\n",
              "    response: {\n",
              "      action: 'starting',\n",
              "    }\n",
              "  };\n",
              "\n",
              "  cancel.remove();\n",
              "\n",
              "  // Disable the input element since further picks are not allowed.\n",
              "  inputElement.disabled = true;\n",
              "\n",
              "  if (!files) {\n",
              "    return {\n",
              "      response: {\n",
              "        action: 'complete',\n",
              "      }\n",
              "    };\n",
              "  }\n",
              "\n",
              "  for (const file of files) {\n",
              "    const li = document.createElement('li');\n",
              "    li.append(span(file.name, {fontWeight: 'bold'}));\n",
              "    li.append(span(\n",
              "        `(${file.type || 'n/a'}) - ${file.size} bytes, ` +\n",
              "        `last modified: ${\n",
              "            file.lastModifiedDate ? file.lastModifiedDate.toLocaleDateString() :\n",
              "                                    'n/a'} - `));\n",
              "    const percent = span('0% done');\n",
              "    li.appendChild(percent);\n",
              "\n",
              "    outputElement.appendChild(li);\n",
              "\n",
              "    const fileDataPromise = new Promise((resolve) => {\n",
              "      const reader = new FileReader();\n",
              "      reader.onload = (e) => {\n",
              "        resolve(e.target.result);\n",
              "      };\n",
              "      reader.readAsArrayBuffer(file);\n",
              "    });\n",
              "    // Wait for the data to be ready.\n",
              "    let fileData = yield {\n",
              "      promise: fileDataPromise,\n",
              "      response: {\n",
              "        action: 'continue',\n",
              "      }\n",
              "    };\n",
              "\n",
              "    // Use a chunked sending to avoid message size limits. See b/62115660.\n",
              "    let position = 0;\n",
              "    do {\n",
              "      const length = Math.min(fileData.byteLength - position, MAX_PAYLOAD_SIZE);\n",
              "      const chunk = new Uint8Array(fileData, position, length);\n",
              "      position += length;\n",
              "\n",
              "      const base64 = btoa(String.fromCharCode.apply(null, chunk));\n",
              "      yield {\n",
              "        response: {\n",
              "          action: 'append',\n",
              "          file: file.name,\n",
              "          data: base64,\n",
              "        },\n",
              "      };\n",
              "\n",
              "      let percentDone = fileData.byteLength === 0 ?\n",
              "          100 :\n",
              "          Math.round((position / fileData.byteLength) * 100);\n",
              "      percent.textContent = `${percentDone}% done`;\n",
              "\n",
              "    } while (position < fileData.byteLength);\n",
              "  }\n",
              "\n",
              "  // All done.\n",
              "  yield {\n",
              "    response: {\n",
              "      action: 'complete',\n",
              "    }\n",
              "  };\n",
              "}\n",
              "\n",
              "scope.google = scope.google || {};\n",
              "scope.google.colab = scope.google.colab || {};\n",
              "scope.google.colab._files = {\n",
              "  _uploadFiles,\n",
              "  _uploadFilesContinue,\n",
              "};\n",
              "})(self);\n",
              "</script> "
            ]
          },
          "metadata": {}
        },
        {
          "output_type": "stream",
          "name": "stdout",
          "text": [
            "Saving Сводный план-график 2022 12 28 иса.xlsx to Сводный план-график 2022 12 28 иса.xlsx\n"
          ]
        }
      ],
      "source": [
        "# файл загружается на ГУГЛ диск\n",
        "from google.colab import files\n",
        "upload = files.upload()"
      ]
    },
    {
      "cell_type": "code",
      "source": [
        "df_graph = pd.read_excel(open('Сводный план-график 2022 12 28 иса.xlsx', 'rb'))\n",
        "df_graph"
      ],
      "metadata": {
        "id": "THf6puSMX3qT"
      },
      "execution_count": null,
      "outputs": []
    },
    {
      "cell_type": "markdown",
      "source": [
        "## Реестр замечаний из ACC"
      ],
      "metadata": {
        "id": "k6SQlJ_SDuP8"
      }
    },
    {
      "cell_type": "code",
      "source": [
        "# файл с реестром замечаний на google drive\n",
        "from google.colab import files\n",
        "upload = files.upload()"
      ],
      "metadata": {
        "id": "GsarAJGKV4py",
        "outputId": "85e1b062-3ab0-4e95-97bd-e936d92f1314",
        "colab": {
          "base_uri": "https://localhost:8080/",
          "height": 90
        }
      },
      "execution_count": 19,
      "outputs": [
        {
          "output_type": "display_data",
          "data": {
            "text/plain": [
              "<IPython.core.display.HTML object>"
            ],
            "text/html": [
              "\n",
              "     <input type=\"file\" id=\"files-43179549-0199-4f85-bbef-2cd94c7f99a5\" name=\"files[]\" multiple disabled\n",
              "        style=\"border:none\" />\n",
              "     <output id=\"result-43179549-0199-4f85-bbef-2cd94c7f99a5\">\n",
              "      Upload widget is only available when the cell has been executed in the\n",
              "      current browser session. Please rerun this cell to enable.\n",
              "      </output>\n",
              "      <script>// Copyright 2017 Google LLC\n",
              "//\n",
              "// Licensed under the Apache License, Version 2.0 (the \"License\");\n",
              "// you may not use this file except in compliance with the License.\n",
              "// You may obtain a copy of the License at\n",
              "//\n",
              "//      http://www.apache.org/licenses/LICENSE-2.0\n",
              "//\n",
              "// Unless required by applicable law or agreed to in writing, software\n",
              "// distributed under the License is distributed on an \"AS IS\" BASIS,\n",
              "// WITHOUT WARRANTIES OR CONDITIONS OF ANY KIND, either express or implied.\n",
              "// See the License for the specific language governing permissions and\n",
              "// limitations under the License.\n",
              "\n",
              "/**\n",
              " * @fileoverview Helpers for google.colab Python module.\n",
              " */\n",
              "(function(scope) {\n",
              "function span(text, styleAttributes = {}) {\n",
              "  const element = document.createElement('span');\n",
              "  element.textContent = text;\n",
              "  for (const key of Object.keys(styleAttributes)) {\n",
              "    element.style[key] = styleAttributes[key];\n",
              "  }\n",
              "  return element;\n",
              "}\n",
              "\n",
              "// Max number of bytes which will be uploaded at a time.\n",
              "const MAX_PAYLOAD_SIZE = 100 * 1024;\n",
              "\n",
              "function _uploadFiles(inputId, outputId) {\n",
              "  const steps = uploadFilesStep(inputId, outputId);\n",
              "  const outputElement = document.getElementById(outputId);\n",
              "  // Cache steps on the outputElement to make it available for the next call\n",
              "  // to uploadFilesContinue from Python.\n",
              "  outputElement.steps = steps;\n",
              "\n",
              "  return _uploadFilesContinue(outputId);\n",
              "}\n",
              "\n",
              "// This is roughly an async generator (not supported in the browser yet),\n",
              "// where there are multiple asynchronous steps and the Python side is going\n",
              "// to poll for completion of each step.\n",
              "// This uses a Promise to block the python side on completion of each step,\n",
              "// then passes the result of the previous step as the input to the next step.\n",
              "function _uploadFilesContinue(outputId) {\n",
              "  const outputElement = document.getElementById(outputId);\n",
              "  const steps = outputElement.steps;\n",
              "\n",
              "  const next = steps.next(outputElement.lastPromiseValue);\n",
              "  return Promise.resolve(next.value.promise).then((value) => {\n",
              "    // Cache the last promise value to make it available to the next\n",
              "    // step of the generator.\n",
              "    outputElement.lastPromiseValue = value;\n",
              "    return next.value.response;\n",
              "  });\n",
              "}\n",
              "\n",
              "/**\n",
              " * Generator function which is called between each async step of the upload\n",
              " * process.\n",
              " * @param {string} inputId Element ID of the input file picker element.\n",
              " * @param {string} outputId Element ID of the output display.\n",
              " * @return {!Iterable<!Object>} Iterable of next steps.\n",
              " */\n",
              "function* uploadFilesStep(inputId, outputId) {\n",
              "  const inputElement = document.getElementById(inputId);\n",
              "  inputElement.disabled = false;\n",
              "\n",
              "  const outputElement = document.getElementById(outputId);\n",
              "  outputElement.innerHTML = '';\n",
              "\n",
              "  const pickedPromise = new Promise((resolve) => {\n",
              "    inputElement.addEventListener('change', (e) => {\n",
              "      resolve(e.target.files);\n",
              "    });\n",
              "  });\n",
              "\n",
              "  const cancel = document.createElement('button');\n",
              "  inputElement.parentElement.appendChild(cancel);\n",
              "  cancel.textContent = 'Cancel upload';\n",
              "  const cancelPromise = new Promise((resolve) => {\n",
              "    cancel.onclick = () => {\n",
              "      resolve(null);\n",
              "    };\n",
              "  });\n",
              "\n",
              "  // Wait for the user to pick the files.\n",
              "  const files = yield {\n",
              "    promise: Promise.race([pickedPromise, cancelPromise]),\n",
              "    response: {\n",
              "      action: 'starting',\n",
              "    }\n",
              "  };\n",
              "\n",
              "  cancel.remove();\n",
              "\n",
              "  // Disable the input element since further picks are not allowed.\n",
              "  inputElement.disabled = true;\n",
              "\n",
              "  if (!files) {\n",
              "    return {\n",
              "      response: {\n",
              "        action: 'complete',\n",
              "      }\n",
              "    };\n",
              "  }\n",
              "\n",
              "  for (const file of files) {\n",
              "    const li = document.createElement('li');\n",
              "    li.append(span(file.name, {fontWeight: 'bold'}));\n",
              "    li.append(span(\n",
              "        `(${file.type || 'n/a'}) - ${file.size} bytes, ` +\n",
              "        `last modified: ${\n",
              "            file.lastModifiedDate ? file.lastModifiedDate.toLocaleDateString() :\n",
              "                                    'n/a'} - `));\n",
              "    const percent = span('0% done');\n",
              "    li.appendChild(percent);\n",
              "\n",
              "    outputElement.appendChild(li);\n",
              "\n",
              "    const fileDataPromise = new Promise((resolve) => {\n",
              "      const reader = new FileReader();\n",
              "      reader.onload = (e) => {\n",
              "        resolve(e.target.result);\n",
              "      };\n",
              "      reader.readAsArrayBuffer(file);\n",
              "    });\n",
              "    // Wait for the data to be ready.\n",
              "    let fileData = yield {\n",
              "      promise: fileDataPromise,\n",
              "      response: {\n",
              "        action: 'continue',\n",
              "      }\n",
              "    };\n",
              "\n",
              "    // Use a chunked sending to avoid message size limits. See b/62115660.\n",
              "    let position = 0;\n",
              "    do {\n",
              "      const length = Math.min(fileData.byteLength - position, MAX_PAYLOAD_SIZE);\n",
              "      const chunk = new Uint8Array(fileData, position, length);\n",
              "      position += length;\n",
              "\n",
              "      const base64 = btoa(String.fromCharCode.apply(null, chunk));\n",
              "      yield {\n",
              "        response: {\n",
              "          action: 'append',\n",
              "          file: file.name,\n",
              "          data: base64,\n",
              "        },\n",
              "      };\n",
              "\n",
              "      let percentDone = fileData.byteLength === 0 ?\n",
              "          100 :\n",
              "          Math.round((position / fileData.byteLength) * 100);\n",
              "      percent.textContent = `${percentDone}% done`;\n",
              "\n",
              "    } while (position < fileData.byteLength);\n",
              "  }\n",
              "\n",
              "  // All done.\n",
              "  yield {\n",
              "    response: {\n",
              "      action: 'complete',\n",
              "    }\n",
              "  };\n",
              "}\n",
              "\n",
              "scope.google = scope.google || {};\n",
              "scope.google.colab = scope.google.colab || {};\n",
              "scope.google.colab._files = {\n",
              "  _uploadFiles,\n",
              "  _uploadFilesContinue,\n",
              "};\n",
              "})(self);\n",
              "</script> "
            ]
          },
          "metadata": {}
        },
        {
          "output_type": "stream",
          "name": "stdout",
          "text": [
            "Saving Сводка по проблемам-202301270620.xlsx to Сводка по проблемам-202301270620.xlsx\n"
          ]
        }
      ]
    },
    {
      "cell_type": "code",
      "source": [
        "value_essuse = pd.read_excel(open('Сводка по проблемам-202301270620.xlsx', 'rb'), sheet_name=1)\n",
        "value_essuse = value_essuse[(value_essuse['Статус'] == 'Открыто') & (value_essuse['Тип'].isin(['Замечание к РД','Замечания к ПД']))]\n",
        "value_essuse.loc[:, 'Размещение'] =  value_essuse['Размещение'].map(lambda x: str(x).split('.pdf')[0].split('_')[0])\n",
        "value_essuse = value_essuse.loc[:, idx['Размещение','Тип замечания']]\n",
        "agg_func_count = {'Тип замечания': 'count'}\n",
        "value_essuse = value_essuse.groupby(['Размещение','Тип замечания']).agg(agg_func_count)\n",
        "value_essuse"
      ],
      "metadata": {
        "id": "FktZmLEPV-vi"
      },
      "execution_count": null,
      "outputs": []
    },
    {
      "cell_type": "markdown",
      "source": [
        "# **Обновление графика проектирования подрядчика: 'График ПИР '**\n",
        "\n",
        "* выгрузка реестра замечаний \n",
        "* агрегирование данных по разделам\n",
        "* заполнение графика проектирования"
      ],
      "metadata": {
        "id": "549WEd02ZKnJ"
      }
    },
    {
      "cell_type": "code",
      "source": [
        "name_RD_issues = pd.Series(value_essuse.index.get_level_values(0)).unique()"
      ],
      "metadata": {
        "id": "XZ5e5MxWpY8V"
      },
      "execution_count": 21,
      "outputs": []
    },
    {
      "cell_type": "code",
      "source": [
        "graph_PD_RD = pd.DataFrame.from_records(worksheet_PD.worksheet('График ПИР ').get_all_values())"
      ],
      "metadata": {
        "id": "sEGLKVl55Nzi"
      },
      "execution_count": 22,
      "outputs": []
    },
    {
      "cell_type": "code",
      "source": [
        "list_PD_RD = graph_PD_RD.iloc[:,2].to_list()"
      ],
      "metadata": {
        "id": "QFU7D9ojLXlC"
      },
      "execution_count": 23,
      "outputs": []
    },
    {
      "cell_type": "code",
      "source": [
        "for i in name_RD_issues:\n",
        "    try:\n",
        "        number_row = list_PD_RD.index(i) + 1\n",
        "        try:\n",
        "            value_essuse.loc[i, 'Критическое замечание']\n",
        "            worksheet_PD.worksheet('График ПИР ').update_cell(number_row, 8, 'STATUS C')\n",
        "        except: \n",
        "            try:\n",
        "                value_essuse.loc[i, 'Техническая ошибка'].values[0] != 0  \n",
        "                value_essuse.loc[i, 'Недостаточно данных'].values[0] != 0\n",
        "                worksheet_PD.worksheet('График ПИР ').update_cell(number_row, 8, 'STATUS B')\n",
        "            except:\n",
        "                try:\n",
        "                    worksheet_PD.worksheet('График ПИР ').update_cell(number_row, 8, 'STATUS A') \n",
        "                except:\n",
        "                    pass\n",
        "    except:\n",
        "        pass "
      ],
      "metadata": {
        "id": "9fq8Iv64LAF8"
      },
      "execution_count": 24,
      "outputs": []
    },
    {
      "cell_type": "markdown",
      "source": [
        "# **Обновление графика СМР подрядчика: 'PLAN_WEEK', 'START', 'ГРАФИК РАБОТ'**\n",
        "\n",
        "* в модели отмечается выполненный элемент\n",
        "* данные попадают в GS + обновляется формы PLAN RADAR"
      ],
      "metadata": {
        "id": "kKpq6gdIJFwc"
      }
    },
    {
      "cell_type": "markdown",
      "source": [
        "## срез на отчетную неделю, план на следующую неделю за отчетной, кумулятивная сумма"
      ],
      "metadata": {
        "id": "aLETMdMGako1"
      }
    },
    {
      "cell_type": "code",
      "source": [
        "graf_week_plan = graf_total.loc[:, idx[start_week:finish_week,'план']].sum(axis=1).values\n",
        "graf_week_plan = pd.DataFrame(graf_week_plan,index=graf_total.index, columns=['PLAN_WEEK'])\n",
        "graf_week_fakt = graf_total.loc[:, idx[start_week:finish_week,'факт']].sum(axis=1).values\n",
        "graf_week_fakt = pd.DataFrame(graf_week_fakt,index=graf_total.index, columns=['FAKT_WEEK'])"
      ],
      "metadata": {
        "id": "pQtL3bGLVcNU"
      },
      "execution_count": 25,
      "outputs": []
    },
    {
      "cell_type": "code",
      "source": [
        "graf_next_week_plan = graf_total.loc[:, idx[start_next_week:finish_next_week,'план']].sum(axis=1).values\n",
        "graf_next_week_plan = pd.DataFrame(graf_next_week_plan,index=graf_total.index, columns=['PLAN_NEXT_WEEK'])\n",
        "graf_next_week_fakt = graf_total.loc[:, idx[start_next_week:finish_next_week,'факт']].sum(axis=1).values\n",
        "graf_next_week_fakt = pd.DataFrame(graf_next_week_fakt,index=graf_total.index, columns=['FAKT_NEXT_WEEK'])"
      ],
      "metadata": {
        "id": "Z05FYJW7VcQD"
      },
      "execution_count": 26,
      "outputs": []
    },
    {
      "cell_type": "code",
      "source": [
        "total_plan = graf_total.loc[:, idx[start_project:finish_week,'план']].sum(axis=1).values\n",
        "total_plan = pd.DataFrame(total_plan,index=graf_total.index, columns=['TOTAL_PLAN'])\n",
        "total_fakt = graf_total.loc[:, idx[start_project:finish_week,'факт']].sum(axis=1).values\n",
        "total_fakt = pd.DataFrame(total_fakt,index=graf_total.index, columns=['TOTAL_FAKT'])"
      ],
      "metadata": {
        "id": "aUPB8AaqVcTJ"
      },
      "execution_count": 27,
      "outputs": []
    },
    {
      "cell_type": "code",
      "source": [
        "new_graf_week = week_graf.join([total_plan,total_fakt,graf_week_plan,graf_week_fakt,graf_next_week_plan,graf_next_week_fakt])"
      ],
      "metadata": {
        "id": "iM0LG_hhVcV6"
      },
      "execution_count": 28,
      "outputs": []
    },
    {
      "cell_type": "code",
      "source": [
        "new_graf_week = new_graf_week[['NAME', 'TOTAL_PLAN','TOTAL_FAKT','PLAN_WEEK','FAKT_WEEK','PLAN_NEXT_WEEK','FAKT_NEXT_WEEK']]"
      ],
      "metadata": {
        "id": "o1OnBpl_anAP"
      },
      "execution_count": 29,
      "outputs": []
    },
    {
      "cell_type": "code",
      "source": [
        "new_graf_week = new_graf_week.loc[(new_graf_week['PLAN_WEEK']>0) | (new_graf_week['PLAN_NEXT_WEEK']>0)]"
      ],
      "metadata": {
        "id": "go2P_Maaar2j"
      },
      "execution_count": 30,
      "outputs": []
    },
    {
      "cell_type": "code",
      "source": [
        "new_graf_week['%TOTAl_WEEK'] =( new_graf_week['FAKT_WEEK'] / new_graf_week['PLAN_WEEK']).mul(100).round(2).astype(str).add(' %')"
      ],
      "metadata": {
        "id": "ayFktA1Uaye3"
      },
      "execution_count": 31,
      "outputs": []
    },
    {
      "cell_type": "code",
      "source": [
        "new_graf_week['%TOTAL'] =( new_graf_week['TOTAL_FAKT'] / new_graf_week['TOTAL_PLAN']).mul(100).round(2).astype(str).add(' %')"
      ],
      "metadata": {
        "id": "W7IO_Ptha0UX"
      },
      "execution_count": 32,
      "outputs": []
    },
    {
      "cell_type": "code",
      "source": [
        "new_graf_week.rename(columns={'NAME':f'WORK on {pd.to_datetime(start_week).date()}  to {pd.to_datetime(finish_week).date()}'}, inplace=True)"
      ],
      "metadata": {
        "id": "vNksxrCva6jf"
      },
      "execution_count": 33,
      "outputs": []
    },
    {
      "cell_type": "code",
      "source": [
        "worksheet_SMR.worksheet('PLAN_WEEK').clear()\n",
        "worksheet_SMR.worksheet('PLAN_WEEK').append_rows([new_graf_week.columns.values.tolist()]+new_graf_week.values.tolist())"
      ],
      "metadata": {
        "id": "CSUEnOCEbAys",
        "colab": {
          "base_uri": "https://localhost:8080/"
        },
        "outputId": "ed47b09f-24a9-4ce8-8580-c03318f205a5"
      },
      "execution_count": 34,
      "outputs": [
        {
          "output_type": "execute_result",
          "data": {
            "text/plain": [
              "{'spreadsheetId': '1ngWR2k38yG5qDWfwA9LKi4-R9q9PrIHludYb5vSh4Gc',\n",
              " 'updates': {'spreadsheetId': '1ngWR2k38yG5qDWfwA9LKi4-R9q9PrIHludYb5vSh4Gc',\n",
              "  'updatedRange': 'PLAN_WEEK!A1:I46',\n",
              "  'updatedRows': 46,\n",
              "  'updatedColumns': 9,\n",
              "  'updatedCells': 414}}"
            ]
          },
          "metadata": {},
          "execution_count": 34
        }
      ]
    },
    {
      "cell_type": "code",
      "source": [
        "# справочно\n",
        "dir(worksheet_SMR.worksheet('PLAN_WEEK'))"
      ],
      "metadata": {
        "id": "ZRTPSsjgVcbi"
      },
      "execution_count": null,
      "outputs": []
    },
    {
      "cell_type": "markdown",
      "source": [
        "## данные по стартовым работам -> триггер для Plan Radar"
      ],
      "metadata": {
        "id": "RNxgW6MXdT7O"
      }
    },
    {
      "cell_type": "code",
      "source": [
        "start = start_project\n",
        "finish = pd.to_datetime(pd.Timestamp.today().date())\n",
        "start, finish"
      ],
      "metadata": {
        "id": "bljq5tfChm6S",
        "outputId": "f358bb50-23bd-40ba-ec23-2af8d28f8efe",
        "colab": {
          "base_uri": "https://localhost:8080/"
        }
      },
      "execution_count": 35,
      "outputs": [
        {
          "output_type": "execute_result",
          "data": {
            "text/plain": [
              "(Timestamp('2022-01-02 00:00:00'), Timestamp('2023-01-27 00:00:00'))"
            ]
          },
          "metadata": {},
          "execution_count": 35
        }
      ]
    },
    {
      "cell_type": "code",
      "source": [
        "finish_yesterday = finish - pd.Timedelta(1, \"d\")"
      ],
      "metadata": {
        "id": "73URZcM1p2-5"
      },
      "execution_count": 36,
      "outputs": []
    },
    {
      "cell_type": "code",
      "source": [
        "total_plan = graf_total.loc[:, idx[start:finish,'план']].sum(axis=1).values\n",
        "cum_sum_yesterday = graf_total.loc[:, idx[start:finish_yesterday,'план']].sum(axis=1).values\n",
        "sum_today = graf_total.loc[:, idx[finish:finish,'план']].sum(axis=1).values\n",
        "# total_plan_value = graf.loc[:, idx[start:finish,'план']].sum(axis=1).values - graf.loc[:, idx[start:finish,'план']].sum(axis=1).values"
      ],
      "metadata": {
        "id": "74KAVZoklhb8"
      },
      "execution_count": 37,
      "outputs": []
    },
    {
      "cell_type": "code",
      "source": [
        "total_plan = pd.DataFrame(total_plan,index=graf_total.index, columns=['cum_sum_today'])\n",
        "cum_sum_yesterday = pd.DataFrame(cum_sum_yesterday,index=graf_total.index, columns=['cum_sum_yesterday'])\n",
        "sum_today = pd.DataFrame(sum_today,index=graf_total.index, columns=[f'sum_today {pd.to_datetime(finish).date()}'])\n",
        "total_plan = total_plan.join([cum_sum_yesterday, sum_today])"
      ],
      "metadata": {
        "id": "yQTOBlLbmboO"
      },
      "execution_count": 38,
      "outputs": []
    },
    {
      "cell_type": "code",
      "source": [
        "total_plan = total_plan[(total_plan[f'sum_today {pd.to_datetime(finish).date()}']>0) & (total_plan['cum_sum_yesterday'] == 0)]"
      ],
      "metadata": {
        "id": "t_QOhhKDfQ6s"
      },
      "execution_count": 39,
      "outputs": []
    },
    {
      "cell_type": "code",
      "source": [
        "total_plan = total_plan[[f'sum_today {pd.to_datetime(finish).date()}']]"
      ],
      "metadata": {
        "id": "RX6K8r4Tio-i"
      },
      "execution_count": 40,
      "outputs": []
    },
    {
      "cell_type": "code",
      "source": [
        "worksheet_SMR.worksheet('START').clear()\n",
        "gd.set_with_dataframe(worksheet_SMR.worksheet('START'), total_plan,row=1, col=1, include_index=True, include_column_header=True)"
      ],
      "metadata": {
        "id": "3BYnXulvkj3t"
      },
      "execution_count": 41,
      "outputs": []
    },
    {
      "cell_type": "markdown",
      "source": [
        "## обновление листа ПЛАН-РАБОТ-> внесение факта"
      ],
      "metadata": {
        "id": "AlPv9mqGhSE9"
      }
    },
    {
      "cell_type": "code",
      "source": [
        "# list_date = list(graf_black.iloc[0, :].values)\n",
        "# list_name = list(graf_black.iloc[:, 0].values)"
      ],
      "metadata": {
        "id": "2IHCA98o_f2A"
      },
      "execution_count": 42,
      "outputs": []
    },
    {
      "cell_type": "code",
      "source": [
        "# for i in plan_PR.iloc[:, 0]:\n",
        "#     index_in_plan_PR = list(plan_PR.iloc[:, 0]).index(i)\n",
        "#     date_in_plan_PR = plan_PR.iloc[index_in_plan_PR, 2]\n",
        "#     date_in_plan_PR = '.'.join(reversed(str(date_in_plan_PR).split('-')))\n",
        "#     value_in_plan_PR = plan_PR.iloc[index_in_plan_PR, 1]\n",
        "#     value_in_plan_PR = ','.join(value_in_plan_PR.split('.'))\n",
        "\n",
        "#     index_row_in_graf_black = list_name.index(i) + 2\n",
        "#     index_column_in_graf_black = list_date.index(date_in_plan_PR) + 1\n",
        "\n",
        "#     worksheet_SMR.worksheet(\"ГРАФИК РАБОТ\").update_cell(index_row_in_graf_black, index_column_in_graf_black, value_in_plan_PR)\n",
        "\n",
        "#     print(value_in_plan_PR, date_in_plan_PR, i, index_row_in_graf_black, index_column_in_graf_black)"
      ],
      "metadata": {
        "id": "WrRxSzxCAABF"
      },
      "execution_count": null,
      "outputs": []
    },
    {
      "cell_type": "markdown",
      "source": [
        "## обновление листа финансирование:\n",
        "\n",
        "1. внесение плана КС, кумулятивно за отчетный период\n",
        "2. акутулизация плана платежей\n",
        "3. внесение сумм по фактически выполненным работам"
      ],
      "metadata": {
        "id": "zvNhrWJKUnIQ"
      }
    },
    {
      "cell_type": "markdown",
      "source": [
        "## графики:\n",
        "\n",
        "1. СМР план/факт\n",
        "2. финансирование план/факт\n",
        "3. освоение план/факт\n"
      ],
      "metadata": {
        "id": "Mg_2hIExUWeE"
      }
    },
    {
      "cell_type": "code",
      "source": [
        "from pygsheets.chart import ChartType"
      ],
      "metadata": {
        "id": "0iZXga6XZXdA"
      },
      "execution_count": null,
      "outputs": []
    },
    {
      "cell_type": "code",
      "source": [
        "gz = pygsheets.authorize(service_file='/content/credentials.json')"
      ],
      "metadata": {
        "id": "on3sOSNhZHUw"
      },
      "execution_count": null,
      "outputs": []
    },
    {
      "cell_type": "code",
      "source": [
        " gz = gz.open('План работ Договор Адамант')"
      ],
      "metadata": {
        "id": "9fbc763AaPDe"
      },
      "execution_count": null,
      "outputs": []
    },
    {
      "cell_type": "code",
      "source": [
        "gz.worksheet_by_title('PLAN_WEEK').add_chart(('A2', 'A44'), [('B2', 'B44')], chart_type=ChartType.LINE, title='MyChart', anchor_cell='A50')"
      ],
      "metadata": {
        "colab": {
          "base_uri": "https://localhost:8080/"
        },
        "id": "LGoZzwhoa5fO",
        "outputId": "8802fb93-7f83-4a51-e7fb-ded1830a7a56"
      },
      "execution_count": null,
      "outputs": [
        {
          "output_type": "execute_result",
          "data": {
            "text/plain": [
              "<Chart LINE 'MyChart'>"
            ]
          },
          "metadata": {},
          "execution_count": 87
        }
      ]
    },
    {
      "cell_type": "markdown",
      "source": [
        "# **Обновление графика Закачика**\n",
        "\n",
        "* позиции имеющие шифр обновляются по шифру\n",
        "* позиции без шифра обновляются после фильтрации по шифру"
      ],
      "metadata": {
        "id": "9xEb0t5dZkww"
      }
    },
    {
      "cell_type": "markdown",
      "source": [
        "## предобработка графика Заказчика"
      ],
      "metadata": {
        "id": "h8yAW_cz7KNz"
      }
    },
    {
      "cell_type": "code",
      "source": [
        "#  список из графика заказчика\n",
        "list2 = df_graph['Unnamed: 13']\n",
        "list2 = list2.map(lambda z: str(z).lstrip())\n",
        "list2 = list2.to_list()\n",
        "list3 = df_graph['Unnamed: 2']\n",
        "list3 = list3.map(lambda z: str(z).lstrip())\n",
        "list3 = list3.to_list()"
      ],
      "metadata": {
        "id": "QkPqeZfZBOfJ"
      },
      "execution_count": 44,
      "outputs": []
    },
    {
      "cell_type": "markdown",
      "source": [
        "## обновление СМР\n",
        "\n",
        "* пайплайн по каждому контракту СМР одинаковый"
      ],
      "metadata": {
        "id": "nQskqwEOp0il"
      }
    },
    {
      "cell_type": "markdown",
      "source": [
        "### пересечение списков видов работ"
      ],
      "metadata": {
        "id": "q672d5Uu8iaU"
      }
    },
    {
      "cell_type": "code",
      "source": [
        "#  список из шиифров из 'График работ'\n",
        "list1 = graf.iloc[:, 0].values\n",
        "list1"
      ],
      "metadata": {
        "id": "48TUfohAA3dL"
      },
      "execution_count": null,
      "outputs": []
    },
    {
      "cell_type": "code",
      "source": [
        "result = list(set(list1) & set(list2))\n",
        "result"
      ],
      "metadata": {
        "id": "zhyjBettBoIh"
      },
      "execution_count": null,
      "outputs": []
    },
    {
      "cell_type": "code",
      "source": [
        "for i in result:\n",
        "    df_graph.loc[df_graph['Unnamed: 13'].map(lambda z: str(z).lstrip()).values == i, 'Unnamed: 4'] = (pd.to_numeric(graf.loc[graf.iloc[:,0].map(lambda z: str(z).lstrip()).values == i, 9].values[0].replace(',', '.').replace('%', ''))/100)\n",
        "    # проверка корректности внесения обновлений\n",
        "    print({df_graph.loc[df_graph['Unnamed: 13'].map(lambda z: str(z).lstrip()).values == i, 'Unnamed: 2'].values[0]: pd.to_numeric(graf.loc[graf.iloc[:,0].map(lambda z: str(z).lstrip()).values == i, 9].values[0].replace(',', '.').replace('%', ''))/100})    "
      ],
      "metadata": {
        "id": "GaQuiRoSyErC"
      },
      "execution_count": null,
      "outputs": []
    },
    {
      "cell_type": "markdown",
      "source": [
        "## обновление проектирования\n",
        "\n",
        "* первый этап - обновить по шифрам\n",
        "* второй этап - обновить по наименованию работ"
      ],
      "metadata": {
        "id": "gnpOYBlbqHZC"
      }
    },
    {
      "cell_type": "code",
      "source": [
        "perevod = {\n",
        "    'STATUS A': 1,\n",
        "    'STATUS B': 0.85,\n",
        "    'STATUS C': 0.6,\n",
        "    'WORK': 0.3,\n",
        "    'START': 0.05,\n",
        "    'HOLD': 0,\n",
        "    '': ''\n",
        "}"
      ],
      "metadata": {
        "id": "d7QHPxPXIE7D"
      },
      "execution_count": 48,
      "outputs": []
    },
    {
      "cell_type": "code",
      "source": [
        "list_PD_ID_1 = graph_PD[graph_PD.iloc[:, 1].values != ''].iloc[:,2]\n",
        "list_PD_name = graph_PD[graph_PD.iloc[:, 1].values == ''].iloc[:,3]\n",
        "list_PD = list_PD_ID_1.append(list_PD_name)\n",
        "list_PD"
      ],
      "metadata": {
        "id": "C1u1SmgCxAQY"
      },
      "execution_count": null,
      "outputs": []
    },
    {
      "cell_type": "code",
      "source": [
        "result_PD_ID = list(set(list_PD) & set(list2))\n",
        "result_PD_name = list(set(list_PD) & set(list3))"
      ],
      "metadata": {
        "id": "kA-c5-twzYUb"
      },
      "execution_count": 50,
      "outputs": []
    },
    {
      "cell_type": "code",
      "source": [
        "for i in result_PD_ID:\n",
        "    df_graph.loc[df_graph['Unnamed: 13'].map(lambda z: str(z).lstrip()).values == i, 'Unnamed: 4'] = perevod[graph_PD.loc[graph_PD.iloc[:,2] == i,7].values[0]]\n",
        "    # проверка корректности внесения обновлений\n",
        "    print({df_graph.loc[df_graph['Unnamed: 13'].map(lambda z: str(z).lstrip()).values == i, 'Unnamed: 2'].values[0]: perevod[graph_PD.loc[graph_PD.iloc[:,2] == i,7].values[0]]})"
      ],
      "metadata": {
        "id": "ppktXI-34bdi"
      },
      "execution_count": null,
      "outputs": []
    },
    {
      "cell_type": "code",
      "source": [
        "for i in result_PD_name:\n",
        "    df_graph.loc[df_graph['Unnamed: 2'].map(lambda z: str(z).lstrip()).values == i, 'Unnamed: 4'] = perevod[graph_PD.loc[graph_PD.iloc[:,3] == i,7].values[0]]\n",
        "    print({df_graph.loc[df_graph['Unnamed: 2'].map(lambda z: str(z).lstrip()).values == i, 'Unnamed: 2'].values[0]: perevod[graph_PD.loc[graph_PD.iloc[:,3] == i,7].values[0]]}) "
      ],
      "metadata": {
        "id": "szZEKaf6PQUB"
      },
      "execution_count": null,
      "outputs": []
    },
    {
      "cell_type": "markdown",
      "source": [
        "создание файла с обновленными данными"
      ],
      "metadata": {
        "id": "QiuiQ-OEIjnK"
      }
    },
    {
      "cell_type": "code",
      "source": [
        "df_graph.to_excel('Сводный план-график {} иса.xlsx'.format('27.01.2023'), sheet_name='Обновление от {}'.format('27.01.2023'),index=False)"
      ],
      "metadata": {
        "id": "GGvpLQWYZBbw"
      },
      "execution_count": 53,
      "outputs": []
    }
  ]
}