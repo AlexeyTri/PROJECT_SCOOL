{
  "nbformat": 4,
  "nbformat_minor": 0,
  "metadata": {
    "colab": {
      "provenance": [],
      "authorship_tag": "ABX9TyPsQerzm8IoPTyGQ4zOgGg/",
      "include_colab_link": true
    },
    "kernelspec": {
      "name": "python3",
      "display_name": "Python 3"
    },
    "language_info": {
      "name": "python"
    }
  },
  "cells": [
    {
      "cell_type": "markdown",
      "metadata": {
        "id": "view-in-github",
        "colab_type": "text"
      },
      "source": [
        "<a href=\"https://colab.research.google.com/github/AlexeyTri/PROJECT_SCOOL/blob/master/ActualGraphicBASE_ipynb%22.ipynb\" target=\"_parent\"><img src=\"https://colab.research.google.com/assets/colab-badge.svg\" alt=\"Open In Colab\"/></a>"
      ]
    },
    {
      "cell_type": "markdown",
      "source": [
        "**Условия:**\n",
        "1. наличие AUTODESK DESKTOP\n",
        "2. доступ ко всем таблицам в режиме РЕДАКТОР\n",
        "3. все тактические графики должны быть приведены в гугл форму"
      ],
      "metadata": {
        "id": "UOOMQ0AEaGdw"
      }
    },
    {
      "cell_type": "markdown",
      "source": [
        "# Библиотеки"
      ],
      "metadata": {
        "id": "2BtSMZMti6bn"
      }
    },
    {
      "cell_type": "code",
      "source": [
        "!pip install pygsheets"
      ],
      "metadata": {
        "id": "QC8iAj4eYkJq"
      },
      "execution_count": 4,
      "outputs": []
    },
    {
      "cell_type": "code",
      "source": [
        "import pygsheets"
      ],
      "metadata": {
        "id": "3LZJcKXRY46d"
      },
      "execution_count": 5,
      "outputs": []
    },
    {
      "cell_type": "code",
      "source": [
        "import openpyxl\n",
        "from openpyxl.cell.cell import WriteOnlyCell\n",
        "from openpyxl.utils.dataframe import dataframe_to_rows\n",
        "from openpyxl import Workbook\n",
        "import pandas as pd\n",
        "import gspread_dataframe as gd"
      ],
      "metadata": {
        "id": "7oUB-mXiiKr-"
      },
      "execution_count": 6,
      "outputs": []
    },
    {
      "cell_type": "code",
      "source": [
        "idx = pd.IndexSlice"
      ],
      "metadata": {
        "id": "9aw7p1nwcEWR"
      },
      "execution_count": 7,
      "outputs": []
    },
    {
      "cell_type": "code",
      "source": [
        "from google.colab import auth\n",
        "auth.authenticate_user()\n",
        "import re\n",
        "import gspread\n",
        "from google.auth import default\n",
        "creds, _ = default()\n",
        "import numpy as np\n",
        "gc = gspread.authorize(creds)\n",
        "from datetime import datetime"
      ],
      "metadata": {
        "id": "O3gzrZVIuO_u"
      },
      "execution_count": 8,
      "outputs": []
    },
    {
      "cell_type": "markdown",
      "source": [
        "# отчетные даты"
      ],
      "metadata": {
        "id": "dy2QkaZF7klI"
      }
    },
    {
      "cell_type": "code",
      "source": [
        "# старт-финиш проекта\n",
        "start_project = '01.02.2022'\n",
        "start_project = pd.to_datetime(start_project)\n",
        "finish_project = '02.09.2024'\n",
        "finish_project = pd.to_datetime(finish_project)"
      ],
      "metadata": {
        "id": "_8L4AxKJf5c9"
      },
      "execution_count": 9,
      "outputs": []
    },
    {
      "cell_type": "code",
      "source": [
        "# страт-финиш отчетной \n",
        "start_week = '30.12.2022'\n",
        "start_week = pd.to_datetime(start_week)\n",
        "finish_week = '16.01.2023'\n",
        "finish_week = pd.to_datetime(finish_week)"
      ],
      "metadata": {
        "id": "F3gMPASU7wZ-"
      },
      "execution_count": 10,
      "outputs": []
    },
    {
      "cell_type": "code",
      "source": [
        "# старт-финиш next недели, за отчетной\n",
        "start_next_week = '17.01.2023'\n",
        "start_next_week = pd.to_datetime(start_next_week)\n",
        "finish_next_week = '20.01.2023'\n",
        "finish__next_week = pd.to_datetime(finish_next_week)"
      ],
      "metadata": {
        "id": "jPO8NmoS7wwA"
      },
      "execution_count": 11,
      "outputs": []
    },
    {
      "cell_type": "markdown",
      "source": [
        "# Предобработка GS: график проектирования, график СМР, график заказчика"
      ],
      "metadata": {
        "id": "vzGjLz4J7Pq3"
      }
    },
    {
      "cell_type": "markdown",
      "source": [
        "## Реестр выдачи РД\n",
        "\n",
        "https://docs.google.com/spreadsheets/d/1ZuZv1Rx-mp3AS5LFPjbEa-P92Xux_o_rvaOQb6NWXkE/edit#gid=479522789"
      ],
      "metadata": {
        "id": "irmbifzk9SVB"
      }
    },
    {
      "cell_type": "code",
      "source": [
        "# форма для обновления графика заказчика\n",
        "worksheet_PD = gc.open('Реестр выдачи РД')\n",
        "graph_PD = worksheet_PD.worksheet('График ПИР ')\n",
        "graph_PD = graph_PD.get_all_values()\n",
        "graph_PD = np.array(graph_PD)\n",
        "graph_PD = pd.DataFrame(graph_PD[7:])\n",
        "graph_PD"
      ],
      "metadata": {
        "id": "BDDeTk1Z9_Wg"
      },
      "execution_count": null,
      "outputs": []
    },
    {
      "cell_type": "code",
      "source": [
        "# форма для обновления графика подрядчика\n",
        "graph_PD_RD = pd.DataFrame.from_records(worksheet_PD.worksheet('График ПИР ').get_all_values())\n",
        "graph_PD_RD"
      ],
      "metadata": {
        "id": "irfRRgDl-Jtb"
      },
      "execution_count": null,
      "outputs": []
    },
    {
      "cell_type": "markdown",
      "source": [
        "## План работ Договор Адамант\n",
        "\n",
        "https://docs.google.com/spreadsheets/d/1ngWR2k38yG5qDWfwA9LKi4-R9q9PrIHludYb5vSh4Gc/edit#gid=1411311560"
      ],
      "metadata": {
        "id": "3-lNqeco_JYG"
      }
    },
    {
      "cell_type": "code",
      "source": [
        "# форма для обновления графика заказчика\n",
        "worksheet_SMR = gc.open('План работ Договор Адамант')\n",
        "graf = worksheet_SMR.worksheet(\"ГРАФИК РАБОТ\")\n",
        "graf = graf.get_all_values()\n",
        "graf = np.array(graf)\n",
        "graf =  pd.DataFrame(graf[1:, :])\n",
        "graf"
      ],
      "metadata": {
        "id": "I8oIiI7V_TYk"
      },
      "execution_count": null,
      "outputs": []
    },
    {
      "cell_type": "code",
      "source": [
        "# форма для заполнения факта\n",
        "graf_black = graf.copy()"
      ],
      "metadata": {
        "id": "pUMH0ScOHjO7"
      },
      "execution_count": 73,
      "outputs": []
    },
    {
      "cell_type": "code",
      "source": [
        "# форма для обновления графика недели\n",
        "week_graf = graf.copy()\n",
        "week_graf = week_graf.loc[idx[2:],idx[:6]]\n",
        "week_graf.drop([4,5], axis=1, inplace=True)\n",
        "week_graf.rename(columns = {0:'passwordCOST', \n",
        "                       1:'NAME',2:'START', 3:'FINISH', 6:'valueModel'}, \n",
        "            inplace = True)\n",
        "week_graf = week_graf[week_graf['passwordCOST'] > '']\n",
        "week_graf = week_graf[week_graf['START'] > '']\n",
        "week_graf = week_graf[week_graf['FINISH'] > '']\n",
        "week_graf = week_graf.set_index('passwordCOST')\n",
        "week_graf['valueModel'] = week_graf['valueModel'].map(lambda x: pd.to_numeric(re.sub(\"[^0-9+,]\", \"\", x).replace(',','.')))\n",
        "week_graf = week_graf.fillna(0)\n",
        "week_graf"
      ],
      "metadata": {
        "id": "ZQ-mWOAY_TfE"
      },
      "execution_count": null,
      "outputs": []
    },
    {
      "cell_type": "code",
      "source": [
        "# общий график работ\n",
        "graf_name = graf[[0,1]][2:]\n",
        "graf_name.rename(columns={0: 'passwordCOST', 1: 'NAME'}, inplace=True) \n",
        "graf_name = graf_name[graf_name['passwordCOST'] != 0]\n",
        "graf_name = pd.DataFrame(graf_name['NAME'].values, index=graf_name['passwordCOST'], columns=['NAME'])\n",
        "graf_total = graf.drop(graf.index[1:10], axis=1)\n",
        "newColumnsIndex = [pd.to_datetime(pd.Series(graf_total.iloc[0].values[1:]).apply(lambda x: str(x)), format='%d.%m.%Y'), graf_total.iloc[1][1:].values]\n",
        "graf_total.rename(columns={0: 'passwordCOST'}, inplace=True)\n",
        "graf_total = graf_total.set_index(\"passwordCOST\")\n",
        "graf_total = pd.DataFrame(graf_total.values, index=graf_total.index, columns=newColumnsIndex)\n",
        "graf_total.drop(graf_total.index[:2], axis=0, inplace=True)\n",
        "for i in graf_total.columns:\n",
        "    graf_total[i] = graf_total[i].map(lambda x: pd.to_numeric(re.sub(\"[^0-9 +,]\", \"\", x).replace(',','.')))\n",
        "graf_total.fillna(0, inplace=True)\n",
        "graf_total.sort_index(axis=0, level=1, ascending=True)\n",
        "graf_total = graf_total[graf_total.index > '']\n",
        "graf_total"
      ],
      "metadata": {
        "id": "zIhtOX1rAW05"
      },
      "execution_count": null,
      "outputs": []
    },
    {
      "cell_type": "code",
      "source": [
        "# перечень работ -> вгрузка из Plan Radar\n",
        "plan_PR = worksheet_SMR.worksheet('PR (копия)')\n",
        "plan_PR = plan_PR.get_all_values()\n",
        "plan_PR = np.array(plan_PR)\n",
        "plan_PR = pd.DataFrame(plan_PR)\n",
        "plan_PR = plan_PR.iloc[1:, [0,7,9]]\n",
        "plan_PR = pd.DataFrame(plan_PR)\n",
        "plan_PR"
      ],
      "metadata": {
        "id": "XZCtm_hxCwKE"
      },
      "execution_count": null,
      "outputs": []
    },
    {
      "cell_type": "markdown",
      "source": [
        "## График по форме заказчика"
      ],
      "metadata": {
        "id": "GyCZY-dxDOZS"
      }
    },
    {
      "cell_type": "code",
      "execution_count": null,
      "metadata": {
        "id": "wgy-583sKxnZ"
      },
      "outputs": [],
      "source": [
        "# файл загружается на ГУГЛ диск\n",
        "from google.colab import files\n",
        "upload = files.upload()"
      ]
    },
    {
      "cell_type": "code",
      "source": [
        "df_graph = pd.read_excel(open('Сводный план-график 2022 12 28 иса.xlsx', 'rb'))\n",
        "df_graph"
      ],
      "metadata": {
        "id": "THf6puSMX3qT"
      },
      "execution_count": null,
      "outputs": []
    },
    {
      "cell_type": "markdown",
      "source": [
        "## Реестр замечаний из ACC"
      ],
      "metadata": {
        "id": "k6SQlJ_SDuP8"
      }
    },
    {
      "cell_type": "code",
      "source": [
        "# файл с реестром замечаний на google drive\n",
        "from google.colab import files\n",
        "upload = files.upload()"
      ],
      "metadata": {
        "id": "GsarAJGKV4py"
      },
      "execution_count": null,
      "outputs": []
    },
    {
      "cell_type": "code",
      "source": [
        "value_essuse = pd.read_excel(open('Сводка по проблемам-202301200612.xlsx', 'rb'), sheet_name=1)\n",
        "value_essuse = value_essuse[(value_essuse['Статус'] == 'Открыто') & (value_essuse['Тип'].isin(['Замечание к РД','Замечания к ПД']))]\n",
        "value_essuse.loc[:, 'Размещение'] =  value_essuse['Размещение'].map(lambda x: str(x).split('.pdf')[0].split('_')[0])\n",
        "value_essuse = value_essuse.loc[:, idx['Размещение','Тип замечания']]\n",
        "agg_func_count = {'Тип замечания': 'count'}\n",
        "value_essuse = value_essuse.groupby(['Размещение','Тип замечания']).agg(agg_func_count)\n",
        "value_essuse"
      ],
      "metadata": {
        "id": "FktZmLEPV-vi"
      },
      "execution_count": null,
      "outputs": []
    },
    {
      "cell_type": "markdown",
      "source": [
        "# **Обновление графика проектирования подрядчика: 'График ПИР '**\n",
        "\n",
        "* выгрузка реестра замечаний \n",
        "* агрегирование данных по разделам\n",
        "* заполнение графика проектирования"
      ],
      "metadata": {
        "id": "549WEd02ZKnJ"
      }
    },
    {
      "cell_type": "code",
      "source": [
        "name_RD_issues = pd.Series(value_essuse.index.get_level_values(0)).unique()"
      ],
      "metadata": {
        "id": "XZ5e5MxWpY8V"
      },
      "execution_count": 67,
      "outputs": []
    },
    {
      "cell_type": "code",
      "source": [
        "graph_PD_RD = pd.DataFrame.from_records(worksheet_PD.worksheet('График ПИР ').get_all_values())"
      ],
      "metadata": {
        "id": "sEGLKVl55Nzi"
      },
      "execution_count": 68,
      "outputs": []
    },
    {
      "cell_type": "code",
      "source": [
        "list_PD_RD = graph_PD_RD.iloc[:,2].to_list()"
      ],
      "metadata": {
        "id": "QFU7D9ojLXlC"
      },
      "execution_count": 69,
      "outputs": []
    },
    {
      "cell_type": "code",
      "source": [
        "for i in name_RD_issues:\n",
        "    try:\n",
        "        number_row = list_PD_RD.index(i) + 1\n",
        "        try:\n",
        "            value_essuse.loc[i, 'Критическое замечание']\n",
        "            worksheet_PD.worksheet('График ПИР ').update_cell(number_row, 8, 'STATUS C')\n",
        "        except: \n",
        "            try:\n",
        "                value_essuse.loc[i, 'Техническая ошибка'].values[0] != 0  \n",
        "                value_essuse.loc[i, 'Недостаточно данных'].values[0] != 0\n",
        "                worksheet_PD.worksheet('График ПИР ').update_cell(number_row, 8, 'STATUS B')\n",
        "            except:\n",
        "                try:\n",
        "                    worksheet_PD.worksheet('График ПИР ').update_cell(number_row, 8, 'STATUS A') \n",
        "                except:\n",
        "                    pass\n",
        "    except:\n",
        "        pass "
      ],
      "metadata": {
        "id": "9fq8Iv64LAF8"
      },
      "execution_count": null,
      "outputs": []
    },
    {
      "cell_type": "markdown",
      "source": [
        "# **Обновление графика СМР подрядчика: 'PLAN_WEEK', 'START', 'ГРАФИК РАБОТ'**\n",
        "\n",
        "* в модели отмечается выполненный элемент\n",
        "* данные попадают в GS + обновляется формы PLAN RADAR"
      ],
      "metadata": {
        "id": "kKpq6gdIJFwc"
      }
    },
    {
      "cell_type": "markdown",
      "source": [
        "## срез на отчетную неделю, план на следующую неделю за отчетной, кумулятивная сумма"
      ],
      "metadata": {
        "id": "aLETMdMGako1"
      }
    },
    {
      "cell_type": "code",
      "source": [
        "graf_week_plan = graf.loc[:, idx[start_week:finish_week,'план']].sum(axis=1).values\n",
        "graf_week_plan = pd.DataFrame(graf_week_plan,index=graf.index, columns=['PLAN_WEEK'])\n",
        "graf_week_fakt = graf.loc[:, idx[start_week:finish_week,'факт']].sum(axis=1).values\n",
        "graf_week_fakt = pd.DataFrame(graf_week_fakt,index=graf.index, columns=['FAKT_WEEK'])"
      ],
      "metadata": {
        "id": "pQtL3bGLVcNU"
      },
      "execution_count": null,
      "outputs": []
    },
    {
      "cell_type": "code",
      "source": [
        "graf_next_week_plan = graf.loc[:, idx[start_next_week:finish_next_week,'план']].sum(axis=1).values\n",
        "graf_next_week_plan = pd.DataFrame(graf_next_week_plan,index=graf.index, columns=['PLAN_NEXT_WEEK'])\n",
        "graf_next_week_fakt = graf.loc[:, idx[start_next_week:finish_next_week,'факт']].sum(axis=1).values\n",
        "graf_next_week_fakt = pd.DataFrame(graf_next_week_fakt,index=graf.index, columns=['FAKT_NEXT_WEEK'])"
      ],
      "metadata": {
        "id": "Z05FYJW7VcQD"
      },
      "execution_count": null,
      "outputs": []
    },
    {
      "cell_type": "code",
      "source": [
        "total_plan = graf.loc[:, idx[start_project:finish_week,'план']].sum(axis=1).values\n",
        "total_plan = pd.DataFrame(total_plan,index=graf.index, columns=['TOTAL_PLAN'])\n",
        "total_fakt = graf.loc[:, idx[start_project:finish_week,'факт']].sum(axis=1).values\n",
        "total_fakt = pd.DataFrame(total_fakt,index=graf.index, columns=['TOTAL_FAKT'])"
      ],
      "metadata": {
        "id": "aUPB8AaqVcTJ"
      },
      "execution_count": null,
      "outputs": []
    },
    {
      "cell_type": "code",
      "source": [
        "new_graf_week = week_graf.join([total_plan,total_fakt,graf_week_plan,graf_week_fakt,graf_next_week_plan,graf_next_week_fakt])"
      ],
      "metadata": {
        "id": "iM0LG_hhVcV6"
      },
      "execution_count": null,
      "outputs": []
    },
    {
      "cell_type": "code",
      "source": [
        "new_graf_week = new_graf_week[['NAME', 'TOTAL_PLAN','TOTAL_FAKT','PLAN_WEEK','FAKT_WEEK','PLAN_NEXT_WEEK','FAKT_NEXT_WEEK']]"
      ],
      "metadata": {
        "id": "o1OnBpl_anAP"
      },
      "execution_count": null,
      "outputs": []
    },
    {
      "cell_type": "code",
      "source": [
        "new_graf_week = new_graf_week.loc[(new_graf_week['PLAN_WEEK']>0) | (new_graf_week['PLAN_NEXT_WEEK']>0)]"
      ],
      "metadata": {
        "id": "go2P_Maaar2j"
      },
      "execution_count": null,
      "outputs": []
    },
    {
      "cell_type": "code",
      "source": [
        "new_graf_week['%TOTAl_WEEK'] =( new_graf_week['FAKT_WEEK'] / new_graf_week['PLAN_WEEK']).mul(100).round(2).astype(str).add(' %')"
      ],
      "metadata": {
        "id": "ayFktA1Uaye3"
      },
      "execution_count": null,
      "outputs": []
    },
    {
      "cell_type": "code",
      "source": [
        "new_graf_week['%TOTAL'] =( new_graf_week['TOTAL_FAKT'] / new_graf_week['TOTAL_PLAN']).mul(100).round(2).astype(str).add(' %')"
      ],
      "metadata": {
        "id": "W7IO_Ptha0UX"
      },
      "execution_count": null,
      "outputs": []
    },
    {
      "cell_type": "code",
      "source": [
        "new_graf_week.rename(columns={'NAME':f'WORK on {pd.to_datetime(start_week).date()}  to {pd.to_datetime(finish_week).date()}'}, inplace=True)"
      ],
      "metadata": {
        "id": "vNksxrCva6jf"
      },
      "execution_count": null,
      "outputs": []
    },
    {
      "cell_type": "code",
      "source": [
        "worksheet_SMR.worksheet('PLAN_WEEK').clear()\n",
        "worksheet_SMR.worksheet('PLAN_WEEK').append_rows([new_graf_week.columns.values.tolist()]+new_graf_week.values.tolist())"
      ],
      "metadata": {
        "id": "CSUEnOCEbAys"
      },
      "execution_count": null,
      "outputs": []
    },
    {
      "cell_type": "code",
      "source": [
        "# справочно\n",
        "dir(worksheet_SMR.worksheet('PLAN_WEEK'))"
      ],
      "metadata": {
        "id": "ZRTPSsjgVcbi"
      },
      "execution_count": null,
      "outputs": []
    },
    {
      "cell_type": "markdown",
      "source": [
        "## данные по стартовым работам -> триггер для Plan Radar"
      ],
      "metadata": {
        "id": "RNxgW6MXdT7O"
      }
    },
    {
      "cell_type": "code",
      "source": [
        "start = start_project\n",
        "finish = pd.to_datetime(pd.Timestamp.today().date())\n",
        "start, finish"
      ],
      "metadata": {
        "id": "bljq5tfChm6S"
      },
      "execution_count": null,
      "outputs": []
    },
    {
      "cell_type": "code",
      "source": [
        "finish_yesterday = finish - pd.Timedelta(1, \"d\")"
      ],
      "metadata": {
        "id": "73URZcM1p2-5"
      },
      "execution_count": 44,
      "outputs": []
    },
    {
      "cell_type": "code",
      "source": [
        "total_plan = graf_total.loc[:, idx[start:finish,'план']].sum(axis=1).values\n",
        "cum_sum_yesterday = graf_total.loc[:, idx[start:finish_yesterday,'план']].sum(axis=1).values\n",
        "sum_today = graf_total.loc[:, idx[finish:finish,'план']].sum(axis=1).values\n",
        "# total_plan_value = graf.loc[:, idx[start:finish,'план']].sum(axis=1).values - graf.loc[:, idx[start:finish,'план']].sum(axis=1).values"
      ],
      "metadata": {
        "id": "74KAVZoklhb8"
      },
      "execution_count": 45,
      "outputs": []
    },
    {
      "cell_type": "code",
      "source": [
        "total_plan = pd.DataFrame(total_plan,index=graf_total.index, columns=['cum_sum_today'])\n",
        "cum_sum_yesterday = pd.DataFrame(cum_sum_yesterday,index=graf_total.index, columns=['cum_sum_yesterday'])\n",
        "sum_today = pd.DataFrame(sum_today,index=graf_total.index, columns=[f'sum_today {pd.to_datetime(finish).date()}'])\n",
        "total_plan = total_plan.join([cum_sum_yesterday, sum_today])"
      ],
      "metadata": {
        "id": "yQTOBlLbmboO"
      },
      "execution_count": 48,
      "outputs": []
    },
    {
      "cell_type": "code",
      "source": [
        "total_plan = total_plan[(total_plan[f'sum_today {pd.to_datetime(finish).date()}']>0) & (total_plan['cum_sum_yesterday'] == 0)]"
      ],
      "metadata": {
        "id": "t_QOhhKDfQ6s"
      },
      "execution_count": 49,
      "outputs": []
    },
    {
      "cell_type": "code",
      "source": [
        "total_plan = total_plan[[f'sum_today {pd.to_datetime(finish).date()}']]"
      ],
      "metadata": {
        "id": "RX6K8r4Tio-i"
      },
      "execution_count": 52,
      "outputs": []
    },
    {
      "cell_type": "code",
      "source": [
        "worksheet_SMR.worksheet('START').clear()\n",
        "gd.set_with_dataframe(worksheet_SMR.worksheet('START'), total_plan,row=1, col=1, include_index=True, include_column_header=True)"
      ],
      "metadata": {
        "id": "3BYnXulvkj3t"
      },
      "execution_count": 54,
      "outputs": []
    },
    {
      "cell_type": "markdown",
      "source": [
        "## обновление листа ПЛАН-РАБОТ-> внесение факта"
      ],
      "metadata": {
        "id": "AlPv9mqGhSE9"
      }
    },
    {
      "cell_type": "code",
      "source": [
        "list_date = list(graf_black.iloc[0, :].values)\n",
        "list_name = list(graf_black.iloc[:, 0].values)"
      ],
      "metadata": {
        "id": "2IHCA98o_f2A"
      },
      "execution_count": 74,
      "outputs": []
    },
    {
      "cell_type": "code",
      "source": [
        "for i in plan_PR.iloc[:, 0]:\n",
        "    index_in_plan_PR = list(plan_PR.iloc[:, 0]).index(i)\n",
        "    date_in_plan_PR = plan_PR.iloc[index_in_plan_PR, 2]\n",
        "    date_in_plan_PR = '.'.join(reversed(str(date_in_plan_PR).split('-')))\n",
        "    value_in_plan_PR = plan_PR.iloc[index_in_plan_PR, 1]\n",
        "    value_in_plan_PR = ','.join(value_in_plan_PR.split('.'))\n",
        "\n",
        "    index_row_in_graf_black = list_name.index(i) + 2\n",
        "    index_column_in_graf_black = list_date.index(date_in_plan_PR) + 1\n",
        "\n",
        "    worksheet_SMR.worksheet(\"ГРАФИК РАБОТ\").update_cell(index_row_in_graf_black, index_column_in_graf_black, value_in_plan_PR)\n",
        "\n",
        "    print(value_in_plan_PR, date_in_plan_PR, i, index_row_in_graf_black, index_column_in_graf_black)"
      ],
      "metadata": {
        "id": "WrRxSzxCAABF"
      },
      "execution_count": null,
      "outputs": []
    },
    {
      "cell_type": "markdown",
      "source": [
        "## обновление листа финансирование:\n",
        "\n",
        "1. внесение плана КС, кумулятивно за отчетный период\n",
        "2. акутулизация плана платежей\n",
        "3. внесение сумм по фактически выполненным работам"
      ],
      "metadata": {
        "id": "zvNhrWJKUnIQ"
      }
    },
    {
      "cell_type": "markdown",
      "source": [
        "## графики:\n",
        "\n",
        "1. СМР план/факт\n",
        "2. финансирование план/факт\n",
        "3. освоение план/факт\n"
      ],
      "metadata": {
        "id": "Mg_2hIExUWeE"
      }
    },
    {
      "cell_type": "code",
      "source": [
        "from pygsheets.chart import ChartType"
      ],
      "metadata": {
        "id": "0iZXga6XZXdA"
      },
      "execution_count": 83,
      "outputs": []
    },
    {
      "cell_type": "code",
      "source": [
        "gz = pygsheets.authorize(service_file='/content/credentials.json')"
      ],
      "metadata": {
        "id": "on3sOSNhZHUw"
      },
      "execution_count": 85,
      "outputs": []
    },
    {
      "cell_type": "code",
      "source": [
        " gz = gz.open('План работ Договор Адамант')"
      ],
      "metadata": {
        "id": "9fbc763AaPDe"
      },
      "execution_count": 86,
      "outputs": []
    },
    {
      "cell_type": "code",
      "source": [
        "gz.worksheet_by_title('PLAN_WEEK').add_chart(('A2', 'A44'), [('B2', 'B44')], chart_type=ChartType.LINE, title='MyChart', anchor_cell='A50')"
      ],
      "metadata": {
        "colab": {
          "base_uri": "https://localhost:8080/"
        },
        "id": "LGoZzwhoa5fO",
        "outputId": "8802fb93-7f83-4a51-e7fb-ded1830a7a56"
      },
      "execution_count": 87,
      "outputs": [
        {
          "output_type": "execute_result",
          "data": {
            "text/plain": [
              "<Chart LINE 'MyChart'>"
            ]
          },
          "metadata": {},
          "execution_count": 87
        }
      ]
    },
    {
      "cell_type": "markdown",
      "source": [
        "# **Обновление графика Закачика**\n",
        "\n",
        "* позиции имеющие шифр обновляются по шифру\n",
        "* позиции без шифра обновляются после фильтрации по шифру"
      ],
      "metadata": {
        "id": "9xEb0t5dZkww"
      }
    },
    {
      "cell_type": "markdown",
      "source": [
        "## предобработка графика Заказчика"
      ],
      "metadata": {
        "id": "h8yAW_cz7KNz"
      }
    },
    {
      "cell_type": "code",
      "source": [
        "#  список из графика заказчика\n",
        "list2 = df_graph['Unnamed: 13']\n",
        "list2 = list2.map(lambda z: str(z).lstrip())\n",
        "list2 = list2.to_list()\n",
        "list3 = df_graph['Unnamed: 2']\n",
        "list3 = list3.map(lambda z: str(z).lstrip())\n",
        "list3 = list3.to_list()"
      ],
      "metadata": {
        "id": "QkPqeZfZBOfJ"
      },
      "execution_count": 75,
      "outputs": []
    },
    {
      "cell_type": "markdown",
      "source": [
        "## обновление СМР\n",
        "\n",
        "* пайплайн по каждому контракту СМР одинаковый"
      ],
      "metadata": {
        "id": "nQskqwEOp0il"
      }
    },
    {
      "cell_type": "markdown",
      "source": [
        "### пересечение списков видов работ"
      ],
      "metadata": {
        "id": "q672d5Uu8iaU"
      }
    },
    {
      "cell_type": "code",
      "source": [
        "#  список из шиифров из 'График работ'\n",
        "list1 = graf.iloc[:, 0].values\n",
        "list1"
      ],
      "metadata": {
        "id": "48TUfohAA3dL"
      },
      "execution_count": null,
      "outputs": []
    },
    {
      "cell_type": "code",
      "source": [
        "result = list(set(list1) & set(list2))\n",
        "result"
      ],
      "metadata": {
        "id": "zhyjBettBoIh"
      },
      "execution_count": null,
      "outputs": []
    },
    {
      "cell_type": "code",
      "source": [
        "for i in result:\n",
        "    df_graph.loc[df_graph['Unnamed: 13'].map(lambda z: str(z).lstrip()).values == i, 'Unnamed: 4'] = (pd.to_numeric(graf.loc[graf.iloc[:,0].map(lambda z: str(z).lstrip()).values == i, 9].values[0].replace(',', '.').replace('%', ''))/100)\n",
        "    # проверка корректности внесения обновлений\n",
        "    print({df_graph.loc[df_graph['Unnamed: 13'].map(lambda z: str(z).lstrip()).values == i, 'Unnamed: 2'].values[0]: pd.to_numeric(graf.loc[graf.iloc[:,0].map(lambda z: str(z).lstrip()).values == i, 9].values[0].replace(',', '.').replace('%', ''))/100})    "
      ],
      "metadata": {
        "id": "GaQuiRoSyErC"
      },
      "execution_count": null,
      "outputs": []
    },
    {
      "cell_type": "markdown",
      "source": [
        "## обновление проектирования\n",
        "\n",
        "* первый этап - обновить по шифрам\n",
        "* второй этап - обновить по наименованию работ"
      ],
      "metadata": {
        "id": "gnpOYBlbqHZC"
      }
    },
    {
      "cell_type": "code",
      "source": [
        "perevod = {\n",
        "    'STATUS A': 1,\n",
        "    'STATUS B': 0.85,\n",
        "    'STATUS C': 0.6,\n",
        "    'WORK': 0.3,\n",
        "    'START': 0.05,\n",
        "    'HOLD': 0,\n",
        "    '': ''\n",
        "}"
      ],
      "metadata": {
        "id": "d7QHPxPXIE7D"
      },
      "execution_count": 78,
      "outputs": []
    },
    {
      "cell_type": "code",
      "source": [
        "list_PD_ID_1 = graph_PD[graph_PD.iloc[:, 1].values != ''].iloc[:,2]\n",
        "list_PD_name = graph_PD[graph_PD.iloc[:, 1].values == ''].iloc[:,3]\n",
        "list_PD = list_PD_ID_1.append(list_PD_name)\n",
        "list_PD"
      ],
      "metadata": {
        "id": "C1u1SmgCxAQY"
      },
      "execution_count": null,
      "outputs": []
    },
    {
      "cell_type": "code",
      "source": [
        "result_PD_ID = list(set(list_PD) & set(list2))\n",
        "result_PD_name = list(set(list_PD) & set(list3))"
      ],
      "metadata": {
        "id": "kA-c5-twzYUb"
      },
      "execution_count": 80,
      "outputs": []
    },
    {
      "cell_type": "code",
      "source": [
        "for i in result_PD_ID:\n",
        "    df_graph.loc[df_graph['Unnamed: 13'].map(lambda z: str(z).lstrip()).values == i, 'Unnamed: 4'] = perevod[graph_PD.loc[graph_PD.iloc[:,2] == i,7].values[0]]\n",
        "    # проверка корректности внесения обновлений\n",
        "    print({df_graph.loc[df_graph['Unnamed: 13'].map(lambda z: str(z).lstrip()).values == i, 'Unnamed: 2'].values[0]: perevod[graph_PD.loc[graph_PD.iloc[:,2] == i,7].values[0]]})"
      ],
      "metadata": {
        "id": "ppktXI-34bdi"
      },
      "execution_count": null,
      "outputs": []
    },
    {
      "cell_type": "code",
      "source": [
        "for i in result_PD_name:\n",
        "    df_graph.loc[df_graph['Unnamed: 2'].map(lambda z: str(z).lstrip()).values == i, 'Unnamed: 4'] = perevod[graph_PD.loc[graph_PD.iloc[:,3] == i,7].values[0]]\n",
        "    print({df_graph.loc[df_graph['Unnamed: 2'].map(lambda z: str(z).lstrip()).values == i, 'Unnamed: 2'].values[0]: perevod[graph_PD.loc[graph_PD.iloc[:,3] == i,7].values[0]]}) "
      ],
      "metadata": {
        "id": "szZEKaf6PQUB"
      },
      "execution_count": null,
      "outputs": []
    },
    {
      "cell_type": "markdown",
      "source": [
        "создание файла с обновленными данными"
      ],
      "metadata": {
        "id": "QiuiQ-OEIjnK"
      }
    },
    {
      "cell_type": "code",
      "source": [
        "df_graph.to_excel('Сводный план-график {} иса.xlsx'.format('11.01.2023'), sheet_name='Обновление от {}'.format('11.01.2023'),index=False)"
      ],
      "metadata": {
        "id": "GGvpLQWYZBbw"
      },
      "execution_count": null,
      "outputs": []
    }
  ]
}