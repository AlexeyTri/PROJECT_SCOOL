{
  "nbformat": 4,
  "nbformat_minor": 0,
  "metadata": {
    "colab": {
      "provenance": [],
      "authorship_tag": "ABX9TyPZa9p6T+BOVwsb98b2eHb0",
      "include_colab_link": true
    },
    "kernelspec": {
      "name": "python3",
      "display_name": "Python 3"
    },
    "language_info": {
      "name": "python"
    }
  },
  "cells": [
    {
      "cell_type": "markdown",
      "metadata": {
        "id": "view-in-github",
        "colab_type": "text"
      },
      "source": [
        "<a href=\"https://colab.research.google.com/github/AlexeyTri/PROJECT_SCOOL/blob/master/ActualGraphic.ipynb\" target=\"_parent\"><img src=\"https://colab.research.google.com/assets/colab-badge.svg\" alt=\"Open In Colab\"/></a>"
      ]
    },
    {
      "cell_type": "markdown",
      "source": [
        "**Условия:**\n",
        "1. наличие AUTODESK DESKTOP\n",
        "2. доступ ко всем таблицам в режиме РЕДАКТОР\n",
        "3. все тактические графики должны быть приведены в гугл форму"
      ],
      "metadata": {
        "id": "UOOMQ0AEaGdw"
      }
    },
    {
      "cell_type": "markdown",
      "source": [
        "# TODO\n",
        "\n",
        "* парсинг таблицы ГРАФИК ЗАКАЗЧИКА из АСС\n",
        "* парсинг договора подрядчика и автоматическая генерация ГУГЛ таблиц\n",
        "* каждому виду работ в контрактном графике необходимо присвоить НАШ шифр\n",
        "* график заказчика подгружается с локального компьютера и сохраняется туда же\n",
        "* приветсти все данные к НОРМАЛЬНОМУ ТИПУ, включая индексы и названия колонок\n",
        "* разобраться с процентами"
      ],
      "metadata": {
        "id": "-65aTDArkNQM"
      }
    },
    {
      "cell_type": "markdown",
      "source": [
        "# Библиотеки"
      ],
      "metadata": {
        "id": "2BtSMZMti6bn"
      }
    },
    {
      "cell_type": "code",
      "source": [
        "!pip install pygsheets"
      ],
      "metadata": {
        "id": "QC8iAj4eYkJq"
      },
      "execution_count": null,
      "outputs": []
    },
    {
      "cell_type": "code",
      "source": [
        "import pygsheets"
      ],
      "metadata": {
        "id": "3LZJcKXRY46d"
      },
      "execution_count": 2,
      "outputs": []
    },
    {
      "cell_type": "code",
      "source": [
        "import openpyxl\n",
        "from openpyxl.cell.cell import WriteOnlyCell\n",
        "from openpyxl.utils.dataframe import dataframe_to_rows\n",
        "from openpyxl import Workbook\n",
        "import pandas as pd\n",
        "import gspread_dataframe as gd"
      ],
      "metadata": {
        "id": "7oUB-mXiiKr-"
      },
      "execution_count": null,
      "outputs": []
    },
    {
      "cell_type": "code",
      "source": [
        "idx = pd.IndexSlice"
      ],
      "metadata": {
        "id": "9aw7p1nwcEWR"
      },
      "execution_count": null,
      "outputs": []
    },
    {
      "cell_type": "code",
      "source": [
        "from google.colab import auth\n",
        "auth.authenticate_user()\n",
        "import re\n",
        "import gspread\n",
        "from google.auth import default\n",
        "creds, _ = default()\n",
        "import numpy as np\n",
        "gc = gspread.authorize(creds)\n",
        "from datetime import datetime"
      ],
      "metadata": {
        "id": "O3gzrZVIuO_u"
      },
      "execution_count": null,
      "outputs": []
    },
    {
      "cell_type": "code",
      "source": [
        "start_project = '01.02.2022'\n",
        "finish_project = '02.09.2024'"
      ],
      "metadata": {
        "id": "_8L4AxKJf5c9"
      },
      "execution_count": null,
      "outputs": []
    },
    {
      "cell_type": "markdown",
      "source": [
        "# **Обновление графика Закачика**\n",
        "\n",
        "* позиции имеющие шифр обновляются по шифру\n",
        "* позиции без шифра обновляются после фильтрации по шифру"
      ],
      "metadata": {
        "id": "9xEb0t5dZkww"
      }
    },
    {
      "cell_type": "markdown",
      "source": [
        "## предобработка графика Заказчика"
      ],
      "metadata": {
        "id": "h8yAW_cz7KNz"
      }
    },
    {
      "cell_type": "markdown",
      "source": [],
      "metadata": {
        "id": "f0JRDyUrlYfC"
      }
    },
    {
      "cell_type": "code",
      "execution_count": null,
      "metadata": {
        "id": "wgy-583sKxnZ"
      },
      "outputs": [],
      "source": [
        "# файл загружается на ГУГЛ диск\n",
        "from google.colab import files\n",
        "upload = files.upload()"
      ]
    },
    {
      "cell_type": "code",
      "source": [
        "# содежание текущей папки на ГУГЛ диске\n",
        "!ls"
      ],
      "metadata": {
        "id": "2hcKUaPeZBVm"
      },
      "execution_count": null,
      "outputs": []
    },
    {
      "cell_type": "markdown",
      "source": [
        "ПАНДАС из редакции графика **заказчика**"
      ],
      "metadata": {
        "id": "hIeY_yJ-56JQ"
      }
    },
    {
      "cell_type": "code",
      "source": [
        "df_graph = pd.read_excel(open('Сводный план-график 2022 12 28 иса.xlsx', 'rb'))"
      ],
      "metadata": {
        "colab": {
          "base_uri": "https://localhost:8080/"
        },
        "id": "THf6puSMX3qT",
        "outputId": "b05234e8-a630-4f37-b3dc-fbd81422ce8b"
      },
      "execution_count": null,
      "outputs": [
        {
          "output_type": "stream",
          "name": "stderr",
          "text": [
            "/usr/local/lib/python3.8/dist-packages/openpyxl/worksheet/_reader.py:312: UserWarning: Conditional Formatting extension is not supported and will be removed\n",
            "  warn(msg)\n"
          ]
        }
      ]
    },
    {
      "cell_type": "code",
      "source": [
        "df_graph"
      ],
      "metadata": {
        "id": "JCGV5uxua5rz"
      },
      "execution_count": null,
      "outputs": []
    },
    {
      "cell_type": "code",
      "source": [
        "# stop\n",
        "df_graph = pd.DataFrame(df_graph.values, columns=df_graph.values[3])\n",
        "df_graph['Название задачи'] = df_graph['Название задачи'].map(lambda z: str(z).lstrip()).values\n",
        "df_graph"
      ],
      "metadata": {
        "id": "omXMhBKqoII3"
      },
      "execution_count": null,
      "outputs": []
    },
    {
      "cell_type": "code",
      "source": [
        "# stop\n",
        "df_graph.drop([0,1,2,3], inplace=True)"
      ],
      "metadata": {
        "id": "EGh9c4crwO7b"
      },
      "execution_count": null,
      "outputs": []
    },
    {
      "cell_type": "code",
      "source": [
        "#  список из графика заказчика\n",
        "list2 = df_graph['Unnamed: 13']\n",
        "list2 = list2.map(lambda z: str(z).lstrip())\n",
        "list2 = list2.to_list()\n",
        "list3 = df_graph['Unnamed: 2']\n",
        "list3 = list3.map(lambda z: str(z).lstrip())\n",
        "list3 = list3.to_list()"
      ],
      "metadata": {
        "id": "QkPqeZfZBOfJ"
      },
      "execution_count": null,
      "outputs": []
    },
    {
      "cell_type": "markdown",
      "source": [
        "## обновление СМР\n",
        "\n",
        "* пайплайн по каждому контракту СМР одинаковый"
      ],
      "metadata": {
        "id": "nQskqwEOp0il"
      }
    },
    {
      "cell_type": "markdown",
      "source": [
        "### предобработка графика работ подрядчика"
      ],
      "metadata": {
        "id": "_oNoWLTz7AW1"
      }
    },
    {
      "cell_type": "code",
      "source": [
        "worksheet_SMR = gc.open('План работ Договор Адамант')"
      ],
      "metadata": {
        "id": "VfDBnGnu6O3K"
      },
      "execution_count": null,
      "outputs": []
    },
    {
      "cell_type": "code",
      "source": [
        "graf = worksheet_SMR.worksheet(\"ГРАФИК РАБОТ\")\n",
        "graf = graf.get_all_values()\n",
        "graf = np.array(graf)\n",
        "graf =  pd.DataFrame(graf[1:, :])\n",
        "graf"
      ],
      "metadata": {
        "id": "5xj5ZQbG6bEz",
        "outputId": "aadc3ec4-b30b-43b2-f6bf-ff9ed6c6e7e3",
        "colab": {
          "base_uri": "https://localhost:8080/",
          "height": 748
        }
      },
      "execution_count": null,
      "outputs": [
        {
          "output_type": "execute_result",
          "data": {
            "text/plain": [
              "                          0    \\\n",
              "0                        PLAN   \n",
              "1                         ***   \n",
              "2          VZO_POS1_POD_MOB_.   \n",
              "3    VZO_POS1_POD_VRD_DP17.01   \n",
              "4     VZO_POS1_POD_VRS_ES0.01   \n",
              "..                        ...   \n",
              "396                BOT_GP___.   \n",
              "397                    BOT_GP   \n",
              "398                  _EXP___.   \n",
              "399                  _ZOS___.   \n",
              "400                  _RNV___.   \n",
              "\n",
              "                                                   1                    2    \\\n",
              "0                                         ГРАФИК РАБОТ  Начало работ по ГРП   \n",
              "1                                                                             \n",
              "2                                          Мобилизация           10.10.2022   \n",
              "3           Временные дороги из дорожных плит (3х1.75)           26.10.2022   \n",
              "4    Временные электросети - установленные на начал...           23.11.2022   \n",
              "..                                                 ...                  ...   \n",
              "396                          Работы по благоустройству           18.11.2022   \n",
              "397                 Выдача рабочего проекта по разделу           18.11.2022   \n",
              "398                        Ввод объекта в эксплуатацию           14.03.2024   \n",
              "399                                                ЗОС           14.03.2024   \n",
              "400                 Ввод объекта в эксплуатацию ( РНВ)           25.04.2024   \n",
              "\n",
              "                         3             4         5                   6    \\\n",
              "0    Завершение работ по ГРП  Длительность   Ед.изм.  Объем по контракту   \n",
              "1                                                                          \n",
              "2                 10.05.2024           579        --                       \n",
              "3                 18.02.2023           116        м2                 300   \n",
              "4                 12.12.2022            20  комплект                   2   \n",
              "..                       ...           ...       ...                 ...   \n",
              "396               05.04.2024           505                                 \n",
              "397               18.11.2022             1        РД                       \n",
              "398               06.06.2024            85                                 \n",
              "399               24.04.2024            42                                 \n",
              "400               06.06.2024            43                                 \n",
              "\n",
              "               7              8                   9    ...         282  \\\n",
              "0    План на 17.01  Факт на 17.01  % выполнения плана  ...  23.02.2023   \n",
              "1                                                      ...        план   \n",
              "2                                              91,67%  ...               \n",
              "3            300,0          300,0             100,00%  ...               \n",
              "4              2,0            1,0              50,00%  ...               \n",
              "..             ...            ...                 ...  ...         ...   \n",
              "396            0,0            0,0                      ...               \n",
              "397                                                    ...               \n",
              "398            0,0            0,0                      ...               \n",
              "399            0,0            0,0                      ...               \n",
              "400            0,0            0,0                      ...               \n",
              "\n",
              "            283         284         285         286         287         288  \\\n",
              "0    23.02.2023  24.02.2023  24.02.2023  25.02.2023  25.02.2023  26.02.2023   \n",
              "1          факт        план        факт        план        факт        план   \n",
              "2                                                                             \n",
              "3                                                                             \n",
              "4                                                                             \n",
              "..          ...         ...         ...         ...         ...         ...   \n",
              "396                                                                           \n",
              "397                                                                           \n",
              "398                                                                           \n",
              "399                                                                           \n",
              "400                                                                           \n",
              "\n",
              "            289         290         291  \n",
              "0    26.02.2023  27.02.2023  27.02.2023  \n",
              "1          факт        план        факт  \n",
              "2                                        \n",
              "3                                        \n",
              "4                                        \n",
              "..          ...         ...         ...  \n",
              "396                                      \n",
              "397                                      \n",
              "398                                      \n",
              "399                                      \n",
              "400                                      \n",
              "\n",
              "[401 rows x 292 columns]"
            ],
            "text/html": [
              "\n",
              "  <div id=\"df-5ffd9b0e-2184-4215-90b5-00e40f17cf61\">\n",
              "    <div class=\"colab-df-container\">\n",
              "      <div>\n",
              "<style scoped>\n",
              "    .dataframe tbody tr th:only-of-type {\n",
              "        vertical-align: middle;\n",
              "    }\n",
              "\n",
              "    .dataframe tbody tr th {\n",
              "        vertical-align: top;\n",
              "    }\n",
              "\n",
              "    .dataframe thead th {\n",
              "        text-align: right;\n",
              "    }\n",
              "</style>\n",
              "<table border=\"1\" class=\"dataframe\">\n",
              "  <thead>\n",
              "    <tr style=\"text-align: right;\">\n",
              "      <th></th>\n",
              "      <th>0</th>\n",
              "      <th>1</th>\n",
              "      <th>2</th>\n",
              "      <th>3</th>\n",
              "      <th>4</th>\n",
              "      <th>5</th>\n",
              "      <th>6</th>\n",
              "      <th>7</th>\n",
              "      <th>8</th>\n",
              "      <th>9</th>\n",
              "      <th>...</th>\n",
              "      <th>282</th>\n",
              "      <th>283</th>\n",
              "      <th>284</th>\n",
              "      <th>285</th>\n",
              "      <th>286</th>\n",
              "      <th>287</th>\n",
              "      <th>288</th>\n",
              "      <th>289</th>\n",
              "      <th>290</th>\n",
              "      <th>291</th>\n",
              "    </tr>\n",
              "  </thead>\n",
              "  <tbody>\n",
              "    <tr>\n",
              "      <th>0</th>\n",
              "      <td>PLAN</td>\n",
              "      <td>ГРАФИК РАБОТ</td>\n",
              "      <td>Начало работ по ГРП</td>\n",
              "      <td>Завершение работ по ГРП</td>\n",
              "      <td>Длительность</td>\n",
              "      <td>Ед.изм.</td>\n",
              "      <td>Объем по контракту</td>\n",
              "      <td>План на 17.01</td>\n",
              "      <td>Факт на 17.01</td>\n",
              "      <td>% выполнения плана</td>\n",
              "      <td>...</td>\n",
              "      <td>23.02.2023</td>\n",
              "      <td>23.02.2023</td>\n",
              "      <td>24.02.2023</td>\n",
              "      <td>24.02.2023</td>\n",
              "      <td>25.02.2023</td>\n",
              "      <td>25.02.2023</td>\n",
              "      <td>26.02.2023</td>\n",
              "      <td>26.02.2023</td>\n",
              "      <td>27.02.2023</td>\n",
              "      <td>27.02.2023</td>\n",
              "    </tr>\n",
              "    <tr>\n",
              "      <th>1</th>\n",
              "      <td>***</td>\n",
              "      <td></td>\n",
              "      <td></td>\n",
              "      <td></td>\n",
              "      <td></td>\n",
              "      <td></td>\n",
              "      <td></td>\n",
              "      <td></td>\n",
              "      <td></td>\n",
              "      <td></td>\n",
              "      <td>...</td>\n",
              "      <td>план</td>\n",
              "      <td>факт</td>\n",
              "      <td>план</td>\n",
              "      <td>факт</td>\n",
              "      <td>план</td>\n",
              "      <td>факт</td>\n",
              "      <td>план</td>\n",
              "      <td>факт</td>\n",
              "      <td>план</td>\n",
              "      <td>факт</td>\n",
              "    </tr>\n",
              "    <tr>\n",
              "      <th>2</th>\n",
              "      <td>VZO_POS1_POD_MOB_.</td>\n",
              "      <td>Мобилизация</td>\n",
              "      <td>10.10.2022</td>\n",
              "      <td>10.05.2024</td>\n",
              "      <td>579</td>\n",
              "      <td>--</td>\n",
              "      <td></td>\n",
              "      <td></td>\n",
              "      <td></td>\n",
              "      <td>91,67%</td>\n",
              "      <td>...</td>\n",
              "      <td></td>\n",
              "      <td></td>\n",
              "      <td></td>\n",
              "      <td></td>\n",
              "      <td></td>\n",
              "      <td></td>\n",
              "      <td></td>\n",
              "      <td></td>\n",
              "      <td></td>\n",
              "      <td></td>\n",
              "    </tr>\n",
              "    <tr>\n",
              "      <th>3</th>\n",
              "      <td>VZO_POS1_POD_VRD_DP17.01</td>\n",
              "      <td>Временные дороги из дорожных плит (3х1.75)</td>\n",
              "      <td>26.10.2022</td>\n",
              "      <td>18.02.2023</td>\n",
              "      <td>116</td>\n",
              "      <td>м2</td>\n",
              "      <td>300</td>\n",
              "      <td>300,0</td>\n",
              "      <td>300,0</td>\n",
              "      <td>100,00%</td>\n",
              "      <td>...</td>\n",
              "      <td></td>\n",
              "      <td></td>\n",
              "      <td></td>\n",
              "      <td></td>\n",
              "      <td></td>\n",
              "      <td></td>\n",
              "      <td></td>\n",
              "      <td></td>\n",
              "      <td></td>\n",
              "      <td></td>\n",
              "    </tr>\n",
              "    <tr>\n",
              "      <th>4</th>\n",
              "      <td>VZO_POS1_POD_VRS_ES0.01</td>\n",
              "      <td>Временные электросети - установленные на начал...</td>\n",
              "      <td>23.11.2022</td>\n",
              "      <td>12.12.2022</td>\n",
              "      <td>20</td>\n",
              "      <td>комплект</td>\n",
              "      <td>2</td>\n",
              "      <td>2,0</td>\n",
              "      <td>1,0</td>\n",
              "      <td>50,00%</td>\n",
              "      <td>...</td>\n",
              "      <td></td>\n",
              "      <td></td>\n",
              "      <td></td>\n",
              "      <td></td>\n",
              "      <td></td>\n",
              "      <td></td>\n",
              "      <td></td>\n",
              "      <td></td>\n",
              "      <td></td>\n",
              "      <td></td>\n",
              "    </tr>\n",
              "    <tr>\n",
              "      <th>...</th>\n",
              "      <td>...</td>\n",
              "      <td>...</td>\n",
              "      <td>...</td>\n",
              "      <td>...</td>\n",
              "      <td>...</td>\n",
              "      <td>...</td>\n",
              "      <td>...</td>\n",
              "      <td>...</td>\n",
              "      <td>...</td>\n",
              "      <td>...</td>\n",
              "      <td>...</td>\n",
              "      <td>...</td>\n",
              "      <td>...</td>\n",
              "      <td>...</td>\n",
              "      <td>...</td>\n",
              "      <td>...</td>\n",
              "      <td>...</td>\n",
              "      <td>...</td>\n",
              "      <td>...</td>\n",
              "      <td>...</td>\n",
              "      <td>...</td>\n",
              "    </tr>\n",
              "    <tr>\n",
              "      <th>396</th>\n",
              "      <td>BOT_GP___.</td>\n",
              "      <td>Работы по благоустройству</td>\n",
              "      <td>18.11.2022</td>\n",
              "      <td>05.04.2024</td>\n",
              "      <td>505</td>\n",
              "      <td></td>\n",
              "      <td></td>\n",
              "      <td>0,0</td>\n",
              "      <td>0,0</td>\n",
              "      <td></td>\n",
              "      <td>...</td>\n",
              "      <td></td>\n",
              "      <td></td>\n",
              "      <td></td>\n",
              "      <td></td>\n",
              "      <td></td>\n",
              "      <td></td>\n",
              "      <td></td>\n",
              "      <td></td>\n",
              "      <td></td>\n",
              "      <td></td>\n",
              "    </tr>\n",
              "    <tr>\n",
              "      <th>397</th>\n",
              "      <td>BOT_GP</td>\n",
              "      <td>Выдача рабочего проекта по разделу</td>\n",
              "      <td>18.11.2022</td>\n",
              "      <td>18.11.2022</td>\n",
              "      <td>1</td>\n",
              "      <td>РД</td>\n",
              "      <td></td>\n",
              "      <td></td>\n",
              "      <td></td>\n",
              "      <td></td>\n",
              "      <td>...</td>\n",
              "      <td></td>\n",
              "      <td></td>\n",
              "      <td></td>\n",
              "      <td></td>\n",
              "      <td></td>\n",
              "      <td></td>\n",
              "      <td></td>\n",
              "      <td></td>\n",
              "      <td></td>\n",
              "      <td></td>\n",
              "    </tr>\n",
              "    <tr>\n",
              "      <th>398</th>\n",
              "      <td>_EXP___.</td>\n",
              "      <td>Ввод объекта в эксплуатацию</td>\n",
              "      <td>14.03.2024</td>\n",
              "      <td>06.06.2024</td>\n",
              "      <td>85</td>\n",
              "      <td></td>\n",
              "      <td></td>\n",
              "      <td>0,0</td>\n",
              "      <td>0,0</td>\n",
              "      <td></td>\n",
              "      <td>...</td>\n",
              "      <td></td>\n",
              "      <td></td>\n",
              "      <td></td>\n",
              "      <td></td>\n",
              "      <td></td>\n",
              "      <td></td>\n",
              "      <td></td>\n",
              "      <td></td>\n",
              "      <td></td>\n",
              "      <td></td>\n",
              "    </tr>\n",
              "    <tr>\n",
              "      <th>399</th>\n",
              "      <td>_ZOS___.</td>\n",
              "      <td>ЗОС</td>\n",
              "      <td>14.03.2024</td>\n",
              "      <td>24.04.2024</td>\n",
              "      <td>42</td>\n",
              "      <td></td>\n",
              "      <td></td>\n",
              "      <td>0,0</td>\n",
              "      <td>0,0</td>\n",
              "      <td></td>\n",
              "      <td>...</td>\n",
              "      <td></td>\n",
              "      <td></td>\n",
              "      <td></td>\n",
              "      <td></td>\n",
              "      <td></td>\n",
              "      <td></td>\n",
              "      <td></td>\n",
              "      <td></td>\n",
              "      <td></td>\n",
              "      <td></td>\n",
              "    </tr>\n",
              "    <tr>\n",
              "      <th>400</th>\n",
              "      <td>_RNV___.</td>\n",
              "      <td>Ввод объекта в эксплуатацию ( РНВ)</td>\n",
              "      <td>25.04.2024</td>\n",
              "      <td>06.06.2024</td>\n",
              "      <td>43</td>\n",
              "      <td></td>\n",
              "      <td></td>\n",
              "      <td>0,0</td>\n",
              "      <td>0,0</td>\n",
              "      <td></td>\n",
              "      <td>...</td>\n",
              "      <td></td>\n",
              "      <td></td>\n",
              "      <td></td>\n",
              "      <td></td>\n",
              "      <td></td>\n",
              "      <td></td>\n",
              "      <td></td>\n",
              "      <td></td>\n",
              "      <td></td>\n",
              "      <td></td>\n",
              "    </tr>\n",
              "  </tbody>\n",
              "</table>\n",
              "<p>401 rows × 292 columns</p>\n",
              "</div>\n",
              "      <button class=\"colab-df-convert\" onclick=\"convertToInteractive('df-5ffd9b0e-2184-4215-90b5-00e40f17cf61')\"\n",
              "              title=\"Convert this dataframe to an interactive table.\"\n",
              "              style=\"display:none;\">\n",
              "        \n",
              "  <svg xmlns=\"http://www.w3.org/2000/svg\" height=\"24px\"viewBox=\"0 0 24 24\"\n",
              "       width=\"24px\">\n",
              "    <path d=\"M0 0h24v24H0V0z\" fill=\"none\"/>\n",
              "    <path d=\"M18.56 5.44l.94 2.06.94-2.06 2.06-.94-2.06-.94-.94-2.06-.94 2.06-2.06.94zm-11 1L8.5 8.5l.94-2.06 2.06-.94-2.06-.94L8.5 2.5l-.94 2.06-2.06.94zm10 10l.94 2.06.94-2.06 2.06-.94-2.06-.94-.94-2.06-.94 2.06-2.06.94z\"/><path d=\"M17.41 7.96l-1.37-1.37c-.4-.4-.92-.59-1.43-.59-.52 0-1.04.2-1.43.59L10.3 9.45l-7.72 7.72c-.78.78-.78 2.05 0 2.83L4 21.41c.39.39.9.59 1.41.59.51 0 1.02-.2 1.41-.59l7.78-7.78 2.81-2.81c.8-.78.8-2.07 0-2.86zM5.41 20L4 18.59l7.72-7.72 1.47 1.35L5.41 20z\"/>\n",
              "  </svg>\n",
              "      </button>\n",
              "      \n",
              "  <style>\n",
              "    .colab-df-container {\n",
              "      display:flex;\n",
              "      flex-wrap:wrap;\n",
              "      gap: 12px;\n",
              "    }\n",
              "\n",
              "    .colab-df-convert {\n",
              "      background-color: #E8F0FE;\n",
              "      border: none;\n",
              "      border-radius: 50%;\n",
              "      cursor: pointer;\n",
              "      display: none;\n",
              "      fill: #1967D2;\n",
              "      height: 32px;\n",
              "      padding: 0 0 0 0;\n",
              "      width: 32px;\n",
              "    }\n",
              "\n",
              "    .colab-df-convert:hover {\n",
              "      background-color: #E2EBFA;\n",
              "      box-shadow: 0px 1px 2px rgba(60, 64, 67, 0.3), 0px 1px 3px 1px rgba(60, 64, 67, 0.15);\n",
              "      fill: #174EA6;\n",
              "    }\n",
              "\n",
              "    [theme=dark] .colab-df-convert {\n",
              "      background-color: #3B4455;\n",
              "      fill: #D2E3FC;\n",
              "    }\n",
              "\n",
              "    [theme=dark] .colab-df-convert:hover {\n",
              "      background-color: #434B5C;\n",
              "      box-shadow: 0px 1px 3px 1px rgba(0, 0, 0, 0.15);\n",
              "      filter: drop-shadow(0px 1px 2px rgba(0, 0, 0, 0.3));\n",
              "      fill: #FFFFFF;\n",
              "    }\n",
              "  </style>\n",
              "\n",
              "      <script>\n",
              "        const buttonEl =\n",
              "          document.querySelector('#df-5ffd9b0e-2184-4215-90b5-00e40f17cf61 button.colab-df-convert');\n",
              "        buttonEl.style.display =\n",
              "          google.colab.kernel.accessAllowed ? 'block' : 'none';\n",
              "\n",
              "        async function convertToInteractive(key) {\n",
              "          const element = document.querySelector('#df-5ffd9b0e-2184-4215-90b5-00e40f17cf61');\n",
              "          const dataTable =\n",
              "            await google.colab.kernel.invokeFunction('convertToInteractive',\n",
              "                                                     [key], {});\n",
              "          if (!dataTable) return;\n",
              "\n",
              "          const docLinkHtml = 'Like what you see? Visit the ' +\n",
              "            '<a target=\"_blank\" href=https://colab.research.google.com/notebooks/data_table.ipynb>data table notebook</a>'\n",
              "            + ' to learn more about interactive tables.';\n",
              "          element.innerHTML = '';\n",
              "          dataTable['output_type'] = 'display_data';\n",
              "          await google.colab.output.renderOutput(dataTable, element);\n",
              "          const docLink = document.createElement('div');\n",
              "          docLink.innerHTML = docLinkHtml;\n",
              "          element.appendChild(docLink);\n",
              "        }\n",
              "      </script>\n",
              "    </div>\n",
              "  </div>\n",
              "  "
            ]
          },
          "metadata": {},
          "execution_count": 188
        }
      ]
    },
    {
      "cell_type": "code",
      "source": [
        "graf_black = graf.copy()"
      ],
      "metadata": {
        "id": "3KZDoyD70PLI"
      },
      "execution_count": null,
      "outputs": []
    },
    {
      "cell_type": "markdown",
      "source": [
        "### пересечение списков видов работ"
      ],
      "metadata": {
        "id": "q672d5Uu8iaU"
      }
    },
    {
      "cell_type": "code",
      "source": [
        "#  список из плана работ\n",
        "list1 = graf.iloc[:, 0].values\n",
        "list1"
      ],
      "metadata": {
        "id": "48TUfohAA3dL"
      },
      "execution_count": null,
      "outputs": []
    },
    {
      "cell_type": "markdown",
      "source": [
        "Пересечение списков задач плана работ и графика заказчика"
      ],
      "metadata": {
        "id": "QgMBse9f8RKr"
      }
    },
    {
      "cell_type": "code",
      "source": [
        "result = list(set(list1) & set(list2))\n",
        "result"
      ],
      "metadata": {
        "id": "zhyjBettBoIh"
      },
      "execution_count": null,
      "outputs": []
    },
    {
      "cell_type": "markdown",
      "source": [
        "Обновляем данные в плане заказчика"
      ],
      "metadata": {
        "id": "YA3BcO-U870g"
      }
    },
    {
      "cell_type": "code",
      "source": [
        "for i in result:\n",
        "    df_graph.loc[df_graph['Unnamed: 13'].map(lambda z: str(z).lstrip()).values == i, 'Unnamed: 4'] = (pd.to_numeric(graf.loc[graf.iloc[:,0].map(lambda z: str(z).lstrip()).values == i, 9].values[0].replace(',', '.').replace('%', ''))/100)\n",
        "    # проверка корректности внесения обновлений\n",
        "    print({df_graph.loc[df_graph['Unnamed: 13'].map(lambda z: str(z).lstrip()).values == i, 'Unnamed: 2'].values[0]: pd.to_numeric(graf.loc[graf.iloc[:,0].map(lambda z: str(z).lstrip()).values == i, 9].values[0].replace(',', '.').replace('%', ''))/100})    "
      ],
      "metadata": {
        "id": "GaQuiRoSyErC"
      },
      "execution_count": null,
      "outputs": []
    },
    {
      "cell_type": "markdown",
      "source": [
        "## обновление проектирования\n",
        "\n",
        "* первый этап - обновить по шифрам\n",
        "* второй этап - обновить по наименованию работ"
      ],
      "metadata": {
        "id": "gnpOYBlbqHZC"
      }
    },
    {
      "cell_type": "code",
      "source": [
        "worksheet_PD = gc.open('Реестр выдачи РД')"
      ],
      "metadata": {
        "id": "AjQD33Nst-Nk"
      },
      "execution_count": null,
      "outputs": []
    },
    {
      "cell_type": "code",
      "source": [
        "graph_PD = worksheet_PD.worksheet('График ПИР ')\n",
        "graph_PD = graph_PD.get_all_values()\n",
        "graph_PD = np.array(graph_PD)\n",
        "graph_PD = pd.DataFrame(graph_PD[7:])\n",
        "graph_PD"
      ],
      "metadata": {
        "id": "s95WjlOPuI0G"
      },
      "execution_count": null,
      "outputs": []
    },
    {
      "cell_type": "code",
      "source": [
        "pd.Series(graph_PD.iloc[:,7]).unique()"
      ],
      "metadata": {
        "id": "1MWRY1Fr5Dhg"
      },
      "execution_count": null,
      "outputs": []
    },
    {
      "cell_type": "code",
      "source": [
        "perevod = {\n",
        "    'STATUS A': 1,\n",
        "    'STATUS B': 0.85,\n",
        "    'STATUS C': 0.6,\n",
        "    'WORK': 0.3,\n",
        "    'START': 0.05,\n",
        "    'HOLD': 0,\n",
        "    '': ''\n",
        "}"
      ],
      "metadata": {
        "id": "d7QHPxPXIE7D"
      },
      "execution_count": null,
      "outputs": []
    },
    {
      "cell_type": "code",
      "source": [
        "list_PD_ID_1 = graph_PD[graph_PD.iloc[:, 1].values != ''].iloc[:,2]\n",
        "list_PD_name = graph_PD[graph_PD.iloc[:, 1].values == ''].iloc[:,3]\n",
        "list_PD = list_PD_ID_1.append(list_PD_name)\n",
        "list_PD"
      ],
      "metadata": {
        "id": "C1u1SmgCxAQY"
      },
      "execution_count": null,
      "outputs": []
    },
    {
      "cell_type": "code",
      "source": [
        "result_PD_ID = list(set(list_PD) & set(list2))\n",
        "result_PD_name = list(set(list_PD) & set(list3))"
      ],
      "metadata": {
        "id": "kA-c5-twzYUb"
      },
      "execution_count": null,
      "outputs": []
    },
    {
      "cell_type": "code",
      "source": [
        "for i in result_PD_ID:\n",
        "    df_graph.loc[df_graph['Unnamed: 13'].map(lambda z: str(z).lstrip()).values == i, 'Unnamed: 4'] = perevod[graph_PD.loc[graph_PD.iloc[:,2] == i,7].values[0]]\n",
        "    # проверка корректности внесения обновлений\n",
        "    print({df_graph.loc[df_graph['Unnamed: 13'].map(lambda z: str(z).lstrip()).values == i, 'Unnamed: 2'].values[0]: perevod[graph_PD.loc[graph_PD.iloc[:,2] == i,7].values[0]]})"
      ],
      "metadata": {
        "id": "ppktXI-34bdi"
      },
      "execution_count": null,
      "outputs": []
    },
    {
      "cell_type": "code",
      "source": [
        "for i in result_PD_name:\n",
        "    df_graph.loc[df_graph['Unnamed: 2'].map(lambda z: str(z).lstrip()).values == i, 'Unnamed: 4'] = perevod[graph_PD.loc[graph_PD.iloc[:,3] == i,7].values[0]]\n",
        "    print({df_graph.loc[df_graph['Unnamed: 2'].map(lambda z: str(z).lstrip()).values == i, 'Unnamed: 2'].values[0]: perevod[graph_PD.loc[graph_PD.iloc[:,3] == i,7].values[0]]}) "
      ],
      "metadata": {
        "id": "szZEKaf6PQUB"
      },
      "execution_count": null,
      "outputs": []
    },
    {
      "cell_type": "code",
      "source": [
        "df_graph.to_excel('Сводный план-график {} иса.xlsx'.format('11.01.2023'), sheet_name='Обновление от {}'.format('11.01.2023'),index=False)"
      ],
      "metadata": {
        "id": "GGvpLQWYZBbw"
      },
      "execution_count": null,
      "outputs": []
    },
    {
      "cell_type": "markdown",
      "source": [
        "# **Обновление графика проектирования подрядчика**\n",
        "\n",
        "* выгрузка реестра замечаний \n",
        "* агрегирование данных по разделам\n",
        "* заполнение графика проектирования"
      ],
      "metadata": {
        "id": "549WEd02ZKnJ"
      }
    },
    {
      "cell_type": "code",
      "source": [
        "# файл с реестром замечаний на google drive\n",
        "from google.colab import files\n",
        "upload = files.upload()"
      ],
      "metadata": {
        "id": "GsarAJGKV4py"
      },
      "execution_count": null,
      "outputs": []
    },
    {
      "cell_type": "code",
      "source": [
        "value_essuse = pd.read_excel(open('Сводка по проблемам-202301121116.xlsx', 'rb'), sheet_name=1)\n",
        "value_essuse.columns"
      ],
      "metadata": {
        "id": "FktZmLEPV-vi"
      },
      "execution_count": null,
      "outputs": []
    },
    {
      "cell_type": "code",
      "source": [
        "value_essuse = value_essuse[(value_essuse['Статус'] == 'Открыто') & (value_essuse['Тип'].isin(['Замечание к РД','Замечания к ПД']))]\n",
        "value_essuse.loc[:, 'Размещение'] =  value_essuse['Размещение'].map(lambda x: str(x).split('.pdf')[0].split('_')[0])"
      ],
      "metadata": {
        "id": "0We3PM2jamOB"
      },
      "execution_count": null,
      "outputs": []
    },
    {
      "cell_type": "code",
      "source": [
        "value_essuse = value_essuse.loc[:, idx['Размещение','Тип замечания']]"
      ],
      "metadata": {
        "id": "jyBJmlxMcQ60"
      },
      "execution_count": null,
      "outputs": []
    },
    {
      "cell_type": "code",
      "source": [
        "agg_func_count = {'Тип замечания': 'count'}\n",
        "value_essuse = value_essuse.groupby(['Размещение','Тип замечания']).agg(agg_func_count)"
      ],
      "metadata": {
        "id": "AH87idR4nADo"
      },
      "execution_count": null,
      "outputs": []
    },
    {
      "cell_type": "code",
      "source": [
        "value_essuse"
      ],
      "metadata": {
        "id": "foAnaE-bQpkC"
      },
      "execution_count": null,
      "outputs": []
    },
    {
      "cell_type": "code",
      "source": [
        "name_RD_issues = pd.Series(value_essuse.index.get_level_values(0)).unique()"
      ],
      "metadata": {
        "id": "XZ5e5MxWpY8V"
      },
      "execution_count": null,
      "outputs": []
    },
    {
      "cell_type": "code",
      "source": [
        "graph_PD_RD = pd.DataFrame.from_records(worksheet_PD.worksheet('График ПИР ').get_all_values())"
      ],
      "metadata": {
        "id": "sEGLKVl55Nzi"
      },
      "execution_count": null,
      "outputs": []
    },
    {
      "cell_type": "code",
      "source": [
        "list_PD_RD = graph_PD_RD.iloc[:,2].to_list()"
      ],
      "metadata": {
        "id": "QFU7D9ojLXlC"
      },
      "execution_count": null,
      "outputs": []
    },
    {
      "cell_type": "code",
      "source": [
        "for i in name_RD_issues:\n",
        "    try:\n",
        "        number_row = list_PD_RD.index(i) + 1\n",
        "        try:\n",
        "            value_essuse.loc[i, 'Критическое замечание']\n",
        "            worksheet_PD.worksheet('График ПИР ').update_cell(number_row, 8, 'STATUS C')\n",
        "        except: \n",
        "            try:\n",
        "                value_essuse.loc[i, 'Техническая ошибка'].values[0] != 0  \n",
        "                value_essuse.loc[i, 'Недостаточно данных'].values[0] != 0\n",
        "                worksheet_PD.worksheet('График ПИР ').update_cell(number_row, 8, 'STATUS B')\n",
        "            except:\n",
        "                try:\n",
        "                    worksheet_PD.worksheet('График ПИР ').update_cell(number_row, 8, 'STATUS A') \n",
        "                except:\n",
        "                    pass\n",
        "    except:\n",
        "        pass "
      ],
      "metadata": {
        "id": "9fq8Iv64LAF8"
      },
      "execution_count": null,
      "outputs": []
    },
    {
      "cell_type": "markdown",
      "source": [
        "# **Обновление графика СМР подрядчика**\n",
        "\n",
        "* в модели отмечается выполненный элемент\n",
        "* данные попадают в GS + обновляется формы PLAN RADAR"
      ],
      "metadata": {
        "id": "kKpq6gdIJFwc"
      }
    },
    {
      "cell_type": "markdown",
      "source": [
        "## срез на отчетную неделю, план на следующую неделю за отчетной, кумулятивная сумма"
      ],
      "metadata": {
        "id": "aLETMdMGako1"
      }
    },
    {
      "cell_type": "code",
      "source": [
        "# предобработка графика работ\n",
        "new_graf = graf.copy()\n",
        "new_graf = new_graf.loc[idx[2:],idx[:6]]\n",
        "new_graf.drop([4,5], axis=1, inplace=True)"
      ],
      "metadata": {
        "id": "X-RvbtbQVb1o"
      },
      "execution_count": null,
      "outputs": []
    },
    {
      "cell_type": "code",
      "source": [
        "new_graf.rename(columns = {0:'passwordCOST', \n",
        "                       1:'NAME',2:'START', 3:'FINISH', 6:'valueModel'}, \n",
        "            inplace = True)\n",
        "new_graf = new_graf[new_graf['passwordCOST'] > '']\n",
        "new_graf = new_graf[new_graf['START'] > '']\n",
        "new_graf = new_graf[new_graf['FINISH'] > '']\n",
        "new_graf = new_graf.set_index('passwordCOST')\n",
        "new_graf['valueModel'] = new_graf['valueModel'].map(lambda x: pd.to_numeric(re.sub(\"[^0-9+,]\", \"\", x).replace(',','.')))\n",
        "new_graf = new_graf.fillna(0)"
      ],
      "metadata": {
        "id": "zZ_3x-QyYKss"
      },
      "execution_count": null,
      "outputs": []
    },
    {
      "cell_type": "code",
      "source": [
        "new_graf"
      ],
      "metadata": {
        "id": "zZl6YDVWYNDe"
      },
      "execution_count": null,
      "outputs": []
    },
    {
      "cell_type": "code",
      "source": [
        "start_week = '30.12.2022'\n",
        "start_week = pd.to_datetime(start_week)\n",
        "finish_week = '16.01.2023'\n",
        "finish_week = pd.to_datetime(finish_week)\n",
        "# ----------------------------------------------------\n",
        "start_next_week = '17.01.2023'\n",
        "start_next_week = pd.to_datetime(start_next_week)\n",
        "finish_next_week = '20.01.2023'\n",
        "finish__next_week = pd.to_datetime(finish_next_week)\n",
        "# -----------------------------------------------------\n",
        "start_project = '01.02.2022'\n",
        "start_project = pd.to_datetime(start_project)\n",
        "finish_week = '16.01.2023'\n",
        "finish_week = pd.to_datetime(finish_week)"
      ],
      "metadata": {
        "id": "6U44T15FVcKR"
      },
      "execution_count": null,
      "outputs": []
    },
    {
      "cell_type": "code",
      "source": [
        "graf_week_plan = graf.loc[:, idx[start_week:finish_week,'план']].sum(axis=1).values\n",
        "graf_week_plan = pd.DataFrame(graf_week_plan,index=graf.index, columns=['PLAN_WEEK'])\n",
        "graf_week_fakt = graf.loc[:, idx[start_week:finish_week,'факт']].sum(axis=1).values\n",
        "graf_week_fakt = pd.DataFrame(graf_week_fakt,index=graf.index, columns=['FAKT_WEEK'])"
      ],
      "metadata": {
        "id": "pQtL3bGLVcNU"
      },
      "execution_count": null,
      "outputs": []
    },
    {
      "cell_type": "code",
      "source": [
        "graf_next_week_plan = graf.loc[:, idx[start_next_week:finish_next_week,'план']].sum(axis=1).values\n",
        "graf_next_week_plan = pd.DataFrame(graf_next_week_plan,index=graf.index, columns=['PLAN_NEXT_WEEK'])\n",
        "graf_next_week_fakt = graf.loc[:, idx[start_next_week:finish_next_week,'факт']].sum(axis=1).values\n",
        "graf_next_week_fakt = pd.DataFrame(graf_next_week_fakt,index=graf.index, columns=['FAKT_NEXT_WEEK'])"
      ],
      "metadata": {
        "id": "Z05FYJW7VcQD"
      },
      "execution_count": null,
      "outputs": []
    },
    {
      "cell_type": "code",
      "source": [
        "total_plan = graf.loc[:, idx[start_project:finish_week,'план']].sum(axis=1).values\n",
        "total_plan = pd.DataFrame(total_plan,index=graf.index, columns=['TOTAL_PLAN'])\n",
        "total_fakt = graf.loc[:, idx[start_project:finish_week,'факт']].sum(axis=1).values\n",
        "total_fakt = pd.DataFrame(total_fakt,index=graf.index, columns=['TOTAL_FAKT'])"
      ],
      "metadata": {
        "id": "aUPB8AaqVcTJ"
      },
      "execution_count": null,
      "outputs": []
    },
    {
      "cell_type": "code",
      "source": [
        "new_graf_week = new_graf.join([total_plan,total_fakt,graf_week_plan,graf_week_fakt,graf_next_week_plan,graf_next_week_fakt])"
      ],
      "metadata": {
        "id": "iM0LG_hhVcV6"
      },
      "execution_count": null,
      "outputs": []
    },
    {
      "cell_type": "code",
      "source": [
        "new_graf_week = new_graf_week[['NAME', 'TOTAL_PLAN','TOTAL_FAKT','PLAN_WEEK','FAKT_WEEK','PLAN_NEXT_WEEK','FAKT_NEXT_WEEK']]"
      ],
      "metadata": {
        "id": "o1OnBpl_anAP"
      },
      "execution_count": null,
      "outputs": []
    },
    {
      "cell_type": "code",
      "source": [
        "new_graf_week = new_graf_week.loc[(new_graf_week['PLAN_WEEK']>0) | (new_graf_week['PLAN_NEXT_WEEK']>0)]"
      ],
      "metadata": {
        "id": "go2P_Maaar2j"
      },
      "execution_count": null,
      "outputs": []
    },
    {
      "cell_type": "code",
      "source": [
        "new_graf_week['%TOTAl_WEEK'] =( new_graf_week['FAKT_WEEK'] / new_graf_week['PLAN_WEEK']).mul(100).round(2).astype(str).add(' %')"
      ],
      "metadata": {
        "id": "ayFktA1Uaye3"
      },
      "execution_count": null,
      "outputs": []
    },
    {
      "cell_type": "code",
      "source": [
        "new_graf_week['%TOTAL'] =( new_graf_week['TOTAL_FAKT'] / new_graf_week['TOTAL_PLAN']).mul(100).round(2).astype(str).add(' %')"
      ],
      "metadata": {
        "id": "W7IO_Ptha0UX"
      },
      "execution_count": null,
      "outputs": []
    },
    {
      "cell_type": "code",
      "source": [
        "new_graf_week.rename(columns={'NAME':f'WORK on {pd.to_datetime(start_week).date()}  to {pd.to_datetime(finish_week).date()}'}, inplace=True)"
      ],
      "metadata": {
        "id": "vNksxrCva6jf"
      },
      "execution_count": null,
      "outputs": []
    },
    {
      "cell_type": "code",
      "source": [
        "new_graf_week"
      ],
      "metadata": {
        "id": "nmg6buohXwvD"
      },
      "execution_count": null,
      "outputs": []
    },
    {
      "cell_type": "code",
      "source": [
        "worksheet_SMR.worksheet('PLAN_WEEK').clear()\n",
        "worksheet_SMR.worksheet('PLAN_WEEK').append_rows([new_graf_week.columns.values.tolist()]+new_graf_week.values.tolist())"
      ],
      "metadata": {
        "id": "CSUEnOCEbAys"
      },
      "execution_count": null,
      "outputs": []
    },
    {
      "cell_type": "code",
      "source": [
        "# справочно\n",
        "dir(worksheet_SMR.worksheet('PLAN_WEEK'))"
      ],
      "metadata": {
        "id": "ZRTPSsjgVcbi"
      },
      "execution_count": null,
      "outputs": []
    },
    {
      "cell_type": "markdown",
      "source": [
        "## данные по старту работ"
      ],
      "metadata": {
        "id": "RNxgW6MXdT7O"
      }
    },
    {
      "cell_type": "code",
      "source": [
        "graf_name = graf[[0,1]][2:]\n",
        "graf_name.rename(columns={0: 'passwordCOST', 1: 'NAME'}, inplace=True) \n",
        "graf_name = graf_name[graf_name['passwordCOST'] != 0]\n",
        "graf_name = pd.DataFrame(graf_name['NAME'].values, index=graf_name['passwordCOST'], columns=['NAME'])"
      ],
      "metadata": {
        "id": "7gKrx74YhK2O"
      },
      "execution_count": null,
      "outputs": []
    },
    {
      "cell_type": "code",
      "source": [
        "graf.drop(graf.index[1:10], axis=1, inplace=True)"
      ],
      "metadata": {
        "id": "n1vzHDkvhVp8"
      },
      "execution_count": null,
      "outputs": []
    },
    {
      "cell_type": "code",
      "source": [
        "newColumnsIndex = [pd.to_datetime(pd.Series(graf.iloc[0].values[1:]).apply(lambda x: str(x)), format='%d.%m.%Y'), graf.iloc[1][1:].values]"
      ],
      "metadata": {
        "id": "ktxb51-ThmLm"
      },
      "execution_count": null,
      "outputs": []
    },
    {
      "cell_type": "code",
      "source": [
        "graf.rename(columns={0: 'passwordCOST'}, inplace=True)"
      ],
      "metadata": {
        "id": "WIuIb-uOhmwl"
      },
      "execution_count": null,
      "outputs": []
    },
    {
      "cell_type": "code",
      "source": [
        "graf"
      ],
      "metadata": {
        "id": "iPel_cYBmh5C"
      },
      "execution_count": null,
      "outputs": []
    },
    {
      "cell_type": "code",
      "source": [
        "graf = graf.set_index(\"passwordCOST\")\n",
        "graf = pd.DataFrame(graf.values, index=graf.index, columns=newColumnsIndex)\n",
        "graf.drop(graf.index[:2], axis=0, inplace=True)\n",
        "for i in graf.columns:\n",
        "    graf[i] = graf[i].map(lambda x: pd.to_numeric(re.sub(\"[^0-9 +,]\", \"\", x).replace(',','.')))"
      ],
      "metadata": {
        "id": "zi0gp-dGhmzl"
      },
      "execution_count": null,
      "outputs": []
    },
    {
      "cell_type": "code",
      "source": [
        "graf.fillna(0, inplace=True)\n",
        "graf.sort_index(axis=0, level=1, ascending=True)\n",
        "graf = graf[graf.index > '']\n",
        "graf"
      ],
      "metadata": {
        "id": "Wfwlu-hUhm3l"
      },
      "execution_count": null,
      "outputs": []
    },
    {
      "cell_type": "code",
      "source": [
        "start = start_project\n",
        "start = pd.to_datetime(start)\n",
        "finish = pd.to_datetime(pd.Timestamp.today().date())\n",
        "start, finish"
      ],
      "metadata": {
        "id": "bljq5tfChm6S"
      },
      "execution_count": null,
      "outputs": []
    },
    {
      "cell_type": "code",
      "source": [
        "finish_yesterday = finish - pd.Timedelta(1, \"d\")"
      ],
      "metadata": {
        "id": "73URZcM1p2-5"
      },
      "execution_count": null,
      "outputs": []
    },
    {
      "cell_type": "code",
      "source": [
        "total_plan = graf.loc[:, idx[start:finish,'план']].sum(axis=1).values\n",
        "cum_sum_yesterday = graf.loc[:, idx[start:finish_yesterday,'план']].sum(axis=1).values\n",
        "sum_today = graf.loc[:, idx[finish:finish,'план']].sum(axis=1).values\n",
        "# total_plan_value = graf.loc[:, idx[start:finish,'план']].sum(axis=1).values - graf.loc[:, idx[start:finish,'план']].sum(axis=1).values"
      ],
      "metadata": {
        "id": "74KAVZoklhb8"
      },
      "execution_count": null,
      "outputs": []
    },
    {
      "cell_type": "code",
      "source": [
        "total_plan = pd.DataFrame(total_plan,index=graf.index, columns=['cum_sum_today'])\n",
        "cum_sum_yesterday = pd.DataFrame(cum_sum_yesterday,index=graf.index, columns=['cum_sum_yesterday'])\n",
        "sum_today = pd.DataFrame(sum_today,index=graf.index, columns=[f'sum_today {pd.to_datetime(finish).date()}'])\n",
        "total_plan = total_plan.join([cum_sum_yesterday, sum_today])"
      ],
      "metadata": {
        "id": "yQTOBlLbmboO"
      },
      "execution_count": null,
      "outputs": []
    },
    {
      "cell_type": "code",
      "source": [
        "total_plan = total_plan[(total_plan[f'sum_today {pd.to_datetime(finish).date()}']>0) & (total_plan['cum_sum_yesterday'] == 0)]"
      ],
      "metadata": {
        "id": "t_QOhhKDfQ6s"
      },
      "execution_count": null,
      "outputs": []
    },
    {
      "cell_type": "code",
      "source": [
        "total_plan = total_plan[[f'sum_today {pd.to_datetime(finish).date()}']]"
      ],
      "metadata": {
        "id": "RX6K8r4Tio-i"
      },
      "execution_count": null,
      "outputs": []
    },
    {
      "cell_type": "code",
      "source": [
        "worksheet_SMR.worksheet('START').clear()\n",
        "gd.set_with_dataframe(worksheet_SMR.worksheet('START'), total_plan,row=1, col=1, include_index=True, include_column_header=True)"
      ],
      "metadata": {
        "id": "3BYnXulvkj3t"
      },
      "execution_count": null,
      "outputs": []
    },
    {
      "cell_type": "markdown",
      "source": [
        "## обновление листа ПЛАН-РАБОТ-> внесение факта"
      ],
      "metadata": {
        "id": "AlPv9mqGhSE9"
      }
    },
    {
      "cell_type": "code",
      "source": [
        "plan_PR = worksheet_SMR.worksheet('PR (копия)')\n",
        "plan_PR = plan_PR.get_all_values()\n",
        "plan_PR = np.array(plan_PR)\n",
        "plan_PR = pd.DataFrame(plan_PR)\n",
        "plan_PR = plan_PR.iloc[1:, [0,7,9]]\n",
        "plan_PR = pd.DataFrame(plan_PR)"
      ],
      "metadata": {
        "id": "IUqvmaOruP2f"
      },
      "execution_count": null,
      "outputs": []
    },
    {
      "cell_type": "code",
      "source": [
        "plan_PR"
      ],
      "metadata": {
        "id": "LKS-jXrMCfFh",
        "outputId": "317ce2c5-602f-494b-afc9-0b459f74b657",
        "colab": {
          "base_uri": "https://localhost:8080/",
          "height": 175
        }
      },
      "execution_count": null,
      "outputs": [
        {
          "output_type": "execute_result",
          "data": {
            "text/plain": [
              "                           0       7           9\n",
              "1   VZO_POS1_POD_VRD_DP17.04    88.0  2023-01-19\n",
              "2   VZO_POS1_POD_VRD_DP17.02   120.0  2023-01-20\n",
              "3   VZO_POS1_POD_VRD_DP17.01   160.0  2023-01-21\n",
              "4  OOS_KZ01_BK0_BFP_OAB30.02  577.59  2023-01-22"
            ],
            "text/html": [
              "\n",
              "  <div id=\"df-8ea33d34-d658-4a96-8319-42276da06504\">\n",
              "    <div class=\"colab-df-container\">\n",
              "      <div>\n",
              "<style scoped>\n",
              "    .dataframe tbody tr th:only-of-type {\n",
              "        vertical-align: middle;\n",
              "    }\n",
              "\n",
              "    .dataframe tbody tr th {\n",
              "        vertical-align: top;\n",
              "    }\n",
              "\n",
              "    .dataframe thead th {\n",
              "        text-align: right;\n",
              "    }\n",
              "</style>\n",
              "<table border=\"1\" class=\"dataframe\">\n",
              "  <thead>\n",
              "    <tr style=\"text-align: right;\">\n",
              "      <th></th>\n",
              "      <th>0</th>\n",
              "      <th>7</th>\n",
              "      <th>9</th>\n",
              "    </tr>\n",
              "  </thead>\n",
              "  <tbody>\n",
              "    <tr>\n",
              "      <th>1</th>\n",
              "      <td>VZO_POS1_POD_VRD_DP17.04</td>\n",
              "      <td>88.0</td>\n",
              "      <td>2023-01-19</td>\n",
              "    </tr>\n",
              "    <tr>\n",
              "      <th>2</th>\n",
              "      <td>VZO_POS1_POD_VRD_DP17.02</td>\n",
              "      <td>120.0</td>\n",
              "      <td>2023-01-20</td>\n",
              "    </tr>\n",
              "    <tr>\n",
              "      <th>3</th>\n",
              "      <td>VZO_POS1_POD_VRD_DP17.01</td>\n",
              "      <td>160.0</td>\n",
              "      <td>2023-01-21</td>\n",
              "    </tr>\n",
              "    <tr>\n",
              "      <th>4</th>\n",
              "      <td>OOS_KZ01_BK0_BFP_OAB30.02</td>\n",
              "      <td>577.59</td>\n",
              "      <td>2023-01-22</td>\n",
              "    </tr>\n",
              "  </tbody>\n",
              "</table>\n",
              "</div>\n",
              "      <button class=\"colab-df-convert\" onclick=\"convertToInteractive('df-8ea33d34-d658-4a96-8319-42276da06504')\"\n",
              "              title=\"Convert this dataframe to an interactive table.\"\n",
              "              style=\"display:none;\">\n",
              "        \n",
              "  <svg xmlns=\"http://www.w3.org/2000/svg\" height=\"24px\"viewBox=\"0 0 24 24\"\n",
              "       width=\"24px\">\n",
              "    <path d=\"M0 0h24v24H0V0z\" fill=\"none\"/>\n",
              "    <path d=\"M18.56 5.44l.94 2.06.94-2.06 2.06-.94-2.06-.94-.94-2.06-.94 2.06-2.06.94zm-11 1L8.5 8.5l.94-2.06 2.06-.94-2.06-.94L8.5 2.5l-.94 2.06-2.06.94zm10 10l.94 2.06.94-2.06 2.06-.94-2.06-.94-.94-2.06-.94 2.06-2.06.94z\"/><path d=\"M17.41 7.96l-1.37-1.37c-.4-.4-.92-.59-1.43-.59-.52 0-1.04.2-1.43.59L10.3 9.45l-7.72 7.72c-.78.78-.78 2.05 0 2.83L4 21.41c.39.39.9.59 1.41.59.51 0 1.02-.2 1.41-.59l7.78-7.78 2.81-2.81c.8-.78.8-2.07 0-2.86zM5.41 20L4 18.59l7.72-7.72 1.47 1.35L5.41 20z\"/>\n",
              "  </svg>\n",
              "      </button>\n",
              "      \n",
              "  <style>\n",
              "    .colab-df-container {\n",
              "      display:flex;\n",
              "      flex-wrap:wrap;\n",
              "      gap: 12px;\n",
              "    }\n",
              "\n",
              "    .colab-df-convert {\n",
              "      background-color: #E8F0FE;\n",
              "      border: none;\n",
              "      border-radius: 50%;\n",
              "      cursor: pointer;\n",
              "      display: none;\n",
              "      fill: #1967D2;\n",
              "      height: 32px;\n",
              "      padding: 0 0 0 0;\n",
              "      width: 32px;\n",
              "    }\n",
              "\n",
              "    .colab-df-convert:hover {\n",
              "      background-color: #E2EBFA;\n",
              "      box-shadow: 0px 1px 2px rgba(60, 64, 67, 0.3), 0px 1px 3px 1px rgba(60, 64, 67, 0.15);\n",
              "      fill: #174EA6;\n",
              "    }\n",
              "\n",
              "    [theme=dark] .colab-df-convert {\n",
              "      background-color: #3B4455;\n",
              "      fill: #D2E3FC;\n",
              "    }\n",
              "\n",
              "    [theme=dark] .colab-df-convert:hover {\n",
              "      background-color: #434B5C;\n",
              "      box-shadow: 0px 1px 3px 1px rgba(0, 0, 0, 0.15);\n",
              "      filter: drop-shadow(0px 1px 2px rgba(0, 0, 0, 0.3));\n",
              "      fill: #FFFFFF;\n",
              "    }\n",
              "  </style>\n",
              "\n",
              "      <script>\n",
              "        const buttonEl =\n",
              "          document.querySelector('#df-8ea33d34-d658-4a96-8319-42276da06504 button.colab-df-convert');\n",
              "        buttonEl.style.display =\n",
              "          google.colab.kernel.accessAllowed ? 'block' : 'none';\n",
              "\n",
              "        async function convertToInteractive(key) {\n",
              "          const element = document.querySelector('#df-8ea33d34-d658-4a96-8319-42276da06504');\n",
              "          const dataTable =\n",
              "            await google.colab.kernel.invokeFunction('convertToInteractive',\n",
              "                                                     [key], {});\n",
              "          if (!dataTable) return;\n",
              "\n",
              "          const docLinkHtml = 'Like what you see? Visit the ' +\n",
              "            '<a target=\"_blank\" href=https://colab.research.google.com/notebooks/data_table.ipynb>data table notebook</a>'\n",
              "            + ' to learn more about interactive tables.';\n",
              "          element.innerHTML = '';\n",
              "          dataTable['output_type'] = 'display_data';\n",
              "          await google.colab.output.renderOutput(dataTable, element);\n",
              "          const docLink = document.createElement('div');\n",
              "          docLink.innerHTML = docLinkHtml;\n",
              "          element.appendChild(docLink);\n",
              "        }\n",
              "      </script>\n",
              "    </div>\n",
              "  </div>\n",
              "  "
            ]
          },
          "metadata": {},
          "execution_count": 284
        }
      ]
    },
    {
      "cell_type": "code",
      "source": [
        "list_date = list(graf_black.iloc[0, :].values)\n",
        "list_name = list(graf_black.iloc[:, 0].values)"
      ],
      "metadata": {
        "id": "2IHCA98o_f2A"
      },
      "execution_count": null,
      "outputs": []
    },
    {
      "cell_type": "code",
      "source": [
        "for i in plan_PR.iloc[:, 0]:\n",
        "    index_in_plan_PR = list(plan_PR.iloc[:, 0]).index(i)\n",
        "    date_in_plan_PR = plan_PR.iloc[index_in_plan_PR, 2]\n",
        "    date_in_plan_PR = '.'.join(reversed(str(date_in_plan_PR).split('-')))\n",
        "    value_in_plan_PR = plan_PR.iloc[index_in_plan_PR, 1]\n",
        "    value_in_plan_PR = ','.join(value_in_plan_PR.split('.'))\n",
        "\n",
        "    index_row_in_graf_black = list_name.index(i) + 2\n",
        "    index_column_in_graf_black = list_date.index(date_in_plan_PR) + 1\n",
        "\n",
        "    worksheet_SMR.worksheet(\"ГРАФИК РАБОТ\").update_cell(index_row_in_graf_black, index_column_in_graf_black, value_in_plan_PR)\n",
        "\n",
        "    print(value_in_plan_PR, date_in_plan_PR, i, index_row_in_graf_black, index_column_in_graf_black)"
      ],
      "metadata": {
        "id": "WrRxSzxCAABF"
      },
      "execution_count": null,
      "outputs": []
    },
    {
      "cell_type": "markdown",
      "source": [
        "## обновление листа финансирование:\n",
        "\n",
        "1. внесение плана КС, кумулятивно за отчетный период\n",
        "2. акутулизация плана платежей\n",
        "3. внесение сумм по фактически выполненным работам"
      ],
      "metadata": {
        "id": "zvNhrWJKUnIQ"
      }
    },
    {
      "cell_type": "markdown",
      "source": [
        "## графики:\n",
        "\n",
        "1. СМР план/факт\n",
        "2. финансирование план/факт\n",
        "3. освоение план/факт\n"
      ],
      "metadata": {
        "id": "Mg_2hIExUWeE"
      }
    },
    {
      "cell_type": "code",
      "source": [
        "from pygsheets.chart import ChartType"
      ],
      "metadata": {
        "id": "0iZXga6XZXdA"
      },
      "execution_count": 4,
      "outputs": []
    },
    {
      "cell_type": "code",
      "source": [
        "gz = pygsheets.authorize(service_file='/content/credentials.json')"
      ],
      "metadata": {
        "id": "on3sOSNhZHUw"
      },
      "execution_count": 5,
      "outputs": []
    },
    {
      "cell_type": "code",
      "source": [
        " gz = gz.open('План работ Договор Адамант')"
      ],
      "metadata": {
        "id": "9fbc763AaPDe"
      },
      "execution_count": 13,
      "outputs": []
    },
    {
      "cell_type": "code",
      "source": [
        "gz.worksheet_by_title('PLAN_WEEK').add_chart(('A2', 'A44'), [('B2', 'B44')], chart_type=ChartType.LINE, title='MyChart', anchor_cell='A50')"
      ],
      "metadata": {
        "colab": {
          "base_uri": "https://localhost:8080/"
        },
        "id": "LGoZzwhoa5fO",
        "outputId": "bdfe4695-27b9-4ab5-f5f3-5c363d8d7098"
      },
      "execution_count": 15,
      "outputs": [
        {
          "output_type": "execute_result",
          "data": {
            "text/plain": [
              "<Chart LINE 'MyChart'>"
            ]
          },
          "metadata": {},
          "execution_count": 15
        }
      ]
    }
  ]
}