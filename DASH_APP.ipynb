{
  "nbformat": 4,
  "nbformat_minor": 0,
  "metadata": {
    "colab": {
      "provenance": [],
      "authorship_tag": "ABX9TyPCWFFYwR2HIAjjeYTHAFHW",
      "include_colab_link": true
    },
    "kernelspec": {
      "name": "python3",
      "display_name": "Python 3"
    },
    "language_info": {
      "name": "python"
    }
  },
  "cells": [
    {
      "cell_type": "markdown",
      "metadata": {
        "id": "view-in-github",
        "colab_type": "text"
      },
      "source": [
        "<a href=\"https://colab.research.google.com/github/AlexeyTri/PROJECT_SCOOL/blob/master/DASH_APP.ipynb\" target=\"_parent\"><img src=\"https://colab.research.google.com/assets/colab-badge.svg\" alt=\"Open In Colab\"/></a>"
      ]
    },
    {
      "cell_type": "markdown",
      "source": [
        "## INSTALATION"
      ],
      "metadata": {
        "id": "NSQGIO7u9_6Y"
      }
    },
    {
      "cell_type": "code",
      "source": [
        "! pip install jupyter_dash\n",
        "! pip install --upgrade plotly"
      ],
      "metadata": {
        "id": "GDxTcV0_rzU6"
      },
      "execution_count": null,
      "outputs": []
    },
    {
      "cell_type": "code",
      "source": [
        "from jupyter_dash import JupyterDash"
      ],
      "metadata": {
        "id": "XHTl32la4t-z"
      },
      "execution_count": 3,
      "outputs": []
    },
    {
      "cell_type": "code",
      "source": [
        "import dash\n",
        "from dash import Dash, dcc, html, Input, Output\n",
        "# from dash import html\n",
        "import pandas as pd\n",
        "import plotly.graph_objects as go\n",
        "import numpy as np\n",
        "import plotly.express as px"
      ],
      "metadata": {
        "id": "kxDpiY3osPUw"
      },
      "execution_count": 13,
      "outputs": []
    },
    {
      "cell_type": "code",
      "source": [
        "JupyterDash.infer_jupyter_proxy_config()"
      ],
      "metadata": {
        "id": "_oQxERaEsPXd"
      },
      "execution_count": 5,
      "outputs": []
    },
    {
      "cell_type": "markdown",
      "source": [
        "## LAYOUT - структура документа!\n",
        "\n",
        "кусок кода с app выполняется в едином окне"
      ],
      "metadata": {
        "id": "ypKWeYM9-IxK"
      }
    },
    {
      "cell_type": "code",
      "source": [
        "df = pd.read_csv('https://plotly.github.io/datasets/country_indicators.csv')\n",
        "available_indicators = df['Indicator Name'].unique()"
      ],
      "metadata": {
        "id": "RMz9UVTOsPae"
      },
      "execution_count": 9,
      "outputs": []
    },
    {
      "cell_type": "code",
      "source": [
        "external_stylesheets = ['https://codepen.io/chriddyp/pen/bWLwgP.css']\n",
        "app = JupyterDash(__name__, external_stylesheets=external_stylesheets)\n",
        "# Create server variable with Flask server object for use with gunicorn\n",
        "server = app.server\n",
        "\n",
        "# first type\n",
        "# t = np.linspace(0, 10, 50)\n",
        "# x, y, z = np.cos(t), np.sin(t), t\n",
        "\n",
        "# fig = go.Figure(data=[go.Scatter3d(x=x, y=y, z=z,\n",
        "#                                    mode='markers')])\n",
        "\n",
        "# app.layout = html.Div(children=[\n",
        "#     html.H1(children='Hello Dash'),\n",
        "\n",
        "#     html.Div(children='''\n",
        "#         Dash: A web application framework for your data.\n",
        "#     '''),\n",
        "\n",
        "#     dcc.Graph(\n",
        "#         id='example-graph',\n",
        "#         figure=fig\n",
        "#     )\n",
        "# ])\n",
        "\n",
        "#second type\n",
        "\n",
        "# app.layout = html.Div([\n",
        "#     html.H4('Iris samples filtered by petal width'),\n",
        "#     dcc.Graph(id=\"graph\"),\n",
        "#     html.P(\"Petal Width:\"),\n",
        "#     dcc.RangeSlider(\n",
        "#         id='range-slider',\n",
        "#         min=0, max=2.5, step=0.1,\n",
        "#         marks={0: '0', 2.5: '2.5'},\n",
        "#         value=[0.5, 2]\n",
        "#     ),\n",
        "# ])\n",
        "\n",
        "# @app.callback(\n",
        "#     Output(\"graph\", \"figure\"), \n",
        "#     Input(\"range-slider\", \"value\"))\n",
        "# def update_bar_chart(slider_range):\n",
        "#     df = px.data.iris() # replace with your own data source\n",
        "#     low, high = slider_range\n",
        "#     mask = (df.petal_width > low) & (df.petal_width < high)\n",
        "\n",
        "#     fig = px.scatter_3d(df[mask], \n",
        "#         x='sepal_length', y='sepal_width', z='petal_width',\n",
        "#         color=\"species\", hover_data=['petal_width'])\n",
        "#     return fig"
      ],
      "metadata": {
        "id": "Gf-iIC4rsPda"
      },
      "execution_count": 32,
      "outputs": []
    },
    {
      "cell_type": "markdown",
      "source": [
        "## CALLBACK - как элементы отрабатывают\n",
        "\n",
        "\n",
        "\n",
        "triggered_id: The id of the component that triggered the callback.\n",
        "\n",
        "triggered_prop_ids: A dictionary of the component ids and props that triggered the callback. Useful when multiple inputs can trigger the callback at the same time, or multiple properties of the same component can trigger the callback.\n",
        "\n",
        "args_grouping: A dictionary of the inputs used with flexible callback signatures. The keys are the variable names and the values are dictionaries containing:\n",
        "\n",
        "**\"id\"**: the component ID. If it’s a pattern matching ID, it will be a dict.\n",
        "\n",
        "**\"id_str\"**: for pattern matching IDs, it’s the stringified dict ID with no white spaces.\n",
        "\n",
        "**\"property\"**: the component property used in the callback.\n",
        "\n",
        "**\"value\"**: the value of the component property at the time the callback was fired.\n",
        "\n",
        "**\"triggered\"**: a boolean indicating whether this input triggered the callback."
      ],
      "metadata": {
        "id": "dbtxE7m_AdKH"
      }
    },
    {
      "cell_type": "code",
      "source": [
        "# app.layout = html.Div([\n",
        "#     html.H6(\"Change the value in the text box to see callbacks in action!\"),\n",
        "#     html.Div([\n",
        "#         \"Input: \",\n",
        "#         dcc.Input(id='my-input', value='initial value', type='text')\n",
        "#     ]),\n",
        "#     html.Br(),\n",
        "#     html.Div(id='my-output'),\n",
        "\n",
        "# ])\n",
        "\n",
        "\n",
        "# @app.callback(\n",
        "#     Output(component_id='my-output', component_property='children'),\n",
        "#     Input(component_id='my-input', component_property='value')\n",
        "# )\n",
        "# def update_output_div(input_value):\n",
        "#     return f'Output: {input_value}'\n",
        "# def print_input(input_value):\n",
        "#     return print(f'{input_value}')\n"
      ],
      "metadata": {
        "id": "FxlneZYVAkJG"
      },
      "execution_count": null,
      "outputs": []
    },
    {
      "cell_type": "code",
      "source": [
        "df = pd.read_csv('https://raw.githubusercontent.com/plotly/datasets/master/gapminderDataFiveYear.csv')"
      ],
      "metadata": {
        "id": "sjBZcShGDQsX"
      },
      "execution_count": 33,
      "outputs": []
    },
    {
      "cell_type": "code",
      "source": [
        "app = JupyterDash(__name__)\n",
        "# Create server variable with Flask server object for use with gunicorn\n",
        "server = app.server\n",
        "app.layout = html.Div([\n",
        "    dcc.Graph(id='graph-with-slider'),\n",
        "    dcc.Slider(\n",
        "        df['year'].min(),\n",
        "        df['year'].max(),\n",
        "        step=None,\n",
        "        value=df['year'].min(),\n",
        "        marks={str(year): str(year) for year in df['year'].unique()},\n",
        "        id='year-slider'\n",
        "    )\n",
        "])\n",
        "\n",
        "\n",
        "@app.callback(\n",
        "    Output('graph-with-slider', 'figure'),\n",
        "    Input('year-slider', 'value'))\n",
        "def update_figure(selected_year):\n",
        "    filtered_df = df[df.year == selected_year]\n",
        "\n",
        "    fig = px.scatter(filtered_df, x=\"gdpPercap\", y=\"lifeExp\",\n",
        "                     size=\"pop\", color=\"continent\", hover_name=\"country\",\n",
        "                     log_x=True, size_max=55)\n",
        "\n",
        "    fig.update_layout(transition_duration=500)\n",
        "\n",
        "    return fig"
      ],
      "metadata": {
        "id": "5tpEmzXIDUJk"
      },
      "execution_count": 38,
      "outputs": []
    },
    {
      "cell_type": "code",
      "source": [
        "df = pd.read_csv('https://plotly.github.io/datasets/country_indicators.csv')"
      ],
      "metadata": {
        "id": "m-6lQOCJGCSU"
      },
      "execution_count": 40,
      "outputs": []
    },
    {
      "cell_type": "code",
      "source": [
        "app = JupyterDash(__name__)\n",
        "# Create server variable with Flask server object for use with gunicorn\n",
        "server = app.server\n",
        "app.layout = html.Div([\n",
        "    html.Div([\n",
        "\n",
        "        html.Div([\n",
        "            dcc.Dropdown(\n",
        "                df['Indicator Name'].unique(),\n",
        "                'Fertility rate, total (births per woman)',\n",
        "                id='xaxis-column'\n",
        "            ),\n",
        "            dcc.RadioItems(\n",
        "                ['Linear', 'Log'],\n",
        "                'Linear',\n",
        "                id='xaxis-type',\n",
        "                inline=True\n",
        "            )\n",
        "        ], style={'width': '48%', 'display': 'inline-block'}),\n",
        "\n",
        "        html.Div([\n",
        "            dcc.Dropdown(\n",
        "                df['Indicator Name'].unique(),\n",
        "                'Life expectancy at birth, total (years)',\n",
        "                id='yaxis-column'\n",
        "            ),\n",
        "            dcc.RadioItems(\n",
        "                ['Linear', 'Log'],\n",
        "                'Linear',\n",
        "                id='yaxis-type',\n",
        "                inline=True\n",
        "            )\n",
        "        ], style={'width': '48%', 'float': 'right', 'display': 'inline-block'})\n",
        "    ]),\n",
        "\n",
        "    dcc.Graph(id='indicator-graphic'),\n",
        "\n",
        "    dcc.Slider(\n",
        "        df['Year'].min(),\n",
        "        df['Year'].max(),\n",
        "        step=None,\n",
        "        id='year--slider',\n",
        "        value=df['Year'].max(),\n",
        "        marks={str(year): str(year) for year in df['Year'].unique()},\n",
        "\n",
        "    )\n",
        "])\n",
        "\n",
        "\n",
        "@app.callback(\n",
        "    Output('indicator-graphic', 'figure'),\n",
        "    Input('xaxis-column', 'value'),\n",
        "    Input('yaxis-column', 'value'),\n",
        "    Input('xaxis-type', 'value'),\n",
        "    Input('yaxis-type', 'value'),\n",
        "    Input('year--slider', 'value'))\n",
        "def update_graph(xaxis_column_name, yaxis_column_name,\n",
        "                 xaxis_type, yaxis_type,\n",
        "                 year_value):\n",
        "    dff = df[df['Year'] == year_value]\n",
        "\n",
        "    fig = px.scatter(x=dff[dff['Indicator Name'] == xaxis_column_name]['Value'],\n",
        "                     y=dff[dff['Indicator Name'] == yaxis_column_name]['Value'],\n",
        "                     hover_name=dff[dff['Indicator Name'] == yaxis_column_name]['Country Name'])\n",
        "\n",
        "    fig.update_layout(margin={'l': 40, 'b': 40, 't': 10, 'r': 0}, hovermode='closest')\n",
        "\n",
        "    fig.update_xaxes(title=xaxis_column_name,\n",
        "                     type='linear' if xaxis_type == 'Linear' else 'log')\n",
        "\n",
        "    fig.update_yaxes(title=yaxis_column_name,\n",
        "                     type='linear' if yaxis_type == 'Linear' else 'log')\n",
        "\n",
        "    return fig"
      ],
      "metadata": {
        "id": "MxsGevZWF858"
      },
      "execution_count": 41,
      "outputs": []
    },
    {
      "cell_type": "code",
      "source": [
        "external_stylesheets = ['https://codepen.io/chriddyp/pen/bWLwgP.css']\n",
        "app = JupyterDash(__name__, external_stylesheets=external_stylesheets)\n",
        "# Create server variable with Flask server object for use with gunicorn\n",
        "server = app.server\n",
        "app.layout = html.Div([\n",
        "    dcc.Input(\n",
        "        id='num-multi',\n",
        "        type='number',\n",
        "        value=5\n",
        "    ),\n",
        "    html.Table([\n",
        "        html.Tr([html.Td(['x', html.Sup(2)]), html.Td(id='square')]),\n",
        "        html.Tr([html.Td(['x', html.Sup(3)]), html.Td(id='cube')]),\n",
        "        html.Tr([html.Td([2, html.Sup('x')]), html.Td(id='twos')]),\n",
        "        html.Tr([html.Td([3, html.Sup('x')]), html.Td(id='threes')]),\n",
        "        html.Tr([html.Td(['x', html.Sup('x')]), html.Td(id='x^x')]),\n",
        "    ]),\n",
        "])\n",
        "\n",
        "\n",
        "@app.callback(\n",
        "    Output('square', 'children'),\n",
        "    Output('cube', 'children'),\n",
        "    Output('twos', 'children'),\n",
        "    Output('threes', 'children'),\n",
        "    Output('x^x', 'children'),\n",
        "    Input('num-multi', 'value'))\n",
        "def callback_a(x):\n",
        "    return x**2, x**3, 2**x, 3**x, x**x"
      ],
      "metadata": {
        "id": "fWul-93LGens"
      },
      "execution_count": 43,
      "outputs": []
    },
    {
      "cell_type": "code",
      "source": [
        "external_stylesheets = ['https://codepen.io/chriddyp/pen/bWLwgP.css']\n",
        "app = JupyterDash(__name__, external_stylesheets=external_stylesheets)\n",
        "# Create server variable with Flask server object for use with gunicorn\n",
        "server = app.server\n",
        "\n",
        "all_options = {\n",
        "    'America': ['New York City', 'San Francisco', 'Cincinnati'],\n",
        "    'Canada': [u'Montréal', 'Toronto', 'Ottawa']\n",
        "}\n",
        "app.layout = html.Div([\n",
        "    dcc.RadioItems(\n",
        "        list(all_options.keys()),\n",
        "        'America',\n",
        "        id='countries-radio',\n",
        "    ),\n",
        "\n",
        "    html.Hr(),\n",
        "\n",
        "    dcc.RadioItems(id='cities-radio'),\n",
        "\n",
        "    html.Hr(),\n",
        "\n",
        "    html.Div(id='display-selected-values')\n",
        "])\n",
        "\n",
        "\n",
        "@app.callback(\n",
        "    Output('cities-radio', 'options'),\n",
        "    Input('countries-radio', 'value'))\n",
        "def set_cities_options(selected_country):\n",
        "    return [{'label': i, 'value': i} for i in all_options[selected_country]]\n",
        "\n",
        "\n",
        "@app.callback(\n",
        "    Output('cities-radio', 'value'),\n",
        "    Input('cities-radio', 'options'))\n",
        "def set_cities_value(available_options):\n",
        "    return available_options[0]['value']\n",
        "\n",
        "\n",
        "@app.callback(\n",
        "    Output('display-selected-values', 'children'),\n",
        "    Input('countries-radio', 'value'),\n",
        "    Input('cities-radio', 'value'))\n",
        "def set_display_children(selected_country, selected_city):\n",
        "    return u'{} is a city in {}'.format(\n",
        "        selected_city, selected_country,\n",
        "    )"
      ],
      "metadata": {
        "id": "PaqmMF0XG2eN"
      },
      "execution_count": 45,
      "outputs": []
    },
    {
      "cell_type": "code",
      "source": [
        "external_stylesheets = ['https://codepen.io/chriddyp/pen/bWLwgP.css']\n",
        "app = JupyterDash(__name__, external_stylesheets=external_stylesheets)\n",
        "# Create server variable with Flask server object for use with gunicorn\n",
        "# server = app.server\n",
        "\n",
        "app.layout = html.Div([\n",
        "    dcc.Input(id=\"input-1\", type=\"text\", value=\"Montréal\"),\n",
        "    dcc.Input(id=\"input-2\", type=\"text\", value=\"Canada\"),\n",
        "    html.Div(id=\"number-output\"),\n",
        "])\n",
        "\n",
        "\n",
        "@app.callback(\n",
        "    Output(\"number-output\", \"children\"),\n",
        "    Input(\"input-1\", \"value\"),\n",
        "    Input(\"input-2\", \"value\"),\n",
        ")\n",
        "def update_output(input1, input2):\n",
        "    return u'Input 1 is \"{}\" and Input 2 is \"{}\"'.format(input1, input2)\n"
      ],
      "metadata": {
        "id": "RDhd6KMBIzEc"
      },
      "execution_count": 47,
      "outputs": []
    },
    {
      "cell_type": "code",
      "source": [
        "from dash.dependencies import Input, Output, State\n",
        "external_stylesheets = ['https://codepen.io/chriddyp/pen/bWLwgP.css']\n",
        "app = JupyterDash(__name__, external_stylesheets=external_stylesheets)\n",
        "# Create server variable with Flask server object for use with gunicorn\n",
        "# server = app.server\n",
        "\n",
        "app.layout = html.Div([\n",
        "    dcc.Input(id='input-1-state', type='text', value='Montréal'),\n",
        "    dcc.Input(id='input-2-state', type='text', value='Canada'),\n",
        "    html.Button(id='submit-button-state', n_clicks=0, children='Submit'),\n",
        "    html.Div(id='output-state')\n",
        "])\n",
        "\n",
        "\n",
        "@app.callback(Output('output-state', 'children'),\n",
        "              Input('submit-button-state', 'n_clicks'),\n",
        "              State('input-1-state', 'value'),\n",
        "              State('input-2-state', 'value'))\n",
        "def update_output(n_clicks, input1, input2):\n",
        "    return u'''\n",
        "        The Button has been pressed {} times,\n",
        "        Input 1 is \"{}\",\n",
        "        and Input 2 is \"{}\"\n",
        "    '''.format(n_clicks, input1, input2)"
      ],
      "metadata": {
        "id": "DXEmuaBiJPSM"
      },
      "execution_count": 50,
      "outputs": []
    },
    {
      "cell_type": "code",
      "source": [
        "from dash import Dash, dcc, html, Input, Output, callback\n",
        "external_stylesheets = ['https://codepen.io/chriddyp/pen/bWLwgP.css']\n",
        "app = JupyterDash(__name__, external_stylesheets=external_stylesheets)\n",
        "# Create server variable with Flask server object for use with gunicorn\n",
        "# server = app.server\n",
        "app.layout = html.Div([\n",
        "    html.H6(\"Change the value in the text box to see callbacks in action!\"),\n",
        "    html.Div([\n",
        "        \"Input: \",\n",
        "        my_input := dcc.Input(value='initial value', type='text')\n",
        "    ]),\n",
        "    html.Br(),\n",
        "    my_output := html.Div(),\n",
        "])\n",
        "\n",
        "@callback(\n",
        "    Output(my_output, component_property='children'),\n",
        "    Input(my_input, component_property='value')\n",
        ")\n",
        "def update_output_div(input_value):\n",
        "    return f'Output: {input_value}'"
      ],
      "metadata": {
        "id": "zg8eqvKmJ481"
      },
      "execution_count": 52,
      "outputs": []
    },
    {
      "cell_type": "markdown",
      "source": [
        "## INTERACTIVE GRAPH"
      ],
      "metadata": {
        "id": "qzwspZALKOZ8"
      }
    },
    {
      "cell_type": "code",
      "source": [
        "import json\n",
        "\n",
        "from dash import Dash, dcc, html\n",
        "from dash.dependencies import Input, Output\n",
        "import plotly.express as px\n",
        "import pandas as pd\n",
        "\n",
        "external_stylesheets = ['https://codepen.io/chriddyp/pen/bWLwgP.css']\n",
        "app = JupyterDash(__name__, external_stylesheets=external_stylesheets)\n",
        "\n",
        "styles = {\n",
        "    'pre': {\n",
        "        'border': 'thin lightgrey solid',\n",
        "        'overflowX': 'scroll'\n",
        "    }\n",
        "}\n",
        "\n",
        "df = pd.DataFrame({\n",
        "    \"x\": [1,2,1,2],\n",
        "    \"y\": [1,2,3,4],\n",
        "    \"customdata\": [1,2,3,4],\n",
        "    \"fruit\": [\"apple\", \"apple\", \"orange\", \"orange\"]\n",
        "})\n",
        "\n",
        "fig = px.scatter(df, x=\"x\", y=\"y\", color=\"fruit\", custom_data=[\"customdata\"])\n",
        "\n",
        "fig.update_layout(clickmode='event+select')\n",
        "\n",
        "fig.update_traces(marker_size=20)\n",
        "\n",
        "app.layout = html.Div([\n",
        "    dcc.Graph(\n",
        "        id='basic-interactions',\n",
        "        figure=fig\n",
        "    ),\n",
        "\n",
        "    html.Div(className='row', children=[\n",
        "        html.Div([\n",
        "            dcc.Markdown(\"\"\"\n",
        "                **Hover Data**\n",
        "\n",
        "                Mouse over values in the graph.\n",
        "            \"\"\"),\n",
        "            html.Pre(id='hover-data', style=styles['pre'])\n",
        "        ], className='three columns'),\n",
        "\n",
        "        html.Div([\n",
        "            dcc.Markdown(\"\"\"\n",
        "                **Click Data**\n",
        "\n",
        "                Click on points in the graph.\n",
        "            \"\"\"),\n",
        "            html.Pre(id='click-data', style=styles['pre']),\n",
        "        ], className='three columns'),\n",
        "\n",
        "        html.Div([\n",
        "            dcc.Markdown(\"\"\"\n",
        "                **Selection Data**\n",
        "\n",
        "                Choose the lasso or rectangle tool in the graph's menu\n",
        "                bar and then select points in the graph.\n",
        "\n",
        "                Note that if `layout.clickmode = 'event+select'`, selection data also\n",
        "                accumulates (or un-accumulates) selected data if you hold down the shift\n",
        "                button while clicking.\n",
        "            \"\"\"),\n",
        "            html.Pre(id='selected-data', style=styles['pre']),\n",
        "        ], className='three columns'),\n",
        "\n",
        "        html.Div([\n",
        "            dcc.Markdown(\"\"\"\n",
        "                **Zoom and Relayout Data**\n",
        "\n",
        "                Click and drag on the graph to zoom or click on the zoom\n",
        "                buttons in the graph's menu bar.\n",
        "                Clicking on legend items will also fire\n",
        "                this event.\n",
        "            \"\"\"),\n",
        "            html.Pre(id='relayout-data', style=styles['pre']),\n",
        "        ], className='three columns')\n",
        "    ])\n",
        "])\n",
        "\n",
        "\n",
        "@app.callback(\n",
        "    Output('hover-data', 'children'),\n",
        "    Input('basic-interactions', 'hoverData'))\n",
        "def display_hover_data(hoverData):\n",
        "    return json.dumps(hoverData, indent=2)\n",
        "\n",
        "\n",
        "@app.callback(\n",
        "    Output('click-data', 'children'),\n",
        "    Input('basic-interactions', 'clickData'))\n",
        "def display_click_data(clickData):\n",
        "    return json.dumps(clickData, indent=2)\n",
        "\n",
        "\n",
        "@app.callback(\n",
        "    Output('selected-data', 'children'),\n",
        "    Input('basic-interactions', 'selectedData'))\n",
        "def display_selected_data(selectedData):\n",
        "    return json.dumps(selectedData, indent=2)\n",
        "\n",
        "\n",
        "@app.callback(\n",
        "    Output('relayout-data', 'children'),\n",
        "    Input('basic-interactions', 'relayoutData'))\n",
        "def display_relayout_data(relayoutData):\n",
        "    return json.dumps(relayoutData, indent=2)\n",
        "\n",
        "\n",
        "app.run_server()"
      ],
      "metadata": {
        "colab": {
          "base_uri": "https://localhost:8080/",
          "height": 52
        },
        "id": "isOUOpQ_KTL_",
        "outputId": "3fcd7320-6c6d-4abc-f0b4-83e58a8767fb"
      },
      "execution_count": 54,
      "outputs": [
        {
          "output_type": "stream",
          "name": "stdout",
          "text": [
            "Dash app running on:\n"
          ]
        },
        {
          "output_type": "display_data",
          "data": {
            "text/plain": [
              "<IPython.core.display.Javascript object>"
            ],
            "application/javascript": [
              "(async (port, path, text, element) => {\n",
              "    if (!google.colab.kernel.accessAllowed) {\n",
              "      return;\n",
              "    }\n",
              "    element.appendChild(document.createTextNode(''));\n",
              "    const url = await google.colab.kernel.proxyPort(port);\n",
              "    const anchor = document.createElement('a');\n",
              "    anchor.href = new URL(path, url).toString();\n",
              "    anchor.target = '_blank';\n",
              "    anchor.setAttribute('data-href', url + path);\n",
              "    anchor.textContent = text;\n",
              "    element.appendChild(anchor);\n",
              "  })(8050, \"/\", \"http://127.0.0.1:8050/\", window.element)"
            ]
          },
          "metadata": {}
        }
      ]
    },
    {
      "cell_type": "code",
      "source": [
        "from dash import Dash, html, dcc, Input, Output\n",
        "import pandas as pd\n",
        "import plotly.express as px\n",
        "\n",
        "external_stylesheets = ['https://codepen.io/chriddyp/pen/bWLwgP.css']\n",
        "app = JupyterDash(__name__, external_stylesheets=external_stylesheets)\n",
        "\n",
        "df = pd.read_csv('https://plotly.github.io/datasets/country_indicators.csv')\n",
        "\n",
        "\n",
        "app.layout = html.Div([\n",
        "    html.Div([\n",
        "\n",
        "        html.Div([\n",
        "            dcc.Dropdown(\n",
        "                df['Indicator Name'].unique(),\n",
        "                'Fertility rate, total (births per woman)',\n",
        "                id='crossfilter-xaxis-column',\n",
        "            ),\n",
        "            dcc.RadioItems(\n",
        "                ['Linear', 'Log'],\n",
        "                'Linear',\n",
        "                id='crossfilter-xaxis-type',\n",
        "                labelStyle={'display': 'inline-block', 'marginTop': '5px'}\n",
        "            )\n",
        "        ],\n",
        "        style={'width': '49%', 'display': 'inline-block'}),\n",
        "\n",
        "        html.Div([\n",
        "            dcc.Dropdown(\n",
        "                df['Indicator Name'].unique(),\n",
        "                'Life expectancy at birth, total (years)',\n",
        "                id='crossfilter-yaxis-column'\n",
        "            ),\n",
        "            dcc.RadioItems(\n",
        "                ['Linear', 'Log'],\n",
        "                'Linear',\n",
        "                id='crossfilter-yaxis-type',\n",
        "                labelStyle={'display': 'inline-block', 'marginTop': '5px'}\n",
        "            )\n",
        "        ], style={'width': '49%', 'float': 'right', 'display': 'inline-block'})\n",
        "    ], style={\n",
        "        'padding': '10px 5px'\n",
        "    }),\n",
        "\n",
        "    html.Div([\n",
        "        dcc.Graph(\n",
        "            id='crossfilter-indicator-scatter',\n",
        "            hoverData={'points': [{'customdata': 'Japan'}]}\n",
        "        )\n",
        "    ], style={'width': '49%', 'display': 'inline-block', 'padding': '0 20'}),\n",
        "    html.Div([\n",
        "        dcc.Graph(id='x-time-series'),\n",
        "        dcc.Graph(id='y-time-series'),\n",
        "    ], style={'display': 'inline-block', 'width': '49%'}),\n",
        "\n",
        "    html.Div(dcc.Slider(\n",
        "        df['Year'].min(),\n",
        "        df['Year'].max(),\n",
        "        step=None,\n",
        "        id='crossfilter-year--slider',\n",
        "        value=df['Year'].max(),\n",
        "        marks={str(year): str(year) for year in df['Year'].unique()}\n",
        "    ), style={'width': '49%', 'padding': '0px 20px 20px 20px'})\n",
        "])\n",
        "\n",
        "\n",
        "@app.callback(\n",
        "    Output('crossfilter-indicator-scatter', 'figure'),\n",
        "    Input('crossfilter-xaxis-column', 'value'),\n",
        "    Input('crossfilter-yaxis-column', 'value'),\n",
        "    Input('crossfilter-xaxis-type', 'value'),\n",
        "    Input('crossfilter-yaxis-type', 'value'),\n",
        "    Input('crossfilter-year--slider', 'value'))\n",
        "def update_graph(xaxis_column_name, yaxis_column_name,\n",
        "                 xaxis_type, yaxis_type,\n",
        "                 year_value):\n",
        "    dff = df[df['Year'] == year_value]\n",
        "\n",
        "    fig = px.scatter(x=dff[dff['Indicator Name'] == xaxis_column_name]['Value'],\n",
        "            y=dff[dff['Indicator Name'] == yaxis_column_name]['Value'],\n",
        "            hover_name=dff[dff['Indicator Name'] == yaxis_column_name]['Country Name']\n",
        "            )\n",
        "\n",
        "    fig.update_traces(customdata=dff[dff['Indicator Name'] == yaxis_column_name]['Country Name'])\n",
        "\n",
        "    fig.update_xaxes(title=xaxis_column_name, type='linear' if xaxis_type == 'Linear' else 'log')\n",
        "\n",
        "    fig.update_yaxes(title=yaxis_column_name, type='linear' if yaxis_type == 'Linear' else 'log')\n",
        "\n",
        "    fig.update_layout(margin={'l': 40, 'b': 40, 't': 10, 'r': 0}, hovermode='closest')\n",
        "\n",
        "    return fig\n",
        "\n",
        "\n",
        "def create_time_series(dff, axis_type, title):\n",
        "\n",
        "    fig = px.scatter(dff, x='Year', y='Value')\n",
        "\n",
        "    fig.update_traces(mode='lines+markers')\n",
        "\n",
        "    fig.update_xaxes(showgrid=False)\n",
        "\n",
        "    fig.update_yaxes(type='linear' if axis_type == 'Linear' else 'log')\n",
        "\n",
        "    fig.add_annotation(x=0, y=0.85, xanchor='left', yanchor='bottom',\n",
        "                       xref='paper', yref='paper', showarrow=False, align='left',\n",
        "                       text=title)\n",
        "\n",
        "    fig.update_layout(height=225, margin={'l': 20, 'b': 30, 'r': 10, 't': 10})\n",
        "\n",
        "    return fig\n",
        "\n",
        "\n",
        "@app.callback(\n",
        "    Output('x-time-series', 'figure'),\n",
        "    Input('crossfilter-indicator-scatter', 'hoverData'),\n",
        "    Input('crossfilter-xaxis-column', 'value'),\n",
        "    Input('crossfilter-xaxis-type', 'value'))\n",
        "def update_y_timeseries(hoverData, xaxis_column_name, axis_type):\n",
        "    country_name = hoverData['points'][0]['customdata']\n",
        "    dff = df[df['Country Name'] == country_name]\n",
        "    dff = dff[dff['Indicator Name'] == xaxis_column_name]\n",
        "    title = '<b>{}</b><br>{}'.format(country_name, xaxis_column_name)\n",
        "    return create_time_series(dff, axis_type, title)\n",
        "\n",
        "\n",
        "@app.callback(\n",
        "    Output('y-time-series', 'figure'),\n",
        "    Input('crossfilter-indicator-scatter', 'hoverData'),\n",
        "    Input('crossfilter-yaxis-column', 'value'),\n",
        "    Input('crossfilter-yaxis-type', 'value'))\n",
        "def update_x_timeseries(hoverData, yaxis_column_name, axis_type):\n",
        "    dff = df[df['Country Name'] == hoverData['points'][0]['customdata']]\n",
        "    dff = dff[dff['Indicator Name'] == yaxis_column_name]\n",
        "    return create_time_series(dff, axis_type, yaxis_column_name)\n",
        "\n",
        "app.run_server()"
      ],
      "metadata": {
        "colab": {
          "base_uri": "https://localhost:8080/",
          "height": 52
        },
        "id": "Egbz2oc1Ks-t",
        "outputId": "0db228e4-c62a-485a-ea6a-3dee99f8a5c0"
      },
      "execution_count": 55,
      "outputs": [
        {
          "output_type": "stream",
          "name": "stdout",
          "text": [
            "Dash app running on:\n"
          ]
        },
        {
          "output_type": "display_data",
          "data": {
            "text/plain": [
              "<IPython.core.display.Javascript object>"
            ],
            "application/javascript": [
              "(async (port, path, text, element) => {\n",
              "    if (!google.colab.kernel.accessAllowed) {\n",
              "      return;\n",
              "    }\n",
              "    element.appendChild(document.createTextNode(''));\n",
              "    const url = await google.colab.kernel.proxyPort(port);\n",
              "    const anchor = document.createElement('a');\n",
              "    anchor.href = new URL(path, url).toString();\n",
              "    anchor.target = '_blank';\n",
              "    anchor.setAttribute('data-href', url + path);\n",
              "    anchor.textContent = text;\n",
              "    element.appendChild(anchor);\n",
              "  })(8050, \"/\", \"http://127.0.0.1:8050/\", window.element)"
            ]
          },
          "metadata": {}
        }
      ]
    },
    {
      "cell_type": "markdown",
      "source": [
        "# calback"
      ],
      "metadata": {
        "id": "W3TiUvvuNhmT"
      }
    },
    {
      "cell_type": "code",
      "source": [
        "import json\n",
        "from dash import Dash, html, Input, Output, ctx\n",
        "\n",
        "app = JupyterDash(__name__, external_stylesheets=external_stylesheets)\n",
        "\n",
        "app.layout = html.Div([\n",
        "    html.Button('Button 1', id='btn-1'),\n",
        "    html.Button('Button 2', id='btn-2'),\n",
        "    html.Button('Button 3', id='btn-3'),\n",
        "    html.Div(id='container')\n",
        "])\n",
        "\n",
        "\n",
        "@app.callback(Output('container', 'children'),\n",
        "              Input('btn-1', 'n_clicks'),\n",
        "              Input('btn-2', 'n_clicks'),\n",
        "              Input('btn-3', 'n_clicks'))\n",
        "def display(btn1, btn2, btn3):\n",
        "    button_id = ctx.triggered_id if not None else 'No clicks yet'\n",
        "\n",
        "    ctx_msg = json.dumps({\n",
        "        'states': ctx.states,\n",
        "        'triggered': ctx.triggered,\n",
        "        'inputs': ctx.inputs\n",
        "    }, indent=2)\n",
        "\n",
        "    return html.Div([\n",
        "        html.Table([\n",
        "            html.Tr([html.Th('Button 1'),\n",
        "                     html.Th('Button 2'),\n",
        "                     html.Th('Button 3'),\n",
        "                     html.Th('Most Recent Click')]),\n",
        "            html.Tr([html.Td(btn1 or 0),\n",
        "                     html.Td(btn2 or 0),\n",
        "                     html.Td(btn3 or 0),\n",
        "                     html.Td(button_id)])\n",
        "        ]),\n",
        "        html.Pre(ctx_msg)\n",
        "    ])\n",
        "\n",
        "app.run_server()"
      ],
      "metadata": {
        "colab": {
          "base_uri": "https://localhost:8080/",
          "height": 52
        },
        "id": "7FrpiBNsNkW5",
        "outputId": "92fc3742-c306-4637-d82a-4c9e117cc45c"
      },
      "execution_count": 56,
      "outputs": [
        {
          "output_type": "stream",
          "name": "stdout",
          "text": [
            "Dash app running on:\n"
          ]
        },
        {
          "output_type": "display_data",
          "data": {
            "text/plain": [
              "<IPython.core.display.Javascript object>"
            ],
            "application/javascript": [
              "(async (port, path, text, element) => {\n",
              "    if (!google.colab.kernel.accessAllowed) {\n",
              "      return;\n",
              "    }\n",
              "    element.appendChild(document.createTextNode(''));\n",
              "    const url = await google.colab.kernel.proxyPort(port);\n",
              "    const anchor = document.createElement('a');\n",
              "    anchor.href = new URL(path, url).toString();\n",
              "    anchor.target = '_blank';\n",
              "    anchor.setAttribute('data-href', url + path);\n",
              "    anchor.textContent = text;\n",
              "    element.appendChild(anchor);\n",
              "  })(8050, \"/\", \"http://127.0.0.1:8050/\", window.element)"
            ]
          },
          "metadata": {}
        }
      ]
    },
    {
      "cell_type": "markdown",
      "source": [
        "## запуск приложения"
      ],
      "metadata": {
        "id": "kkjmVnUs-peB"
      }
    },
    {
      "cell_type": "code",
      "source": [
        "app.run_server()"
      ],
      "metadata": {
        "colab": {
          "base_uri": "https://localhost:8080/",
          "height": 52
        },
        "id": "Hs1XwV1tsPgP",
        "outputId": "e7ea481d-e1ef-4c30-a67f-e4ba2f690ff9"
      },
      "execution_count": 53,
      "outputs": [
        {
          "output_type": "stream",
          "name": "stdout",
          "text": [
            "Dash app running on:\n"
          ]
        },
        {
          "output_type": "display_data",
          "data": {
            "text/plain": [
              "<IPython.core.display.Javascript object>"
            ],
            "application/javascript": [
              "(async (port, path, text, element) => {\n",
              "    if (!google.colab.kernel.accessAllowed) {\n",
              "      return;\n",
              "    }\n",
              "    element.appendChild(document.createTextNode(''));\n",
              "    const url = await google.colab.kernel.proxyPort(port);\n",
              "    const anchor = document.createElement('a');\n",
              "    anchor.href = new URL(path, url).toString();\n",
              "    anchor.target = '_blank';\n",
              "    anchor.setAttribute('data-href', url + path);\n",
              "    anchor.textContent = text;\n",
              "    element.appendChild(anchor);\n",
              "  })(8050, \"/\", \"http://127.0.0.1:8050/\", window.element)"
            ]
          },
          "metadata": {}
        }
      ]
    }
  ]
}