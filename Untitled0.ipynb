{
  "nbformat": 4,
  "nbformat_minor": 0,
  "metadata": {
    "colab": {
      "provenance": [],
      "authorship_tag": "ABX9TyOpULfeFfXA5Dc1B+iug0Sy",
      "include_colab_link": true
    },
    "kernelspec": {
      "name": "python3",
      "display_name": "Python 3"
    },
    "language_info": {
      "name": "python"
    }
  },
  "cells": [
    {
      "cell_type": "markdown",
      "metadata": {
        "id": "view-in-github",
        "colab_type": "text"
      },
      "source": [
        "<a href=\"https://colab.research.google.com/github/AlexeyTri/PROJECT_SCOOL/blob/master/Untitled0.ipynb\" target=\"_parent\"><img src=\"https://colab.research.google.com/assets/colab-badge.svg\" alt=\"Open In Colab\"/></a>"
      ]
    },
    {
      "cell_type": "code",
      "execution_count": null,
      "metadata": {
        "id": "Sk25Dti2Myid"
      },
      "outputs": [],
      "source": [
        "import os\n"
      ]
    },
    {
      "cell_type": "code",
      "source": [
        "import os\n",
        "import openpyxl\n",
        "from openpyxl import load_workbook\n",
        "\n",
        "\n",
        "# book = openpyxl.open(r'C:\\Users\\Alexey.Litovchenko\\OneDrive - Colliers International\\Desktop\\Сводный план-график 2022 11 27.xlsx', read_only=True)\n",
        "#\n",
        "# sheet = book.active\n",
        "# print(sheet['C2'].value)\n",
        "\n",
        "\n",
        "# os.path.dirname()\n",
        "# путь к файлу\n",
        "# file_dir = os.path.dirname('Сводный план-график 2022 11 27.xlsx')\n",
        "dir = os.path.dirname('Сводный план-график 2022 11 27.xlsx')\n",
        "# print(os.path.abspath(os.path.join(os.path.dirname('Сводный план-график 2022 11 27') + 'Сводный план-график 2022 11 27.xlsx')))\n",
        "# print(os.path.dirname('Сводный план-график 2022 11 27.xlsx'))\n",
        "print(os.path.join( os.getcwd(), 'Сводный план-график 2022 11 27.xlsx' ))\n",
        "# print(r'C:\\Users\\Alexey.Litovchenko\\OneDrive - Colliers International\\Desktop')"
      ],
      "metadata": {
        "id": "VwJDfRE-mhiM"
      },
      "execution_count": null,
      "outputs": []
    },
    {
      "cell_type": "code",
      "source": [
        "dir = os.path.dirname(r\"C:/Users/Alexey.Litovchenko/ACCDocs/Nikoliers_Construction/128-03 PjM-22_Школа Новый взгляд/Project Files/2. Графики/2.1. Сводный график/2.1.1 Утверждённые версии/\")"
      ],
      "metadata": {
        "id": "4s9-2BvfM4IR"
      },
      "execution_count": null,
      "outputs": []
    },
    {
      "cell_type": "code",
      "source": [
        "print(os.path.join(dir, 'Сводный план-график 2022 12 28 иса.xlsx' ))"
      ],
      "metadata": {
        "colab": {
          "base_uri": "https://localhost:8080/"
        },
        "id": "jdD7YG25ndnU",
        "outputId": "96cfa4c6-0d06-4b13-8f04-bff4db26dccf"
      },
      "execution_count": null,
      "outputs": [
        {
          "output_type": "stream",
          "name": "stdout",
          "text": [
            "C:/Users/Alexey.Litovchenko/ACCDocs/Nikoliers_Construction/128-03 PjM-22_Школа Новый взгляд/Project Files/2. Графики/2.1. Сводный график/2.1.1 Утверждённые версии/Сводный план-график 2022 12 28 иса.xlsx\n"
          ]
        }
      ]
    },
    {
      "cell_type": "code",
      "source": [
        "os.listdir(r\"C://\")"
      ],
      "metadata": {
        "colab": {
          "base_uri": "https://localhost:8080/",
          "height": 165
        },
        "id": "shr-xwQ8OVFa",
        "outputId": "ec60fdd5-85e3-4267-cdb2-50cecde77b44"
      },
      "execution_count": null,
      "outputs": [
        {
          "output_type": "error",
          "ename": "FileNotFoundError",
          "evalue": "ignored",
          "traceback": [
            "\u001b[0;31m---------------------------------------------------------------------------\u001b[0m",
            "\u001b[0;31mFileNotFoundError\u001b[0m                         Traceback (most recent call last)",
            "\u001b[0;32m<ipython-input-15-efd12a0afecc>\u001b[0m in \u001b[0;36m<module>\u001b[0;34m\u001b[0m\n\u001b[0;32m----> 1\u001b[0;31m \u001b[0mos\u001b[0m\u001b[0;34m.\u001b[0m\u001b[0mlistdir\u001b[0m\u001b[0;34m(\u001b[0m\u001b[0;34mr\"C://\"\u001b[0m\u001b[0;34m)\u001b[0m\u001b[0;34m\u001b[0m\u001b[0;34m\u001b[0m\u001b[0m\n\u001b[0m",
            "\u001b[0;31mFileNotFoundError\u001b[0m: [Errno 2] No such file or directory: 'C://'"
          ]
        }
      ]
    },
    {
      "cell_type": "code",
      "source": [
        "os.getcwd()"
      ],
      "metadata": {
        "colab": {
          "base_uri": "https://localhost:8080/",
          "height": 35
        },
        "id": "VUy5mhZDofs-",
        "outputId": "f524ae49-814d-4ba4-d43e-8701a8fc3afc"
      },
      "execution_count": null,
      "outputs": [
        {
          "output_type": "execute_result",
          "data": {
            "text/plain": [
              "'/content'"
            ],
            "application/vnd.google.colaboratory.intrinsic+json": {
              "type": "string"
            }
          },
          "metadata": {},
          "execution_count": 16
        }
      ]
    },
    {
      "cell_type": "code",
      "source": [
        "from google.colab import files\n"
      ],
      "metadata": {
        "id": "UCaipIx4O4BW"
      },
      "execution_count": null,
      "outputs": []
    },
    {
      "cell_type": "code",
      "source": [
        "files.download(r\"C:\\Users\\Alexey.Litovchenko\\ACCDocs\\Nikoliers_Construction\\128-03 PjM-22_Школа Новый взгляд\\Project Files\\2. Графики\\2.1. Сводный график\\2.1.1 Утверждённые версии\\Сводный план-график 2022 12 28 иса\")"
      ],
      "metadata": {
        "colab": {
          "base_uri": "https://localhost:8080/",
          "height": 356
        },
        "id": "RQanpVN-O5qF",
        "outputId": "76defcd9-31fc-44f0-b27b-eaea8b0163b0"
      },
      "execution_count": null,
      "outputs": [
        {
          "output_type": "error",
          "ename": "FileNotFoundError",
          "evalue": "ignored",
          "traceback": [
            "\u001b[0;31m---------------------------------------------------------------------------\u001b[0m",
            "\u001b[0;31mFileNotFoundError\u001b[0m                         Traceback (most recent call last)",
            "\u001b[0;32m<ipython-input-19-3ce1293ff10d>\u001b[0m in \u001b[0;36m<module>\u001b[0;34m\u001b[0m\n\u001b[0;32m----> 1\u001b[0;31m \u001b[0mfiles\u001b[0m\u001b[0;34m.\u001b[0m\u001b[0mdownload\u001b[0m\u001b[0;34m(\u001b[0m\u001b[0;34mr\"C:\\Users\\Alexey.Litovchenko\\ACCDocs\\Nikoliers_Construction\\128-03 PjM-22_Школа Новый взгляд\\Project Files\\2. Графики\\2.1. Сводный график\\2.1.1 Утверждённые версии\\Сводный план-график 2022 12 28 иса\"\u001b[0m\u001b[0;34m)\u001b[0m\u001b[0;34m\u001b[0m\u001b[0;34m\u001b[0m\u001b[0m\n\u001b[0m",
            "\u001b[0;32m/usr/local/lib/python3.8/dist-packages/google/colab/files.py\u001b[0m in \u001b[0;36mdownload\u001b[0;34m(filename)\u001b[0m\n\u001b[1;32m    207\u001b[0m   \u001b[0;32mif\u001b[0m \u001b[0;32mnot\u001b[0m \u001b[0m_os\u001b[0m\u001b[0;34m.\u001b[0m\u001b[0mpath\u001b[0m\u001b[0;34m.\u001b[0m\u001b[0mexists\u001b[0m\u001b[0;34m(\u001b[0m\u001b[0mfilename\u001b[0m\u001b[0;34m)\u001b[0m\u001b[0;34m:\u001b[0m\u001b[0;34m\u001b[0m\u001b[0;34m\u001b[0m\u001b[0m\n\u001b[1;32m    208\u001b[0m     \u001b[0mmsg\u001b[0m \u001b[0;34m=\u001b[0m \u001b[0;34m'Cannot find file: {}'\u001b[0m\u001b[0;34m.\u001b[0m\u001b[0mformat\u001b[0m\u001b[0;34m(\u001b[0m\u001b[0mfilename\u001b[0m\u001b[0;34m)\u001b[0m\u001b[0;34m\u001b[0m\u001b[0;34m\u001b[0m\u001b[0m\n\u001b[0;32m--> 209\u001b[0;31m     \u001b[0;32mraise\u001b[0m \u001b[0mFileNotFoundError\u001b[0m\u001b[0;34m(\u001b[0m\u001b[0mmsg\u001b[0m\u001b[0;34m)\u001b[0m  \u001b[0;31m# pylint: disable=undefined-variable\u001b[0m\u001b[0;34m\u001b[0m\u001b[0;34m\u001b[0m\u001b[0m\n\u001b[0m\u001b[1;32m    210\u001b[0m \u001b[0;34m\u001b[0m\u001b[0m\n\u001b[1;32m    211\u001b[0m   \u001b[0mcomm_manager\u001b[0m \u001b[0;34m=\u001b[0m \u001b[0m_IPython\u001b[0m\u001b[0;34m.\u001b[0m\u001b[0mget_ipython\u001b[0m\u001b[0;34m(\u001b[0m\u001b[0;34m)\u001b[0m\u001b[0;34m.\u001b[0m\u001b[0mkernel\u001b[0m\u001b[0;34m.\u001b[0m\u001b[0mcomm_manager\u001b[0m\u001b[0;34m\u001b[0m\u001b[0;34m\u001b[0m\u001b[0m\n",
            "\u001b[0;31mFileNotFoundError\u001b[0m: Cannot find file: C:\\Users\\Alexey.Litovchenko\\ACCDocs\\Nikoliers_Construction\\128-03 PjM-22_Школа Новый взгляд\\Project Files\\2. Графики\\2.1. Сводный график\\2.1.1 Утверждённые версии\\Сводный план-график 2022 12 28 иса"
          ]
        }
      ]
    }
  ]
}