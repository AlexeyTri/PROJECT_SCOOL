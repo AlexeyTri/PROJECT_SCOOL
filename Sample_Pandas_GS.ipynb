{
  "nbformat": 4,
  "nbformat_minor": 0,
  "metadata": {
    "colab": {
      "provenance": [],
      "toc_visible": true,
      "mount_file_id": "1e0eSFZebXmVc11YFwHwK52ojs7_puZwB",
      "authorship_tag": "ABX9TyOwoa9RR3yD8JQUN0e8/17/",
      "include_colab_link": true
    },
    "kernelspec": {
      "name": "python3",
      "display_name": "Python 3"
    },
    "language_info": {
      "name": "python"
    }
  },
  "cells": [
    {
      "cell_type": "markdown",
      "metadata": {
        "id": "view-in-github",
        "colab_type": "text"
      },
      "source": [
        "<a href=\"https://colab.research.google.com/github/AlexeyTri/PROJECT_SCOOL/blob/master/Sample_Pandas_GS.ipynb\" target=\"_parent\"><img src=\"https://colab.research.google.com/assets/colab-badge.svg\" alt=\"Open In Colab\"/></a>"
      ]
    },
    {
      "cell_type": "markdown",
      "source": [
        "# Подключение данных\n"
      ],
      "metadata": {
        "id": "7JLpupsfcAVT"
      }
    },
    {
      "cell_type": "markdown",
      "source": [
        "ПЛАН по договору"
      ],
      "metadata": {
        "id": "xwlkbPOQcHJF"
      }
    },
    {
      "cell_type": "code",
      "execution_count": 3,
      "metadata": {
        "id": "O8Cqk3vhctqr"
      },
      "outputs": [],
      "source": [
        "from google.colab import auth\n",
        "auth.authenticate_user()\n",
        "\n",
        "import gspread\n",
        "from google.auth import default\n",
        "creds, _ = default()\n",
        "\n",
        "gc = gspread.authorize(creds)\n",
        "\n",
        "# worksheet = gc.open('План работ Договор Адамант').sheet1\n",
        "worksheet = gc.open('План работ Договор Адамант')\n",
        "\n",
        "\n",
        "# # get_all_values gives a list of rows.\n",
        "# rows = worksheet.get_all_values()\n",
        "# print(rows)\n",
        "\n",
        "# # Convert to a DataFrame and render.\n",
        "import pandas as pd\n",
        "# pd.DataFrame.from_records(rows)"
      ]
    },
    {
      "cell_type": "code",
      "source": [
        "worksheet.add_worksheet(\"new_Finance_Plan\",20,20)"
      ],
      "metadata": {
        "id": "EwqGCqg7a4R2"
      },
      "execution_count": null,
      "outputs": []
    },
    {
      "cell_type": "code",
      "source": [
        "# метаданные таблицы - все листы, форматы и т.д.\n",
        "worksheet.fetch_sheet_metadata()"
      ],
      "metadata": {
        "id": "v72nRLydcSM8"
      },
      "execution_count": null,
      "outputs": []
    },
    {
      "cell_type": "code",
      "source": [
        "# возвращает название листа и его ади, обращение к листу\n",
        "worksheet.get_worksheet(2)"
      ],
      "metadata": {
        "id": "u8WlpCJ0d6kX"
      },
      "execution_count": null,
      "outputs": []
    },
    {
      "cell_type": "code",
      "source": [
        "# список лиц доступ которым открыт\n",
        "worksheet.list_permissions()"
      ],
      "metadata": {
        "id": "NvUHnOBxekNw"
      },
      "execution_count": null,
      "outputs": []
    },
    {
      "cell_type": "code",
      "source": [
        "# удалить разрешение\n",
        "worksheet.remove_permissions()"
      ],
      "metadata": {
        "id": "DOQT2ai8e6u5"
      },
      "execution_count": null,
      "outputs": []
    },
    {
      "cell_type": "code",
      "source": [
        "# вставить данные\n",
        "worksheet.worksheet(\"new_Finance_Plan\").update('A1', [[1,3], [5,7]])"
      ],
      "metadata": {
        "id": "Zs4KvfTxfJTl"
      },
      "execution_count": null,
      "outputs": []
    },
    {
      "cell_type": "code",
      "source": [
        "worksheet.worksheet(\"new_Finance_Plan\").format()"
      ],
      "metadata": {
        "id": "fq2LgjS8h4zI"
      },
      "execution_count": null,
      "outputs": []
    },
    {
      "cell_type": "code",
      "source": [
        "# список листов\n",
        "worksheet.worksheets()"
      ],
      "metadata": {
        "id": "fM_FSkY2kXgY"
      },
      "execution_count": null,
      "outputs": []
    },
    {
      "cell_type": "code",
      "source": [
        "# данные ячейки\n",
        "worksheet.worksheet(\"new_Finance_Plan\").acell('A1').value\n",
        "worksheet.worksheet(\"new_Finance_Plan\").acell('A1', value_render_option='FORMULA').value"
      ],
      "metadata": {
        "id": "9ov8lAGqkuGH"
      },
      "execution_count": null,
      "outputs": []
    },
    {
      "cell_type": "code",
      "source": [
        "# данные из конкретного стоки-столбца\n",
        "worksheet.worksheet(\"new_Finance_Plan\").row_values(1)"
      ],
      "metadata": {
        "id": "yIzOCa0kl0BM"
      },
      "execution_count": null,
      "outputs": []
    },
    {
      "cell_type": "code",
      "source": [
        "# все данные построчно\n",
        "worksheet.worksheet(\"Нормы выработки\").get_all_values()"
      ],
      "metadata": {
        "id": "q6F8S7HdmTIT"
      },
      "execution_count": null,
      "outputs": []
    },
    {
      "cell_type": "code",
      "source": [
        "worksheet.worksheet(\"Нормы выработки\").get_all_records()"
      ],
      "metadata": {
        "id": "3aCZcZdrmvBg"
      },
      "execution_count": null,
      "outputs": []
    },
    {
      "cell_type": "code",
      "source": [
        "# поиск номера ячейки по значению\n",
        "worksheet.worksheet(\"Нормы выработки\").find(\"OOS_KZ01_BK0_BFP_ARM.01\")."
      ],
      "metadata": {
        "colab": {
          "base_uri": "https://localhost:8080/"
        },
        "id": "LLrSjbJUqmiT",
        "outputId": "ae112c64-f0c1-46ba-d014-5c7a831aae5e"
      },
      "execution_count": 44,
      "outputs": [
        {
          "output_type": "execute_result",
          "data": {
            "text/plain": [
              "<Cell R9C1 'OOS_KZ01_BK0_BFP_ARM.01'>"
            ]
          },
          "metadata": {},
          "execution_count": 44
        }
      ]
    },
    {
      "cell_type": "code",
      "source": [
        "import re\n",
        "amount_re = re.compile(r'Монтаж труб-распорок в осях 16-18/А-Г')\n",
        "cell = worksheet.worksheet(\"Нормы выработки\").find(amount_re)\n",
        "print(cell)"
      ],
      "metadata": {
        "colab": {
          "base_uri": "https://localhost:8080/"
        },
        "id": "p3fQqB7DrLsv",
        "outputId": "ac8dad5c-660c-4294-98b2-e8a8ec22c417"
      },
      "execution_count": 47,
      "outputs": [
        {
          "output_type": "stream",
          "name": "stdout",
          "text": [
            "<Cell R17C2 'Монтаж труб-распорок в осях 16-18/А-Г'>\n"
          ]
        }
      ]
    },
    {
      "cell_type": "code",
      "source": [
        "# вывод всех ячеек с указанным значением\n",
        "amount_re = re.compile(r'тн')\n",
        "cell = worksheet.worksheet(\"Нормы выработки\").findall(amount_re)\n",
        "print(cell)"
      ],
      "metadata": {
        "colab": {
          "base_uri": "https://localhost:8080/"
        },
        "id": "GwpSHxk5rk6Z",
        "outputId": "7e778764-b0c1-43ac-e379-78b3d1c488d8"
      },
      "execution_count": 48,
      "outputs": [
        {
          "output_type": "stream",
          "name": "stdout",
          "text": [
            "[<Cell R8C2 'Армирование фундаментной плиты'>, <Cell R8C3 'тн'>, <Cell R9C2 'Армирование фундаментной плиты'>, <Cell R9C3 'тн'>, <Cell R10C2 'Армирование фундаментной плиты'>, <Cell R10C3 'тн'>, <Cell R11C2 'Бетонирование фундаментной плиты'>, <Cell R12C2 'Бетонирование фундаментной плиты'>, <Cell R13C2 'Бетонирование фундаментной плиты'>, <Cell R13C9 'тн'>, <Cell R14C3 'тн'>, <Cell R17C3 'тн'>, <Cell R20C3 'тн'>, <Cell R23C3 'тн'>, <Cell R26C3 'тн'>, <Cell R29C3 'тн'>, <Cell R32C3 'тн'>, <Cell R35C3 'тн'>]\n"
          ]
        }
      ]
    },
    {
      "cell_type": "code",
      "source": [
        "import pandas as pd\n",
        "pd =pd.DataFrame(worksheet.worksheet(\"Нормы выработки\").get_all_records())\n",
        "pd"
      ],
      "metadata": {
        "id": "J810k2E2uImx"
      },
      "execution_count": null,
      "outputs": []
    },
    {
      "cell_type": "code",
      "source": [
        "# вставить датафрейм в таблицу\n",
        "worksheet.worksheet(\"new_Finance_Plan\").update([pd.columns.values.tolist()] + pd.values.tolist())"
      ],
      "metadata": {
        "id": "eQagn2tavw3b"
      },
      "execution_count": null,
      "outputs": []
    },
    {
      "cell_type": "code",
      "source": [
        "# заморозка ячеек\n",
        "ws = worksheet.worksheet(\"new_Finance_Plan\")\n",
        "ws.freeze(rows=None, cols=5)"
      ],
      "metadata": {
        "id": "xBpC0crRwK9i"
      },
      "execution_count": null,
      "outputs": []
    },
    {
      "cell_type": "code",
      "source": [
        "ws.spreadsheet"
      ],
      "metadata": {
        "colab": {
          "base_uri": "https://localhost:8080/"
        },
        "id": "V3PxjqHk0MfF",
        "outputId": "8ef15d36-59a7-4325-9649-e5bcc2430416"
      },
      "execution_count": 69,
      "outputs": [
        {
          "output_type": "execute_result",
          "data": {
            "text/plain": [
              "<Spreadsheet 'План работ Договор Адамант' id:1ngWR2k38yG5qDWfwA9LKi4-R9q9PrIHludYb5vSh4Gc>"
            ]
          },
          "metadata": {},
          "execution_count": 69
        }
      ]
    }
  ]
}